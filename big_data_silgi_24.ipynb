{
 "cells": [
  {
   "cell_type": "code",
   "execution_count": 1,
   "metadata": {},
   "outputs": [
    {
     "name": "stdout",
     "output_type": "stream",
     "text": [
      "Note: you may need to restart the kernel to use updated packages.\n"
     ]
    }
   ],
   "source": [
    "pip install opendata-kr -q"
   ]
  },
  {
   "cell_type": "code",
   "execution_count": 2,
   "metadata": {},
   "outputs": [
    {
     "name": "stdout",
     "output_type": "stream",
     "text": [
      "======= 다운로드 시작 =======\n",
      "\n",
      "data/seoul_bicycle.csv\n"
     ]
    },
    {
     "data": {
      "application/vnd.jupyter.widget-view+json": {
       "model_id": "e84940cef0404ee98fec810d38f3962c",
       "version_major": 2,
       "version_minor": 0
      },
      "text/plain": [
       "  0%|          | 0.00/31.1M [00:00<?, ?B/s]"
      ]
     },
     "metadata": {},
     "output_type": "display_data"
    },
    {
     "name": "stdout",
     "output_type": "stream",
     "text": [
      "\n",
      "======= 다운로드 완료 =======\n"
     ]
    }
   ],
   "source": [
    "from opendata import dataset\n",
    "\n",
    "\n",
    "dataset.download('서울시자전거')"
   ]
  },
  {
   "cell_type": "code",
   "execution_count": 9,
   "metadata": {},
   "outputs": [
    {
     "name": "stdout",
     "output_type": "stream",
     "text": [
      "<class 'pandas.core.frame.DataFrame'>\n",
      "RangeIndex: 327231 entries, 0 to 327230\n",
      "Data columns (total 11 columns):\n",
      " #   Column  Non-Null Count   Dtype  \n",
      "---  ------  --------------   -----  \n",
      " 0   대여일자    327231 non-null  object \n",
      " 1   대여소번호   327231 non-null  int64  \n",
      " 2   대여소명    327231 non-null  object \n",
      " 3   대여구분코드  327231 non-null  object \n",
      " 4   성별      272841 non-null  object \n",
      " 5   연령대코드   327231 non-null  object \n",
      " 6   이용건수    327231 non-null  int64  \n",
      " 7   운동량     327231 non-null  object \n",
      " 8   탄소량     327231 non-null  object \n",
      " 9   이동거리    327231 non-null  float64\n",
      " 10  이용시간    327231 non-null  int64  \n",
      "dtypes: float64(1), int64(3), object(7)\n",
      "memory usage: 27.5+ MB\n"
     ]
    }
   ],
   "source": [
    "import pandas as pd\n",
    "# 데이터셋 로드\n",
    "df2 = pd.read_csv('data/seoul_bicycle.csv')\n",
    "df2.info()"
   ]
  },
  {
   "cell_type": "code",
   "execution_count": 10,
   "metadata": {},
   "outputs": [
    {
     "data": {
      "text/html": [
       "<div>\n",
       "<style scoped>\n",
       "    .dataframe tbody tr th:only-of-type {\n",
       "        vertical-align: middle;\n",
       "    }\n",
       "\n",
       "    .dataframe tbody tr th {\n",
       "        vertical-align: top;\n",
       "    }\n",
       "\n",
       "    .dataframe thead th {\n",
       "        text-align: right;\n",
       "    }\n",
       "</style>\n",
       "<table border=\"1\" class=\"dataframe\">\n",
       "  <thead>\n",
       "    <tr style=\"text-align: right;\">\n",
       "      <th></th>\n",
       "      <th>대여일자</th>\n",
       "      <th>대여소번호</th>\n",
       "      <th>대여소명</th>\n",
       "      <th>대여구분코드</th>\n",
       "      <th>성별</th>\n",
       "      <th>연령대코드</th>\n",
       "      <th>이용건수</th>\n",
       "      <th>운동량</th>\n",
       "      <th>탄소량</th>\n",
       "      <th>이동거리</th>\n",
       "      <th>이용시간</th>\n",
       "    </tr>\n",
       "  </thead>\n",
       "  <tbody>\n",
       "    <tr>\n",
       "      <th>0</th>\n",
       "      <td>Jan-20-2020</td>\n",
       "      <td>3</td>\n",
       "      <td>중랑센터</td>\n",
       "      <td>일일(회원)</td>\n",
       "      <td>M</td>\n",
       "      <td>AGE_003</td>\n",
       "      <td>3</td>\n",
       "      <td>61.82</td>\n",
       "      <td>0.52</td>\n",
       "      <td>2230.0</td>\n",
       "      <td>75</td>\n",
       "    </tr>\n",
       "    <tr>\n",
       "      <th>1</th>\n",
       "      <td>Jan-20-2020</td>\n",
       "      <td>3</td>\n",
       "      <td>중랑센터</td>\n",
       "      <td>일일(회원)</td>\n",
       "      <td>M</td>\n",
       "      <td>AGE_004</td>\n",
       "      <td>1</td>\n",
       "      <td>39.62</td>\n",
       "      <td>0.28</td>\n",
       "      <td>1220.0</td>\n",
       "      <td>15</td>\n",
       "    </tr>\n",
       "    <tr>\n",
       "      <th>2</th>\n",
       "      <td>Jan-20-2020</td>\n",
       "      <td>3</td>\n",
       "      <td>중랑센터</td>\n",
       "      <td>정기</td>\n",
       "      <td>M</td>\n",
       "      <td>AGE_005</td>\n",
       "      <td>3</td>\n",
       "      <td>430.85</td>\n",
       "      <td>4.01</td>\n",
       "      <td>17270.0</td>\n",
       "      <td>53</td>\n",
       "    </tr>\n",
       "    <tr>\n",
       "      <th>3</th>\n",
       "      <td>Jan-20-2020</td>\n",
       "      <td>5</td>\n",
       "      <td>상암센터 정비실</td>\n",
       "      <td>일일(회원)</td>\n",
       "      <td>\\N</td>\n",
       "      <td>AGE_005</td>\n",
       "      <td>2</td>\n",
       "      <td>1.79</td>\n",
       "      <td>0.02</td>\n",
       "      <td>90.0</td>\n",
       "      <td>33</td>\n",
       "    </tr>\n",
       "    <tr>\n",
       "      <th>4</th>\n",
       "      <td>Jan-20-2020</td>\n",
       "      <td>5</td>\n",
       "      <td>상암센터 정비실</td>\n",
       "      <td>정기</td>\n",
       "      <td>F</td>\n",
       "      <td>AGE_003</td>\n",
       "      <td>1</td>\n",
       "      <td>4501.96</td>\n",
       "      <td>45.47</td>\n",
       "      <td>196010.0</td>\n",
       "      <td>64</td>\n",
       "    </tr>\n",
       "  </tbody>\n",
       "</table>\n",
       "</div>"
      ],
      "text/plain": [
       "          대여일자  대여소번호      대여소명  대여구분코드  성별    연령대코드  이용건수      운동량    탄소량  \\\n",
       "0  Jan-20-2020      3      중랑센터  일일(회원)   M  AGE_003     3    61.82   0.52   \n",
       "1  Jan-20-2020      3      중랑센터  일일(회원)   M  AGE_004     1    39.62   0.28   \n",
       "2  Jan-20-2020      3      중랑센터      정기   M  AGE_005     3   430.85   4.01   \n",
       "3  Jan-20-2020      5  상암센터 정비실  일일(회원)  \\N  AGE_005     2     1.79   0.02   \n",
       "4  Jan-20-2020      5  상암센터 정비실      정기   F  AGE_003     1  4501.96  45.47   \n",
       "\n",
       "       이동거리  이용시간  \n",
       "0    2230.0    75  \n",
       "1    1220.0    15  \n",
       "2   17270.0    53  \n",
       "3      90.0    33  \n",
       "4  196010.0    64  "
      ]
     },
     "execution_count": 10,
     "metadata": {},
     "output_type": "execute_result"
    }
   ],
   "source": [
    "df2.head(5)"
   ]
  },
  {
   "cell_type": "code",
   "execution_count": 11,
   "metadata": {},
   "outputs": [],
   "source": [
    "df2.to_csv('seoul_bicycle.csv')"
   ]
  },
  {
   "cell_type": "code",
   "execution_count": 13,
   "metadata": {},
   "outputs": [
    {
     "data": {
      "text/plain": [
       "',대여일자,대여소번호,대여소명,대여구분코드,성별,연령대코드,이용건수,운동량,탄소량,이동거리,이용시간\\n'"
      ]
     },
     "metadata": {},
     "output_type": "display_data"
    },
    {
     "data": {
      "text/plain": [
       "'0,Jan-20-2020,3,중랑센터,일일(회원),M,AGE_003,3,61.82,0.52,2230.0,75\\n'"
      ]
     },
     "metadata": {},
     "output_type": "display_data"
    },
    {
     "data": {
      "text/plain": [
       "'1,Jan-20-2020,3,중랑센터,일일(회원),M,AGE_004,1,39.62,0.28,1220.0,15\\n'"
      ]
     },
     "metadata": {},
     "output_type": "display_data"
    },
    {
     "data": {
      "text/plain": [
       "'2,Jan-20-2020,3,중랑센터,정기,M,AGE_005,3,430.85,4.01,17270.0,53\\n'"
      ]
     },
     "metadata": {},
     "output_type": "display_data"
    },
    {
     "data": {
      "text/plain": [
       "'3,Jan-20-2020,5,상암센터 정비실,일일(회원),\\\\N,AGE_005,2,1.79,0.02,90.0,33\\n'"
      ]
     },
     "metadata": {},
     "output_type": "display_data"
    }
   ],
   "source": [
    "with open('seoul_bicycle.csv') as sb:\n",
    "    for i in range(5):\n",
    "        display(sb.readline())"
   ]
  },
  {
   "cell_type": "code",
   "execution_count": 7,
   "metadata": {},
   "outputs": [
    {
     "ename": "TypeError",
     "evalue": "Expected object of type bytes or bytearray, got: <class 'pandas.core.series.Series'>",
     "output_type": "error",
     "traceback": [
      "\u001b[0;31m---------------------------------------------------------------------------\u001b[0m",
      "\u001b[0;31mTypeError\u001b[0m                                 Traceback (most recent call last)",
      "Cell \u001b[0;32mIn[7], line 3\u001b[0m\n\u001b[1;32m      1\u001b[0m \u001b[39mimport\u001b[39;00m \u001b[39mchardet\u001b[39;00m\n\u001b[0;32m----> 3\u001b[0m \u001b[39mprint\u001b[39m(chardet\u001b[39m.\u001b[39;49mdetect(df2\u001b[39m.\u001b[39;49m대여일자))\n",
      "File \u001b[0;32m~/anaconda3/lib/python3.10/site-packages/chardet/__init__.py:36\u001b[0m, in \u001b[0;36mdetect\u001b[0;34m(byte_str)\u001b[0m\n\u001b[1;32m     34\u001b[0m \u001b[39mif\u001b[39;00m \u001b[39mnot\u001b[39;00m \u001b[39misinstance\u001b[39m(byte_str, \u001b[39mbytearray\u001b[39m):\n\u001b[1;32m     35\u001b[0m     \u001b[39mif\u001b[39;00m \u001b[39mnot\u001b[39;00m \u001b[39misinstance\u001b[39m(byte_str, \u001b[39mbytes\u001b[39m):\n\u001b[0;32m---> 36\u001b[0m         \u001b[39mraise\u001b[39;00m \u001b[39mTypeError\u001b[39;00m(\u001b[39m'\u001b[39m\u001b[39mExpected object of type bytes or bytearray, got: \u001b[39m\u001b[39m'\u001b[39m\n\u001b[1;32m     37\u001b[0m                         \u001b[39m'\u001b[39m\u001b[39m{}\u001b[39;00m\u001b[39m'\u001b[39m\u001b[39m.\u001b[39mformat(\u001b[39mtype\u001b[39m(byte_str)))\n\u001b[1;32m     38\u001b[0m     \u001b[39melse\u001b[39;00m:\n\u001b[1;32m     39\u001b[0m         byte_str \u001b[39m=\u001b[39m \u001b[39mbytearray\u001b[39m(byte_str)\n",
      "\u001b[0;31mTypeError\u001b[0m: Expected object of type bytes or bytearray, got: <class 'pandas.core.series.Series'>"
     ]
    }
   ],
   "source": [
    "import chardet\n",
    "\n",
    "print(chardet.detect(df2.대여일자))"
   ]
  },
  {
   "cell_type": "code",
   "execution_count": 300,
   "metadata": {},
   "outputs": [],
   "source": [
    "df2.대여소명=df2.대여소명.astype('category')"
   ]
  },
  {
   "cell_type": "code",
   "execution_count": 302,
   "metadata": {},
   "outputs": [],
   "source": [
    "df2=pd.get_dummies(df2)"
   ]
  },
  {
   "cell_type": "code",
   "execution_count": 276,
   "metadata": {},
   "outputs": [
    {
     "name": "stderr",
     "output_type": "stream",
     "text": [
      "/Users/macbook/opt/anaconda3/lib/python3.8/site-packages/IPython/core/pylabtools.py:152: UserWarning: Glyph 50868 (\\N{HANGUL SYLLABLE UN}) missing from current font.\n",
      "  fig.canvas.print_figure(bytes_io, **kw)\n",
      "/Users/macbook/opt/anaconda3/lib/python3.8/site-packages/IPython/core/pylabtools.py:152: UserWarning: Glyph 46041 (\\N{HANGUL SYLLABLE DONG}) missing from current font.\n",
      "  fig.canvas.print_figure(bytes_io, **kw)\n",
      "/Users/macbook/opt/anaconda3/lib/python3.8/site-packages/IPython/core/pylabtools.py:152: UserWarning: Glyph 47049 (\\N{HANGUL SYLLABLE RYANG}) missing from current font.\n",
      "  fig.canvas.print_figure(bytes_io, **kw)\n"
     ]
    },
    {
     "ename": "KeyboardInterrupt",
     "evalue": "",
     "output_type": "error",
     "traceback": [
      "\u001b[0;31m---------------------------------------------------------------------------\u001b[0m",
      "\u001b[0;31mKeyboardInterrupt\u001b[0m                         Traceback (most recent call last)",
      "Cell \u001b[0;32mIn[276], line 12\u001b[0m\n\u001b[1;32m      9\u001b[0m ax[\u001b[39m1\u001b[39m]\u001b[39m.\u001b[39mhist(df2[\u001b[39m'\u001b[39m\u001b[39m이동거리\u001b[39m\u001b[39m'\u001b[39m])\n\u001b[1;32m     10\u001b[0m ax[\u001b[39m1\u001b[39m]\u001b[39m.\u001b[39mset_title(\u001b[39m'\u001b[39m\u001b[39m이동거리\u001b[39m\u001b[39m'\u001b[39m)\n\u001b[0;32m---> 12\u001b[0m plt\u001b[39m.\u001b[39;49mshow()\n",
      "File \u001b[0;32m~/opt/anaconda3/lib/python3.8/site-packages/matplotlib/pyplot.py:446\u001b[0m, in \u001b[0;36mshow\u001b[0;34m(*args, **kwargs)\u001b[0m\n\u001b[1;32m    402\u001b[0m \u001b[39m\u001b[39m\u001b[39m\"\"\"\u001b[39;00m\n\u001b[1;32m    403\u001b[0m \u001b[39mDisplay all open figures.\u001b[39;00m\n\u001b[1;32m    404\u001b[0m \n\u001b[0;32m   (...)\u001b[0m\n\u001b[1;32m    443\u001b[0m \u001b[39mexplicitly there.\u001b[39;00m\n\u001b[1;32m    444\u001b[0m \u001b[39m\"\"\"\u001b[39;00m\n\u001b[1;32m    445\u001b[0m _warn_if_gui_out_of_main_thread()\n\u001b[0;32m--> 446\u001b[0m \u001b[39mreturn\u001b[39;00m _get_backend_mod()\u001b[39m.\u001b[39;49mshow(\u001b[39m*\u001b[39;49margs, \u001b[39m*\u001b[39;49m\u001b[39m*\u001b[39;49mkwargs)\n",
      "File \u001b[0;32m~/opt/anaconda3/lib/python3.8/site-packages/matplotlib_inline/backend_inline.py:90\u001b[0m, in \u001b[0;36mshow\u001b[0;34m(close, block)\u001b[0m\n\u001b[1;32m     88\u001b[0m \u001b[39mtry\u001b[39;00m:\n\u001b[1;32m     89\u001b[0m     \u001b[39mfor\u001b[39;00m figure_manager \u001b[39min\u001b[39;00m Gcf\u001b[39m.\u001b[39mget_all_fig_managers():\n\u001b[0;32m---> 90\u001b[0m         display(\n\u001b[1;32m     91\u001b[0m             figure_manager\u001b[39m.\u001b[39;49mcanvas\u001b[39m.\u001b[39;49mfigure,\n\u001b[1;32m     92\u001b[0m             metadata\u001b[39m=\u001b[39;49m_fetch_figure_metadata(figure_manager\u001b[39m.\u001b[39;49mcanvas\u001b[39m.\u001b[39;49mfigure)\n\u001b[1;32m     93\u001b[0m         )\n\u001b[1;32m     94\u001b[0m \u001b[39mfinally\u001b[39;00m:\n\u001b[1;32m     95\u001b[0m     show\u001b[39m.\u001b[39m_to_draw \u001b[39m=\u001b[39m []\n",
      "File \u001b[0;32m~/opt/anaconda3/lib/python3.8/site-packages/IPython/core/display_functions.py:298\u001b[0m, in \u001b[0;36mdisplay\u001b[0;34m(include, exclude, metadata, transient, display_id, raw, clear, *objs, **kwargs)\u001b[0m\n\u001b[1;32m    296\u001b[0m     publish_display_data(data\u001b[39m=\u001b[39mobj, metadata\u001b[39m=\u001b[39mmetadata, \u001b[39m*\u001b[39m\u001b[39m*\u001b[39mkwargs)\n\u001b[1;32m    297\u001b[0m \u001b[39melse\u001b[39;00m:\n\u001b[0;32m--> 298\u001b[0m     format_dict, md_dict \u001b[39m=\u001b[39m \u001b[39mformat\u001b[39;49m(obj, include\u001b[39m=\u001b[39;49minclude, exclude\u001b[39m=\u001b[39;49mexclude)\n\u001b[1;32m    299\u001b[0m     \u001b[39mif\u001b[39;00m \u001b[39mnot\u001b[39;00m format_dict:\n\u001b[1;32m    300\u001b[0m         \u001b[39m# nothing to display (e.g. _ipython_display_ took over)\u001b[39;00m\n\u001b[1;32m    301\u001b[0m         \u001b[39mcontinue\u001b[39;00m\n",
      "File \u001b[0;32m~/opt/anaconda3/lib/python3.8/site-packages/IPython/core/formatters.py:179\u001b[0m, in \u001b[0;36mDisplayFormatter.format\u001b[0;34m(self, obj, include, exclude)\u001b[0m\n\u001b[1;32m    177\u001b[0m md \u001b[39m=\u001b[39m \u001b[39mNone\u001b[39;00m\n\u001b[1;32m    178\u001b[0m \u001b[39mtry\u001b[39;00m:\n\u001b[0;32m--> 179\u001b[0m     data \u001b[39m=\u001b[39m formatter(obj)\n\u001b[1;32m    180\u001b[0m \u001b[39mexcept\u001b[39;00m:\n\u001b[1;32m    181\u001b[0m     \u001b[39m# FIXME: log the exception\u001b[39;00m\n\u001b[1;32m    182\u001b[0m     \u001b[39mraise\u001b[39;00m\n",
      "File \u001b[0;32m~/opt/anaconda3/lib/python3.8/site-packages/decorator.py:232\u001b[0m, in \u001b[0;36mdecorate.<locals>.fun\u001b[0;34m(*args, **kw)\u001b[0m\n\u001b[1;32m    230\u001b[0m \u001b[39mif\u001b[39;00m \u001b[39mnot\u001b[39;00m kwsyntax:\n\u001b[1;32m    231\u001b[0m     args, kw \u001b[39m=\u001b[39m fix(args, kw, sig)\n\u001b[0;32m--> 232\u001b[0m \u001b[39mreturn\u001b[39;00m caller(func, \u001b[39m*\u001b[39;49m(extras \u001b[39m+\u001b[39;49m args), \u001b[39m*\u001b[39;49m\u001b[39m*\u001b[39;49mkw)\n",
      "File \u001b[0;32m~/opt/anaconda3/lib/python3.8/site-packages/IPython/core/formatters.py:223\u001b[0m, in \u001b[0;36mcatch_format_error\u001b[0;34m(method, self, *args, **kwargs)\u001b[0m\n\u001b[1;32m    221\u001b[0m \u001b[39m\u001b[39m\u001b[39m\"\"\"show traceback on failed format call\"\"\"\u001b[39;00m\n\u001b[1;32m    222\u001b[0m \u001b[39mtry\u001b[39;00m:\n\u001b[0;32m--> 223\u001b[0m     r \u001b[39m=\u001b[39m method(\u001b[39mself\u001b[39;49m, \u001b[39m*\u001b[39;49margs, \u001b[39m*\u001b[39;49m\u001b[39m*\u001b[39;49mkwargs)\n\u001b[1;32m    224\u001b[0m \u001b[39mexcept\u001b[39;00m \u001b[39mNotImplementedError\u001b[39;00m:\n\u001b[1;32m    225\u001b[0m     \u001b[39m# don't warn on NotImplementedErrors\u001b[39;00m\n\u001b[1;32m    226\u001b[0m     \u001b[39mreturn\u001b[39;00m \u001b[39mself\u001b[39m\u001b[39m.\u001b[39m_check_return(\u001b[39mNone\u001b[39;00m, args[\u001b[39m0\u001b[39m])\n",
      "File \u001b[0;32m~/opt/anaconda3/lib/python3.8/site-packages/IPython/core/formatters.py:340\u001b[0m, in \u001b[0;36mBaseFormatter.__call__\u001b[0;34m(self, obj)\u001b[0m\n\u001b[1;32m    338\u001b[0m     \u001b[39mpass\u001b[39;00m\n\u001b[1;32m    339\u001b[0m \u001b[39melse\u001b[39;00m:\n\u001b[0;32m--> 340\u001b[0m     \u001b[39mreturn\u001b[39;00m printer(obj)\n\u001b[1;32m    341\u001b[0m \u001b[39m# Finally look for special method names\u001b[39;00m\n\u001b[1;32m    342\u001b[0m method \u001b[39m=\u001b[39m get_real_method(obj, \u001b[39mself\u001b[39m\u001b[39m.\u001b[39mprint_method)\n",
      "File \u001b[0;32m~/opt/anaconda3/lib/python3.8/site-packages/IPython/core/pylabtools.py:152\u001b[0m, in \u001b[0;36mprint_figure\u001b[0;34m(fig, fmt, bbox_inches, base64, **kwargs)\u001b[0m\n\u001b[1;32m    149\u001b[0m     \u001b[39mfrom\u001b[39;00m \u001b[39mmatplotlib\u001b[39;00m\u001b[39m.\u001b[39;00m\u001b[39mbackend_bases\u001b[39;00m \u001b[39mimport\u001b[39;00m FigureCanvasBase\n\u001b[1;32m    150\u001b[0m     FigureCanvasBase(fig)\n\u001b[0;32m--> 152\u001b[0m fig\u001b[39m.\u001b[39;49mcanvas\u001b[39m.\u001b[39;49mprint_figure(bytes_io, \u001b[39m*\u001b[39;49m\u001b[39m*\u001b[39;49mkw)\n\u001b[1;32m    153\u001b[0m data \u001b[39m=\u001b[39m bytes_io\u001b[39m.\u001b[39mgetvalue()\n\u001b[1;32m    154\u001b[0m \u001b[39mif\u001b[39;00m fmt \u001b[39m==\u001b[39m \u001b[39m'\u001b[39m\u001b[39msvg\u001b[39m\u001b[39m'\u001b[39m:\n",
      "File \u001b[0;32m~/opt/anaconda3/lib/python3.8/site-packages/matplotlib/backend_bases.py:2342\u001b[0m, in \u001b[0;36mFigureCanvasBase.print_figure\u001b[0;34m(self, filename, dpi, facecolor, edgecolor, orientation, format, bbox_inches, pad_inches, bbox_extra_artists, backend, **kwargs)\u001b[0m\n\u001b[1;32m   2336\u001b[0m     renderer \u001b[39m=\u001b[39m _get_renderer(\n\u001b[1;32m   2337\u001b[0m         \u001b[39mself\u001b[39m\u001b[39m.\u001b[39mfigure,\n\u001b[1;32m   2338\u001b[0m         functools\u001b[39m.\u001b[39mpartial(\n\u001b[1;32m   2339\u001b[0m             print_method, orientation\u001b[39m=\u001b[39morientation)\n\u001b[1;32m   2340\u001b[0m     )\n\u001b[1;32m   2341\u001b[0m     \u001b[39mwith\u001b[39;00m \u001b[39mgetattr\u001b[39m(renderer, \u001b[39m\"\u001b[39m\u001b[39m_draw_disabled\u001b[39m\u001b[39m\"\u001b[39m, nullcontext)():\n\u001b[0;32m-> 2342\u001b[0m         \u001b[39mself\u001b[39;49m\u001b[39m.\u001b[39;49mfigure\u001b[39m.\u001b[39;49mdraw(renderer)\n\u001b[1;32m   2344\u001b[0m \u001b[39mif\u001b[39;00m bbox_inches:\n\u001b[1;32m   2345\u001b[0m     \u001b[39mif\u001b[39;00m bbox_inches \u001b[39m==\u001b[39m \u001b[39m\"\u001b[39m\u001b[39mtight\u001b[39m\u001b[39m\"\u001b[39m:\n",
      "File \u001b[0;32m~/opt/anaconda3/lib/python3.8/site-packages/matplotlib/artist.py:95\u001b[0m, in \u001b[0;36m_finalize_rasterization.<locals>.draw_wrapper\u001b[0;34m(artist, renderer, *args, **kwargs)\u001b[0m\n\u001b[1;32m     93\u001b[0m \u001b[39m@wraps\u001b[39m(draw)\n\u001b[1;32m     94\u001b[0m \u001b[39mdef\u001b[39;00m \u001b[39mdraw_wrapper\u001b[39m(artist, renderer, \u001b[39m*\u001b[39margs, \u001b[39m*\u001b[39m\u001b[39m*\u001b[39mkwargs):\n\u001b[0;32m---> 95\u001b[0m     result \u001b[39m=\u001b[39m draw(artist, renderer, \u001b[39m*\u001b[39;49margs, \u001b[39m*\u001b[39;49m\u001b[39m*\u001b[39;49mkwargs)\n\u001b[1;32m     96\u001b[0m     \u001b[39mif\u001b[39;00m renderer\u001b[39m.\u001b[39m_rasterizing:\n\u001b[1;32m     97\u001b[0m         renderer\u001b[39m.\u001b[39mstop_rasterizing()\n",
      "File \u001b[0;32m~/opt/anaconda3/lib/python3.8/site-packages/matplotlib/artist.py:72\u001b[0m, in \u001b[0;36mallow_rasterization.<locals>.draw_wrapper\u001b[0;34m(artist, renderer)\u001b[0m\n\u001b[1;32m     69\u001b[0m     \u001b[39mif\u001b[39;00m artist\u001b[39m.\u001b[39mget_agg_filter() \u001b[39mis\u001b[39;00m \u001b[39mnot\u001b[39;00m \u001b[39mNone\u001b[39;00m:\n\u001b[1;32m     70\u001b[0m         renderer\u001b[39m.\u001b[39mstart_filter()\n\u001b[0;32m---> 72\u001b[0m     \u001b[39mreturn\u001b[39;00m draw(artist, renderer)\n\u001b[1;32m     73\u001b[0m \u001b[39mfinally\u001b[39;00m:\n\u001b[1;32m     74\u001b[0m     \u001b[39mif\u001b[39;00m artist\u001b[39m.\u001b[39mget_agg_filter() \u001b[39mis\u001b[39;00m \u001b[39mnot\u001b[39;00m \u001b[39mNone\u001b[39;00m:\n",
      "File \u001b[0;32m~/opt/anaconda3/lib/python3.8/site-packages/matplotlib/figure.py:3140\u001b[0m, in \u001b[0;36mFigure.draw\u001b[0;34m(self, renderer)\u001b[0m\n\u001b[1;32m   3137\u001b[0m         \u001b[39m# ValueError can occur when resizing a window.\u001b[39;00m\n\u001b[1;32m   3139\u001b[0m \u001b[39mself\u001b[39m\u001b[39m.\u001b[39mpatch\u001b[39m.\u001b[39mdraw(renderer)\n\u001b[0;32m-> 3140\u001b[0m mimage\u001b[39m.\u001b[39;49m_draw_list_compositing_images(\n\u001b[1;32m   3141\u001b[0m     renderer, \u001b[39mself\u001b[39;49m, artists, \u001b[39mself\u001b[39;49m\u001b[39m.\u001b[39;49msuppressComposite)\n\u001b[1;32m   3143\u001b[0m \u001b[39mfor\u001b[39;00m sfig \u001b[39min\u001b[39;00m \u001b[39mself\u001b[39m\u001b[39m.\u001b[39msubfigs:\n\u001b[1;32m   3144\u001b[0m     sfig\u001b[39m.\u001b[39mdraw(renderer)\n",
      "File \u001b[0;32m~/opt/anaconda3/lib/python3.8/site-packages/matplotlib/image.py:131\u001b[0m, in \u001b[0;36m_draw_list_compositing_images\u001b[0;34m(renderer, parent, artists, suppress_composite)\u001b[0m\n\u001b[1;32m    129\u001b[0m \u001b[39mif\u001b[39;00m not_composite \u001b[39mor\u001b[39;00m \u001b[39mnot\u001b[39;00m has_images:\n\u001b[1;32m    130\u001b[0m     \u001b[39mfor\u001b[39;00m a \u001b[39min\u001b[39;00m artists:\n\u001b[0;32m--> 131\u001b[0m         a\u001b[39m.\u001b[39;49mdraw(renderer)\n\u001b[1;32m    132\u001b[0m \u001b[39melse\u001b[39;00m:\n\u001b[1;32m    133\u001b[0m     \u001b[39m# Composite any adjacent images together\u001b[39;00m\n\u001b[1;32m    134\u001b[0m     image_group \u001b[39m=\u001b[39m []\n",
      "File \u001b[0;32m~/opt/anaconda3/lib/python3.8/site-packages/matplotlib/artist.py:72\u001b[0m, in \u001b[0;36mallow_rasterization.<locals>.draw_wrapper\u001b[0;34m(artist, renderer)\u001b[0m\n\u001b[1;32m     69\u001b[0m     \u001b[39mif\u001b[39;00m artist\u001b[39m.\u001b[39mget_agg_filter() \u001b[39mis\u001b[39;00m \u001b[39mnot\u001b[39;00m \u001b[39mNone\u001b[39;00m:\n\u001b[1;32m     70\u001b[0m         renderer\u001b[39m.\u001b[39mstart_filter()\n\u001b[0;32m---> 72\u001b[0m     \u001b[39mreturn\u001b[39;00m draw(artist, renderer)\n\u001b[1;32m     73\u001b[0m \u001b[39mfinally\u001b[39;00m:\n\u001b[1;32m     74\u001b[0m     \u001b[39mif\u001b[39;00m artist\u001b[39m.\u001b[39mget_agg_filter() \u001b[39mis\u001b[39;00m \u001b[39mnot\u001b[39;00m \u001b[39mNone\u001b[39;00m:\n",
      "File \u001b[0;32m~/opt/anaconda3/lib/python3.8/site-packages/matplotlib/axes/_base.py:3064\u001b[0m, in \u001b[0;36m_AxesBase.draw\u001b[0;34m(self, renderer)\u001b[0m\n\u001b[1;32m   3061\u001b[0m \u001b[39mif\u001b[39;00m artists_rasterized:\n\u001b[1;32m   3062\u001b[0m     _draw_rasterized(\u001b[39mself\u001b[39m\u001b[39m.\u001b[39mfigure, artists_rasterized, renderer)\n\u001b[0;32m-> 3064\u001b[0m mimage\u001b[39m.\u001b[39;49m_draw_list_compositing_images(\n\u001b[1;32m   3065\u001b[0m     renderer, \u001b[39mself\u001b[39;49m, artists, \u001b[39mself\u001b[39;49m\u001b[39m.\u001b[39;49mfigure\u001b[39m.\u001b[39;49msuppressComposite)\n\u001b[1;32m   3067\u001b[0m renderer\u001b[39m.\u001b[39mclose_group(\u001b[39m'\u001b[39m\u001b[39maxes\u001b[39m\u001b[39m'\u001b[39m)\n\u001b[1;32m   3068\u001b[0m \u001b[39mself\u001b[39m\u001b[39m.\u001b[39mstale \u001b[39m=\u001b[39m \u001b[39mFalse\u001b[39;00m\n",
      "File \u001b[0;32m~/opt/anaconda3/lib/python3.8/site-packages/matplotlib/image.py:131\u001b[0m, in \u001b[0;36m_draw_list_compositing_images\u001b[0;34m(renderer, parent, artists, suppress_composite)\u001b[0m\n\u001b[1;32m    129\u001b[0m \u001b[39mif\u001b[39;00m not_composite \u001b[39mor\u001b[39;00m \u001b[39mnot\u001b[39;00m has_images:\n\u001b[1;32m    130\u001b[0m     \u001b[39mfor\u001b[39;00m a \u001b[39min\u001b[39;00m artists:\n\u001b[0;32m--> 131\u001b[0m         a\u001b[39m.\u001b[39;49mdraw(renderer)\n\u001b[1;32m    132\u001b[0m \u001b[39melse\u001b[39;00m:\n\u001b[1;32m    133\u001b[0m     \u001b[39m# Composite any adjacent images together\u001b[39;00m\n\u001b[1;32m    134\u001b[0m     image_group \u001b[39m=\u001b[39m []\n",
      "File \u001b[0;32m~/opt/anaconda3/lib/python3.8/site-packages/matplotlib/artist.py:72\u001b[0m, in \u001b[0;36mallow_rasterization.<locals>.draw_wrapper\u001b[0;34m(artist, renderer)\u001b[0m\n\u001b[1;32m     69\u001b[0m     \u001b[39mif\u001b[39;00m artist\u001b[39m.\u001b[39mget_agg_filter() \u001b[39mis\u001b[39;00m \u001b[39mnot\u001b[39;00m \u001b[39mNone\u001b[39;00m:\n\u001b[1;32m     70\u001b[0m         renderer\u001b[39m.\u001b[39mstart_filter()\n\u001b[0;32m---> 72\u001b[0m     \u001b[39mreturn\u001b[39;00m draw(artist, renderer)\n\u001b[1;32m     73\u001b[0m \u001b[39mfinally\u001b[39;00m:\n\u001b[1;32m     74\u001b[0m     \u001b[39mif\u001b[39;00m artist\u001b[39m.\u001b[39mget_agg_filter() \u001b[39mis\u001b[39;00m \u001b[39mnot\u001b[39;00m \u001b[39mNone\u001b[39;00m:\n",
      "File \u001b[0;32m~/opt/anaconda3/lib/python3.8/site-packages/matplotlib/axis.py:1383\u001b[0m, in \u001b[0;36mAxis.draw\u001b[0;34m(self, renderer, *args, **kwargs)\u001b[0m\n\u001b[1;32m   1380\u001b[0m     tick\u001b[39m.\u001b[39mdraw(renderer)\n\u001b[1;32m   1382\u001b[0m \u001b[39m# Shift label away from axes to avoid overlapping ticklabels.\u001b[39;00m\n\u001b[0;32m-> 1383\u001b[0m \u001b[39mself\u001b[39;49m\u001b[39m.\u001b[39;49m_update_label_position(renderer)\n\u001b[1;32m   1384\u001b[0m \u001b[39mself\u001b[39m\u001b[39m.\u001b[39mlabel\u001b[39m.\u001b[39mdraw(renderer)\n\u001b[1;32m   1386\u001b[0m \u001b[39mself\u001b[39m\u001b[39m.\u001b[39m_update_offset_text_position(tlb1, tlb2)\n",
      "File \u001b[0;32m~/opt/anaconda3/lib/python3.8/site-packages/matplotlib/axis.py:2304\u001b[0m, in \u001b[0;36mXAxis._update_label_position\u001b[0;34m(self, renderer)\u001b[0m\n\u001b[1;32m   2300\u001b[0m     \u001b[39mreturn\u001b[39;00m\n\u001b[1;32m   2302\u001b[0m \u001b[39m# get bounding boxes for this axis and any siblings\u001b[39;00m\n\u001b[1;32m   2303\u001b[0m \u001b[39m# that have been set by `fig.align_xlabels()`\u001b[39;00m\n\u001b[0;32m-> 2304\u001b[0m bboxes, bboxes2 \u001b[39m=\u001b[39m \u001b[39mself\u001b[39;49m\u001b[39m.\u001b[39;49m_get_tick_boxes_siblings(renderer\u001b[39m=\u001b[39;49mrenderer)\n\u001b[1;32m   2306\u001b[0m x, y \u001b[39m=\u001b[39m \u001b[39mself\u001b[39m\u001b[39m.\u001b[39mlabel\u001b[39m.\u001b[39mget_position()\n\u001b[1;32m   2307\u001b[0m \u001b[39mif\u001b[39;00m \u001b[39mself\u001b[39m\u001b[39m.\u001b[39mlabel_position \u001b[39m==\u001b[39m \u001b[39m'\u001b[39m\u001b[39mbottom\u001b[39m\u001b[39m'\u001b[39m:\n",
      "File \u001b[0;32m~/opt/anaconda3/lib/python3.8/site-packages/matplotlib/axis.py:2100\u001b[0m, in \u001b[0;36mAxis._get_tick_boxes_siblings\u001b[0;34m(self, renderer)\u001b[0m\n\u001b[1;32m   2098\u001b[0m axis \u001b[39m=\u001b[39m \u001b[39mgetattr\u001b[39m(ax, \u001b[39mf\u001b[39m\u001b[39m\"\u001b[39m\u001b[39m{\u001b[39;00maxis_name\u001b[39m}\u001b[39;00m\u001b[39maxis\u001b[39m\u001b[39m\"\u001b[39m)\n\u001b[1;32m   2099\u001b[0m ticks_to_draw \u001b[39m=\u001b[39m axis\u001b[39m.\u001b[39m_update_ticks()\n\u001b[0;32m-> 2100\u001b[0m tlb, tlb2 \u001b[39m=\u001b[39m axis\u001b[39m.\u001b[39;49m_get_ticklabel_bboxes(ticks_to_draw, renderer)\n\u001b[1;32m   2101\u001b[0m bboxes\u001b[39m.\u001b[39mextend(tlb)\n\u001b[1;32m   2102\u001b[0m bboxes2\u001b[39m.\u001b[39mextend(tlb2)\n",
      "File \u001b[0;32m~/opt/anaconda3/lib/python3.8/site-packages/matplotlib/axis.py:1304\u001b[0m, in \u001b[0;36mAxis._get_ticklabel_bboxes\u001b[0;34m(self, ticks, renderer)\u001b[0m\n\u001b[1;32m   1302\u001b[0m \u001b[39mif\u001b[39;00m renderer \u001b[39mis\u001b[39;00m \u001b[39mNone\u001b[39;00m:\n\u001b[1;32m   1303\u001b[0m     renderer \u001b[39m=\u001b[39m \u001b[39mself\u001b[39m\u001b[39m.\u001b[39mfigure\u001b[39m.\u001b[39m_get_renderer()\n\u001b[0;32m-> 1304\u001b[0m \u001b[39mreturn\u001b[39;00m ([tick\u001b[39m.\u001b[39mlabel1\u001b[39m.\u001b[39mget_window_extent(renderer)\n\u001b[1;32m   1305\u001b[0m          \u001b[39mfor\u001b[39;00m tick \u001b[39min\u001b[39;00m ticks \u001b[39mif\u001b[39;00m tick\u001b[39m.\u001b[39mlabel1\u001b[39m.\u001b[39mget_visible()],\n\u001b[1;32m   1306\u001b[0m         [tick\u001b[39m.\u001b[39mlabel2\u001b[39m.\u001b[39mget_window_extent(renderer)\n\u001b[1;32m   1307\u001b[0m          \u001b[39mfor\u001b[39;00m tick \u001b[39min\u001b[39;00m ticks \u001b[39mif\u001b[39;00m tick\u001b[39m.\u001b[39mlabel2\u001b[39m.\u001b[39mget_visible()])\n",
      "File \u001b[0;32m~/opt/anaconda3/lib/python3.8/site-packages/matplotlib/axis.py:1304\u001b[0m, in \u001b[0;36m<listcomp>\u001b[0;34m(.0)\u001b[0m\n\u001b[1;32m   1302\u001b[0m \u001b[39mif\u001b[39;00m renderer \u001b[39mis\u001b[39;00m \u001b[39mNone\u001b[39;00m:\n\u001b[1;32m   1303\u001b[0m     renderer \u001b[39m=\u001b[39m \u001b[39mself\u001b[39m\u001b[39m.\u001b[39mfigure\u001b[39m.\u001b[39m_get_renderer()\n\u001b[0;32m-> 1304\u001b[0m \u001b[39mreturn\u001b[39;00m ([tick\u001b[39m.\u001b[39;49mlabel1\u001b[39m.\u001b[39;49mget_window_extent(renderer)\n\u001b[1;32m   1305\u001b[0m          \u001b[39mfor\u001b[39;00m tick \u001b[39min\u001b[39;00m ticks \u001b[39mif\u001b[39;00m tick\u001b[39m.\u001b[39mlabel1\u001b[39m.\u001b[39mget_visible()],\n\u001b[1;32m   1306\u001b[0m         [tick\u001b[39m.\u001b[39mlabel2\u001b[39m.\u001b[39mget_window_extent(renderer)\n\u001b[1;32m   1307\u001b[0m          \u001b[39mfor\u001b[39;00m tick \u001b[39min\u001b[39;00m ticks \u001b[39mif\u001b[39;00m tick\u001b[39m.\u001b[39mlabel2\u001b[39m.\u001b[39mget_visible()])\n",
      "File \u001b[0;32m~/opt/anaconda3/lib/python3.8/site-packages/matplotlib/text.py:959\u001b[0m, in \u001b[0;36mText.get_window_extent\u001b[0;34m(self, renderer, dpi)\u001b[0m\n\u001b[1;32m    954\u001b[0m     \u001b[39mraise\u001b[39;00m \u001b[39mRuntimeError\u001b[39;00m(\n\u001b[1;32m    955\u001b[0m         \u001b[39m\"\u001b[39m\u001b[39mCannot get window extent of text w/o renderer. You likely \u001b[39m\u001b[39m\"\u001b[39m\n\u001b[1;32m    956\u001b[0m         \u001b[39m\"\u001b[39m\u001b[39mwant to call \u001b[39m\u001b[39m'\u001b[39m\u001b[39mfigure.draw_without_rendering()\u001b[39m\u001b[39m'\u001b[39m\u001b[39m first.\u001b[39m\u001b[39m\"\u001b[39m)\n\u001b[1;32m    958\u001b[0m \u001b[39mwith\u001b[39;00m cbook\u001b[39m.\u001b[39m_setattr_cm(\u001b[39mself\u001b[39m\u001b[39m.\u001b[39mfigure, dpi\u001b[39m=\u001b[39mdpi):\n\u001b[0;32m--> 959\u001b[0m     bbox, info, descent \u001b[39m=\u001b[39m \u001b[39mself\u001b[39;49m\u001b[39m.\u001b[39;49m_get_layout(\u001b[39mself\u001b[39;49m\u001b[39m.\u001b[39;49m_renderer)\n\u001b[1;32m    960\u001b[0m     x, y \u001b[39m=\u001b[39m \u001b[39mself\u001b[39m\u001b[39m.\u001b[39mget_unitless_position()\n\u001b[1;32m    961\u001b[0m     x, y \u001b[39m=\u001b[39m \u001b[39mself\u001b[39m\u001b[39m.\u001b[39mget_transform()\u001b[39m.\u001b[39mtransform((x, y))\n",
      "File \u001b[0;32m~/opt/anaconda3/lib/python3.8/site-packages/matplotlib/text.py:386\u001b[0m, in \u001b[0;36mText._get_layout\u001b[0;34m(self, renderer)\u001b[0m\n\u001b[1;32m    384\u001b[0m clean_line, ismath \u001b[39m=\u001b[39m \u001b[39mself\u001b[39m\u001b[39m.\u001b[39m_preprocess_math(line)\n\u001b[1;32m    385\u001b[0m \u001b[39mif\u001b[39;00m clean_line:\n\u001b[0;32m--> 386\u001b[0m     w, h, d \u001b[39m=\u001b[39m _get_text_metrics_with_cache(\n\u001b[1;32m    387\u001b[0m         renderer, clean_line, \u001b[39mself\u001b[39;49m\u001b[39m.\u001b[39;49m_fontproperties,\n\u001b[1;32m    388\u001b[0m         ismath\u001b[39m=\u001b[39;49mismath, dpi\u001b[39m=\u001b[39;49m\u001b[39mself\u001b[39;49m\u001b[39m.\u001b[39;49mfigure\u001b[39m.\u001b[39;49mdpi)\n\u001b[1;32m    389\u001b[0m \u001b[39melse\u001b[39;00m:\n\u001b[1;32m    390\u001b[0m     w \u001b[39m=\u001b[39m h \u001b[39m=\u001b[39m d \u001b[39m=\u001b[39m \u001b[39m0\u001b[39m\n",
      "File \u001b[0;32m~/opt/anaconda3/lib/python3.8/site-packages/matplotlib/text.py:97\u001b[0m, in \u001b[0;36m_get_text_metrics_with_cache\u001b[0;34m(renderer, text, fontprop, ismath, dpi)\u001b[0m\n\u001b[1;32m     94\u001b[0m \u001b[39m\u001b[39m\u001b[39m\"\"\"Call ``renderer.get_text_width_height_descent``, caching the results.\"\"\"\u001b[39;00m\n\u001b[1;32m     95\u001b[0m \u001b[39m# Cached based on a copy of fontprop so that later in-place mutations of\u001b[39;00m\n\u001b[1;32m     96\u001b[0m \u001b[39m# the passed-in argument do not mess up the cache.\u001b[39;00m\n\u001b[0;32m---> 97\u001b[0m \u001b[39mreturn\u001b[39;00m _get_text_metrics_with_cache_impl(\n\u001b[1;32m     98\u001b[0m     weakref\u001b[39m.\u001b[39;49mref(renderer), text, fontprop\u001b[39m.\u001b[39;49mcopy(), ismath, dpi)\n",
      "File \u001b[0;32m~/opt/anaconda3/lib/python3.8/site-packages/matplotlib/text.py:105\u001b[0m, in \u001b[0;36m_get_text_metrics_with_cache_impl\u001b[0;34m(renderer_ref, text, fontprop, ismath, dpi)\u001b[0m\n\u001b[1;32m    101\u001b[0m \u001b[39m@functools\u001b[39m\u001b[39m.\u001b[39mlru_cache(\u001b[39m4096\u001b[39m)\n\u001b[1;32m    102\u001b[0m \u001b[39mdef\u001b[39;00m \u001b[39m_get_text_metrics_with_cache_impl\u001b[39m(\n\u001b[1;32m    103\u001b[0m         renderer_ref, text, fontprop, ismath, dpi):\n\u001b[1;32m    104\u001b[0m     \u001b[39m# dpi is unused, but participates in cache invalidation (via the renderer).\u001b[39;00m\n\u001b[0;32m--> 105\u001b[0m     \u001b[39mreturn\u001b[39;00m renderer_ref()\u001b[39m.\u001b[39;49mget_text_width_height_descent(text, fontprop, ismath)\n",
      "File \u001b[0;32m~/opt/anaconda3/lib/python3.8/site-packages/matplotlib/backends/backend_agg.py:234\u001b[0m, in \u001b[0;36mRendererAgg.get_text_width_height_descent\u001b[0;34m(self, s, prop, ismath)\u001b[0m\n\u001b[1;32m    231\u001b[0m     \u001b[39mreturn\u001b[39;00m width, height, descent\n\u001b[1;32m    233\u001b[0m font \u001b[39m=\u001b[39m \u001b[39mself\u001b[39m\u001b[39m.\u001b[39m_prepare_font(prop)\n\u001b[0;32m--> 234\u001b[0m font\u001b[39m.\u001b[39;49mset_text(s, \u001b[39m0.0\u001b[39;49m, flags\u001b[39m=\u001b[39;49mget_hinting_flag())\n\u001b[1;32m    235\u001b[0m w, h \u001b[39m=\u001b[39m font\u001b[39m.\u001b[39mget_width_height()  \u001b[39m# width and height of unrotated string\u001b[39;00m\n\u001b[1;32m    236\u001b[0m d \u001b[39m=\u001b[39m font\u001b[39m.\u001b[39mget_descent()\n",
      "\u001b[0;31mKeyboardInterrupt\u001b[0m: "
     ]
    }
   ],
   "source": [
    "import matplotlib.pyplot as plt\n",
    "\n",
    "fig, ax = plt.subplots(1,3,figsize=(12,4))\n",
    "\n",
    "ax[0].hist(df2['운동량'])\n",
    "ax[0].set_title('운동량')\n",
    "\n",
    "\n",
    "ax[1].hist(df2['이동거리'])\n",
    "ax[1].set_title('이동거리')\n",
    "\n",
    "plt.show()"
   ]
  },
  {
   "cell_type": "code",
   "execution_count": 16,
   "metadata": {},
   "outputs": [],
   "source": [
    "df2['대여일자']=pd.to_datetime(df2['대여일자'])"
   ]
  },
  {
   "cell_type": "code",
   "execution_count": 17,
   "metadata": {},
   "outputs": [
    {
     "name": "stdout",
     "output_type": "stream",
     "text": [
      "<class 'pandas.core.frame.DataFrame'>\n",
      "RangeIndex: 327231 entries, 0 to 327230\n",
      "Data columns (total 11 columns):\n",
      " #   Column  Non-Null Count   Dtype         \n",
      "---  ------  --------------   -----         \n",
      " 0   대여일자    327231 non-null  datetime64[ns]\n",
      " 1   대여소번호   327231 non-null  int64         \n",
      " 2   대여소명    327231 non-null  object        \n",
      " 3   대여구분코드  327231 non-null  object        \n",
      " 4   성별      272841 non-null  object        \n",
      " 5   연령대코드   327231 non-null  object        \n",
      " 6   이용건수    327231 non-null  int64         \n",
      " 7   운동량     327231 non-null  object        \n",
      " 8   탄소량     327231 non-null  object        \n",
      " 9   이동거리    327231 non-null  float64       \n",
      " 10  이용시간    327231 non-null  int64         \n",
      "dtypes: datetime64[ns](1), float64(1), int64(3), object(6)\n",
      "memory usage: 27.5+ MB\n"
     ]
    }
   ],
   "source": [
    "df2.info()"
   ]
  },
  {
   "cell_type": "code",
   "execution_count": 20,
   "metadata": {},
   "outputs": [
    {
     "data": {
      "text/plain": [
       "0         2020\n",
       "1         2020\n",
       "2         2020\n",
       "3         2020\n",
       "4         2020\n",
       "          ... \n",
       "327226    2020\n",
       "327227    2020\n",
       "327228    2020\n",
       "327229    2020\n",
       "327230    2020\n",
       "Name: 대여일자, Length: 327231, dtype: int64"
      ]
     },
     "execution_count": 20,
     "metadata": {},
     "output_type": "execute_result"
    }
   ],
   "source": [
    "df2['대여일자'].dt.year"
   ]
  },
  {
   "cell_type": "code",
   "execution_count": 23,
   "metadata": {},
   "outputs": [
    {
     "name": "stdout",
     "output_type": "stream",
     "text": [
      "None\n"
     ]
    }
   ],
   "source": [
    "# modules we'll use\n",
    "import pandas as pd\n",
    "import numpy as np\n",
    "\n",
    "# read in all our data\n",
    "# nfl_data = pd.read_csv(\"../input/nflplaybyplay2009to2016/NFL Play by Play 2009-2017 (v4).csv\")\n",
    "\n",
    "# set seed for reproducibility\n",
    "print(np.random.seed(0) )"
   ]
  },
  {
   "cell_type": "code",
   "execution_count": 24,
   "metadata": {},
   "outputs": [
    {
     "data": {
      "image/png": "[encoded data removed]",
      "text/plain": [
       "<Figure size 640x480 with 1 Axes>"
      ]
     },
     "metadata": {},
     "output_type": "display_data"
    }
   ],
   "source": [
    "import pandas as pd \n",
    "import matplotlib.pyplot as plt\n",
    "df = pd.read_csv('https://raw.githubusercontent.com/Datamanim/datarepo/main/scipy/normal1.csv')\n",
    "plt.hist(df)\n",
    "plt.show()"
   ]
  },
  {
   "cell_type": "code",
   "execution_count": 27,
   "metadata": {},
   "outputs": [],
   "source": [
    "from scipy.stats import shapiro"
   ]
  },
  {
   "cell_type": "code",
   "execution_count": 30,
   "metadata": {},
   "outputs": [
    {
     "name": "stdout",
     "output_type": "stream",
     "text": [
      "ShapiroResult(statistic=0.9981444478034973, pvalue=0.34849318861961365)\n"
     ]
    }
   ],
   "source": [
    "print(shapiro(df.data))"
   ]
  },
  {
   "cell_type": "code",
   "execution_count": 42,
   "metadata": {},
   "outputs": [
    {
     "name": "stdout",
     "output_type": "stream",
     "text": [
      "ShapiroResult(statistic=0.9976889491081238, pvalue=0.17540602385997772)\n"
     ]
    }
   ],
   "source": [
    "print(shapiro(np.log1p(df.data)))"
   ]
  },
  {
   "cell_type": "code",
   "execution_count": 45,
   "metadata": {},
   "outputs": [
    {
     "data": {
      "image/png": "[encoded data removed]",
      "text/plain": [
       "<Figure size 640x480 with 1 Axes>"
      ]
     },
     "metadata": {},
     "output_type": "display_data"
    }
   ],
   "source": [
    "from scipy.stats import shapiro\n",
    "\n",
    "import pandas as pd \n",
    "import matplotlib.pyplot as plt\n",
    "df = pd.read_csv('https://raw.githubusercontent.com/Datamanim/datarepo/main/scipy/normal3.csv')\n",
    "plt.hist(df)\n",
    "plt.show()"
   ]
  },
  {
   "cell_type": "code",
   "execution_count": 52,
   "metadata": {},
   "outputs": [],
   "source": [
    "df_log = np.log1p(df)\n"
   ]
  },
  {
   "cell_type": "code",
   "execution_count": 56,
   "metadata": {},
   "outputs": [
    {
     "data": {
      "image/png": "[encoded data removed]",
      "text/plain": [
       "<Figure size 640x480 with 1 Axes>"
      ]
     },
     "metadata": {},
     "output_type": "display_data"
    }
   ],
   "source": [
    "plt.boxplot(df_log)\n",
    "plt.show()"
   ]
  },
  {
   "cell_type": "code",
   "execution_count": 57,
   "metadata": {},
   "outputs": [
    {
     "name": "stdout",
     "output_type": "stream",
     "text": [
      "ShapiroResult(statistic=0.9976889491081238, pvalue=0.17540602385997772)\n"
     ]
    }
   ],
   "source": [
    "print(shapiro(df_log))"
   ]
  },
  {
   "attachments": {},
   "cell_type": "markdown",
   "metadata": {},
   "source": [
    "import pandas as pd \n",
    "import matplotlib.pyplot as plt\n",
    "df = pd.read_csv('https://raw.githubusercontent.com/Datamanim/datarepo/main/scipy/normal6.csv')\n",
    "plt.hist(df)\n",
    "plt.show()"
   ]
  },
  {
   "cell_type": "code",
   "execution_count": 58,
   "metadata": {},
   "outputs": [
    {
     "data": {
      "image/png": "[encoded data removed]",
      "text/plain": [
       "<Figure size 640x480 with 1 Axes>"
      ]
     },
     "metadata": {},
     "output_type": "display_data"
    }
   ],
   "source": [
    "import pandas as pd \n",
    "import matplotlib.pyplot as plt\n",
    "df = pd.read_csv('https://raw.githubusercontent.com/Datamanim/datarepo/main/scipy/normal6.csv')\n",
    "plt.hist(df)\n",
    "plt.show()"
   ]
  },
  {
   "cell_type": "code",
   "execution_count": 62,
   "metadata": {},
   "outputs": [
    {
     "data": {
      "text/plain": [
       "['ConstantInputWarning',\n",
       " 'Covariance',\n",
       " 'DegenerateDataWarning',\n",
       " 'FitError',\n",
       " 'NearConstantInputWarning',\n",
       " '__all__',\n",
       " '__builtins__',\n",
       " '__cached__',\n",
       " '__doc__',\n",
       " '__file__',\n",
       " '__loader__',\n",
       " '__name__',\n",
       " '__package__',\n",
       " '__path__',\n",
       " '__spec__',\n",
       " '_axis_nan_policy',\n",
       " '_biasedurn',\n",
       " '_binned_statistic',\n",
       " '_binomtest',\n",
       " '_boost',\n",
       " '_common',\n",
       " '_constants',\n",
       " '_continuous_distns',\n",
       " '_covariance',\n",
       " '_crosstab',\n",
       " '_discrete_distns',\n",
       " '_distn_infrastructure',\n",
       " '_distr_params',\n",
       " '_entropy',\n",
       " '_fit',\n",
       " '_hypotests',\n",
       " '_kde',\n",
       " '_ksstats',\n",
       " '_levy_stable',\n",
       " '_mannwhitneyu',\n",
       " '_morestats',\n",
       " '_mstats_basic',\n",
       " '_mstats_extras',\n",
       " '_multivariate',\n",
       " '_mvn',\n",
       " '_odds_ratio',\n",
       " '_page_trend_test',\n",
       " '_qmc',\n",
       " '_qmc_cy',\n",
       " '_rcont',\n",
       " '_relative_risk',\n",
       " '_resampling',\n",
       " '_rvs_sampling',\n",
       " '_sobol',\n",
       " '_statlib',\n",
       " '_stats',\n",
       " '_stats_mstats_common',\n",
       " '_stats_py',\n",
       " '_stats_pythran',\n",
       " '_tukeylambda_stats',\n",
       " '_variation',\n",
       " '_warnings_errors',\n",
       " 'alexandergovern',\n",
       " 'alpha',\n",
       " 'anderson',\n",
       " 'anderson_ksamp',\n",
       " 'anglit',\n",
       " 'ansari',\n",
       " 'arcsine',\n",
       " 'argus',\n",
       " 'barnard_exact',\n",
       " 'bartlett',\n",
       " 'bayes_mvs',\n",
       " 'bernoulli',\n",
       " 'beta',\n",
       " 'betabinom',\n",
       " 'betaprime',\n",
       " 'biasedurn',\n",
       " 'binned_statistic',\n",
       " 'binned_statistic_2d',\n",
       " 'binned_statistic_dd',\n",
       " 'binom',\n",
       " 'binom_test',\n",
       " 'binomtest',\n",
       " 'boltzmann',\n",
       " 'bootstrap',\n",
       " 'boschloo_exact',\n",
       " 'boxcox',\n",
       " 'boxcox_llf',\n",
       " 'boxcox_normmax',\n",
       " 'boxcox_normplot',\n",
       " 'bradford',\n",
       " 'brunnermunzel',\n",
       " 'burr',\n",
       " 'burr12',\n",
       " 'cauchy',\n",
       " 'chi',\n",
       " 'chi2',\n",
       " 'chi2_contingency',\n",
       " 'chisquare',\n",
       " 'circmean',\n",
       " 'circstd',\n",
       " 'circvar',\n",
       " 'combine_pvalues',\n",
       " 'contingency',\n",
       " 'cosine',\n",
       " 'cramervonmises',\n",
       " 'cramervonmises_2samp',\n",
       " 'crystalball',\n",
       " 'cumfreq',\n",
       " 'describe',\n",
       " 'dgamma',\n",
       " 'differential_entropy',\n",
       " 'directional_stats',\n",
       " 'dirichlet',\n",
       " 'distributions',\n",
       " 'dlaplace',\n",
       " 'dweibull',\n",
       " 'energy_distance',\n",
       " 'entropy',\n",
       " 'epps_singleton_2samp',\n",
       " 'erlang',\n",
       " 'expectile',\n",
       " 'expon',\n",
       " 'exponnorm',\n",
       " 'exponpow',\n",
       " 'exponweib',\n",
       " 'f',\n",
       " 'f_oneway',\n",
       " 'fatiguelife',\n",
       " 'find_repeats',\n",
       " 'fisher_exact',\n",
       " 'fisk',\n",
       " 'fit',\n",
       " 'fligner',\n",
       " 'foldcauchy',\n",
       " 'foldnorm',\n",
       " 'friedmanchisquare',\n",
       " 'gamma',\n",
       " 'gausshyper',\n",
       " 'gaussian_kde',\n",
       " 'genexpon',\n",
       " 'genextreme',\n",
       " 'gengamma',\n",
       " 'genhalflogistic',\n",
       " 'genhyperbolic',\n",
       " 'geninvgauss',\n",
       " 'genlogistic',\n",
       " 'gennorm',\n",
       " 'genpareto',\n",
       " 'geom',\n",
       " 'gibrat',\n",
       " 'gilbrat',\n",
       " 'gmean',\n",
       " 'gompertz',\n",
       " 'goodness_of_fit',\n",
       " 'gstd',\n",
       " 'gumbel_l',\n",
       " 'gumbel_r',\n",
       " 'gzscore',\n",
       " 'halfcauchy',\n",
       " 'halfgennorm',\n",
       " 'halflogistic',\n",
       " 'halfnorm',\n",
       " 'hmean',\n",
       " 'hypergeom',\n",
       " 'hypsecant',\n",
       " 'invgamma',\n",
       " 'invgauss',\n",
       " 'invweibull',\n",
       " 'invwishart',\n",
       " 'iqr',\n",
       " 'jarque_bera',\n",
       " 'johnsonsb',\n",
       " 'johnsonsu',\n",
       " 'kappa3',\n",
       " 'kappa4',\n",
       " 'kde',\n",
       " 'kendalltau',\n",
       " 'kruskal',\n",
       " 'ks_1samp',\n",
       " 'ks_2samp',\n",
       " 'ksone',\n",
       " 'kstat',\n",
       " 'kstatvar',\n",
       " 'kstest',\n",
       " 'kstwo',\n",
       " 'kstwobign',\n",
       " 'kurtosis',\n",
       " 'kurtosistest',\n",
       " 'laplace',\n",
       " 'laplace_asymmetric',\n",
       " 'levene',\n",
       " 'levy',\n",
       " 'levy_l',\n",
       " 'levy_stable',\n",
       " 'linregress',\n",
       " 'loggamma',\n",
       " 'logistic',\n",
       " 'loglaplace',\n",
       " 'lognorm',\n",
       " 'logser',\n",
       " 'loguniform',\n",
       " 'lomax',\n",
       " 'mannwhitneyu',\n",
       " 'matrix_normal',\n",
       " 'maxwell',\n",
       " 'median_abs_deviation',\n",
       " 'median_test',\n",
       " 'mielke',\n",
       " 'mode',\n",
       " 'moment',\n",
       " 'monte_carlo_test',\n",
       " 'mood',\n",
       " 'morestats',\n",
       " 'moyal',\n",
       " 'mstats',\n",
       " 'mstats_basic',\n",
       " 'mstats_extras',\n",
       " 'multinomial',\n",
       " 'multiscale_graphcorr',\n",
       " 'multivariate_hypergeom',\n",
       " 'multivariate_normal',\n",
       " 'multivariate_t',\n",
       " 'mvn',\n",
       " 'mvsdist',\n",
       " 'nakagami',\n",
       " 'nbinom',\n",
       " 'ncf',\n",
       " 'nchypergeom_fisher',\n",
       " 'nchypergeom_wallenius',\n",
       " 'nct',\n",
       " 'ncx2',\n",
       " 'nhypergeom',\n",
       " 'norm',\n",
       " 'normaltest',\n",
       " 'norminvgauss',\n",
       " 'obrientransform',\n",
       " 'ortho_group',\n",
       " 'page_trend_test',\n",
       " 'pareto',\n",
       " 'pearson3',\n",
       " 'pearsonr',\n",
       " 'percentileofscore',\n",
       " 'permutation_test',\n",
       " 'planck',\n",
       " 'pmean',\n",
       " 'pointbiserialr',\n",
       " 'poisson',\n",
       " 'poisson_means_test',\n",
       " 'power_divergence',\n",
       " 'powerlaw',\n",
       " 'powerlognorm',\n",
       " 'powernorm',\n",
       " 'ppcc_max',\n",
       " 'ppcc_plot',\n",
       " 'probplot',\n",
       " 'qmc',\n",
       " 'randint',\n",
       " 'random_correlation',\n",
       " 'random_table',\n",
       " 'rankdata',\n",
       " 'ranksums',\n",
       " 'rayleigh',\n",
       " 'rdist',\n",
       " 'recipinvgauss',\n",
       " 'reciprocal',\n",
       " 'relfreq',\n",
       " 'rice',\n",
       " 'rv_continuous',\n",
       " 'rv_discrete',\n",
       " 'rv_histogram',\n",
       " 'rvs_ratio_uniforms',\n",
       " 'scoreatpercentile',\n",
       " 'sem',\n",
       " 'semicircular',\n",
       " 'shapiro',\n",
       " 'siegelslopes',\n",
       " 'sigmaclip',\n",
       " 'skellam',\n",
       " 'skew',\n",
       " 'skewcauchy',\n",
       " 'skewnorm',\n",
       " 'skewtest',\n",
       " 'somersd',\n",
       " 'spearmanr',\n",
       " 'special_ortho_group',\n",
       " 'statlib',\n",
       " 'stats',\n",
       " 'studentized_range',\n",
       " 't',\n",
       " 'test',\n",
       " 'theilslopes',\n",
       " 'tiecorrect',\n",
       " 'tmax',\n",
       " 'tmean',\n",
       " 'tmin',\n",
       " 'trapezoid',\n",
       " 'trapz',\n",
       " 'triang',\n",
       " 'trim1',\n",
       " 'trim_mean',\n",
       " 'trimboth',\n",
       " 'truncexpon',\n",
       " 'truncnorm',\n",
       " 'truncpareto',\n",
       " 'truncweibull_min',\n",
       " 'tsem',\n",
       " 'tstd',\n",
       " 'ttest_1samp',\n",
       " 'ttest_ind',\n",
       " 'ttest_ind_from_stats',\n",
       " 'ttest_rel',\n",
       " 'tukey_hsd',\n",
       " 'tukeylambda',\n",
       " 'tvar',\n",
       " 'uniform',\n",
       " 'uniform_direction',\n",
       " 'unitary_group',\n",
       " 'variation',\n",
       " 'vonmises',\n",
       " 'vonmises_line',\n",
       " 'wald',\n",
       " 'wasserstein_distance',\n",
       " 'weibull_max',\n",
       " 'weibull_min',\n",
       " 'weightedtau',\n",
       " 'wilcoxon',\n",
       " 'wishart',\n",
       " 'wrapcauchy',\n",
       " 'yeojohnson',\n",
       " 'yeojohnson_llf',\n",
       " 'yeojohnson_normmax',\n",
       " 'yeojohnson_normplot',\n",
       " 'yulesimon',\n",
       " 'zipf',\n",
       " 'zipfian',\n",
       " 'zmap',\n",
       " 'zscore']"
      ]
     },
     "execution_count": 62,
     "metadata": {},
     "output_type": "execute_result"
    }
   ],
   "source": [
    "import scipy.stats\n",
    "dir(scipy.stats)"
   ]
  },
  {
   "cell_type": "code",
   "execution_count": 64,
   "metadata": {},
   "outputs": [
    {
     "name": "stdout",
     "output_type": "stream",
     "text": [
      "ShapiroResult(statistic=0.9995355606079102, pvalue=0.1507067084312439)\n",
      "AndersonResult(statistic=array([-5997.9999614 , -5993.99988419, -5989.99980699, ...,\n",
      "       17990.46303878, 17994.46311598, 17998.46319319]), critical_values=array([0.576, 0.656, 0.786, 0.917, 1.091]), significance_level=array([15. , 10. ,  5. ,  2.5,  1. ]), fit_result=  params: FitParams(loc=array([299.9598032]), scale=array([5.03180689]))\n",
      " success: True\n",
      " message: '`anderson` successfully fit the distribution to the data.')\n"
     ]
    },
    {
     "name": "stderr",
     "output_type": "stream",
     "text": [
      "/Users/macbook/opt/anaconda3/lib/python3.8/site-packages/scipy/stats/_morestats.py:1816: UserWarning: p-value may not be accurate for N > 5000.\n",
      "  warnings.warn(\"p-value may not be accurate for N > 5000.\")\n"
     ]
    }
   ],
   "source": [
    "print(shapiro(df))\n",
    "from scipy.stats import anderson\n",
    "print(anderson(df.values))"
   ]
  },
  {
   "cell_type": "code",
   "execution_count": 68,
   "metadata": {},
   "outputs": [
    {
     "data": {
      "image/png": "[encoded data removed]",
      "text/plain": [
       "<Figure size 640x480 with 1 Axes>"
      ]
     },
     "metadata": {},
     "output_type": "display_data"
    }
   ],
   "source": [
    "import pandas as pd \n",
    "import matplotlib.pyplot as plt\n",
    "df = pd.read_csv('https://raw.githubusercontent.com/Datamanim/datarepo/main/scipy/normal6.csv')\n",
    "plt.hist(df)\n",
    "plt.show()"
   ]
  },
  {
   "cell_type": "code",
   "execution_count": 71,
   "metadata": {},
   "outputs": [
    {
     "name": "stdout",
     "output_type": "stream",
     "text": [
      "Help on function anderson in module scipy.stats._morestats:\n",
      "\n",
      "anderson(x, dist='norm')\n",
      "    Anderson-Darling test for data coming from a particular distribution.\n",
      "    \n",
      "    The Anderson-Darling test tests the null hypothesis that a sample is\n",
      "    drawn from a population that follows a particular distribution.\n",
      "    For the Anderson-Darling test, the critical values depend on\n",
      "    which distribution is being tested against.  This function works\n",
      "    for normal, exponential, logistic, or Gumbel (Extreme Value\n",
      "    Type I) distributions.\n",
      "    \n",
      "    Parameters\n",
      "    ----------\n",
      "    x : array_like\n",
      "        Array of sample data.\n",
      "    dist : {'norm', 'expon', 'logistic', 'gumbel', 'gumbel_l', 'gumbel_r', 'extreme1'}, optional\n",
      "        The type of distribution to test against.  The default is 'norm'.\n",
      "        The names 'extreme1', 'gumbel_l' and 'gumbel' are synonyms for the\n",
      "        same distribution.\n",
      "    \n",
      "    Returns\n",
      "    -------\n",
      "    result : AndersonResult\n",
      "        An object with the following attributes:\n",
      "    \n",
      "        statistic : float\n",
      "            The Anderson-Darling test statistic.\n",
      "        critical_values : list\n",
      "            The critical values for this distribution.\n",
      "        significance_level : list\n",
      "            The significance levels for the corresponding critical values\n",
      "            in percents.  The function returns critical values for a\n",
      "            differing set of significance levels depending on the\n",
      "            distribution that is being tested against.\n",
      "        fit_result : `~scipy.stats._result_classes.FitResult`\n",
      "            An object containing the results of fitting the distribution to\n",
      "            the data.\n",
      "    \n",
      "    See Also\n",
      "    --------\n",
      "    kstest : The Kolmogorov-Smirnov test for goodness-of-fit.\n",
      "    \n",
      "    Notes\n",
      "    -----\n",
      "    Critical values provided are for the following significance levels:\n",
      "    \n",
      "    normal/exponential\n",
      "        15%, 10%, 5%, 2.5%, 1%\n",
      "    logistic\n",
      "        25%, 10%, 5%, 2.5%, 1%, 0.5%\n",
      "    Gumbel\n",
      "        25%, 10%, 5%, 2.5%, 1%\n",
      "    \n",
      "    If the returned statistic is larger than these critical values then\n",
      "    for the corresponding significance level, the null hypothesis that\n",
      "    the data come from the chosen distribution can be rejected.\n",
      "    The returned statistic is referred to as 'A2' in the references.\n",
      "    \n",
      "    References\n",
      "    ----------\n",
      "    .. [1] https://www.itl.nist.gov/div898/handbook/prc/section2/prc213.htm\n",
      "    .. [2] Stephens, M. A. (1974). EDF Statistics for Goodness of Fit and\n",
      "           Some Comparisons, Journal of the American Statistical Association,\n",
      "           Vol. 69, pp. 730-737.\n",
      "    .. [3] Stephens, M. A. (1976). Asymptotic Results for Goodness-of-Fit\n",
      "           Statistics with Unknown Parameters, Annals of Statistics, Vol. 4,\n",
      "           pp. 357-369.\n",
      "    .. [4] Stephens, M. A. (1977). Goodness of Fit for the Extreme Value\n",
      "           Distribution, Biometrika, Vol. 64, pp. 583-588.\n",
      "    .. [5] Stephens, M. A. (1977). Goodness of Fit with Special Reference\n",
      "           to Tests for Exponentiality , Technical Report No. 262,\n",
      "           Department of Statistics, Stanford University, Stanford, CA.\n",
      "    .. [6] Stephens, M. A. (1979). Tests of Fit for the Logistic Distribution\n",
      "           Based on the Empirical Distribution Function, Biometrika, Vol. 66,\n",
      "           pp. 591-595.\n",
      "    \n",
      "    Examples\n",
      "    --------\n",
      "    Test the null hypothesis that a random sample was drawn from a normal\n",
      "    distribution (with unspecified mean and standard deviation).\n",
      "    \n",
      "    >>> import numpy as np\n",
      "    >>> from scipy.stats import anderson\n",
      "    >>> rng = np.random.default_rng()\n",
      "    >>> data = rng.random(size=35)\n",
      "    >>> res = anderson(data)\n",
      "    >>> res.statistic\n",
      "    0.8398018749744764\n",
      "    >>> res.critical_values\n",
      "    array([0.527, 0.6  , 0.719, 0.839, 0.998])\n",
      "    >>> res.significance_level\n",
      "    array([15. , 10. ,  5. ,  2.5,  1. ])\n",
      "    \n",
      "    The value of the statistic (barely) exceeds the critical value associated\n",
      "    with a significance level of 2.5%, so the null hypothesis may be rejected\n",
      "    at a significance level of 2.5%, but not at a significance level of 1%.\n",
      "\n"
     ]
    }
   ],
   "source": [
    "help(scipy.stats.anderson)"
   ]
  },
  {
   "cell_type": "code",
   "execution_count": 77,
   "metadata": {},
   "outputs": [
    {
     "data": {
      "text/html": [
       "<div>\n",
       "<style scoped>\n",
       "    .dataframe tbody tr th:only-of-type {\n",
       "        vertical-align: middle;\n",
       "    }\n",
       "\n",
       "    .dataframe tbody tr th {\n",
       "        vertical-align: top;\n",
       "    }\n",
       "\n",
       "    .dataframe thead th {\n",
       "        text-align: right;\n",
       "    }\n",
       "</style>\n",
       "<table border=\"1\" class=\"dataframe\">\n",
       "  <thead>\n",
       "    <tr style=\"text-align: right;\">\n",
       "      <th></th>\n",
       "      <th>data</th>\n",
       "    </tr>\n",
       "  </thead>\n",
       "  <tbody>\n",
       "    <tr>\n",
       "      <th>0</th>\n",
       "      <td>296.016803</td>\n",
       "    </tr>\n",
       "    <tr>\n",
       "      <th>1</th>\n",
       "      <td>299.628476</td>\n",
       "    </tr>\n",
       "    <tr>\n",
       "      <th>2</th>\n",
       "      <td>298.232057</td>\n",
       "    </tr>\n",
       "    <tr>\n",
       "      <th>3</th>\n",
       "      <td>293.256749</td>\n",
       "    </tr>\n",
       "    <tr>\n",
       "      <th>4</th>\n",
       "      <td>301.037710</td>\n",
       "    </tr>\n",
       "  </tbody>\n",
       "</table>\n",
       "</div>"
      ],
      "text/plain": [
       "         data\n",
       "0  296.016803\n",
       "1  299.628476\n",
       "2  298.232057\n",
       "3  293.256749\n",
       "4  301.037710"
      ]
     },
     "execution_count": 77,
     "metadata": {},
     "output_type": "execute_result"
    }
   ],
   "source": [
    "df.head(5)"
   ]
  },
  {
   "cell_type": "code",
   "execution_count": 78,
   "metadata": {},
   "outputs": [
    {
     "name": "stdout",
     "output_type": "stream",
     "text": [
      "ShapiroResult(statistic=0.9995355606079102, pvalue=0.1507067084312439)\n",
      "AndersonResult(statistic=array([-5997.9999614 , -5993.99988419, -5989.99980699, ...,\n",
      "       17990.46303878, 17994.46311598, 17998.46319319]), critical_values=array([0.576, 0.656, 0.786, 0.917, 1.091]), significance_level=array([15. , 10. ,  5. ,  2.5,  1. ]), fit_result=  params: FitParams(loc=array([299.9598032]), scale=array([5.03180689]))\n",
      " success: True\n",
      " message: '`anderson` successfully fit the distribution to the data.')\n"
     ]
    },
    {
     "name": "stderr",
     "output_type": "stream",
     "text": [
      "/Users/macbook/opt/anaconda3/lib/python3.8/site-packages/scipy/stats/_morestats.py:1816: UserWarning: p-value may not be accurate for N > 5000.\n",
      "  warnings.warn(\"p-value may not be accurate for N > 5000.\")\n"
     ]
    }
   ],
   "source": [
    "from scipy.stats import anderson, shapiro\n",
    "\n",
    "print(shapiro(df))\n",
    "print(anderson(df.values))"
   ]
  },
  {
   "cell_type": "code",
   "execution_count": 99,
   "metadata": {},
   "outputs": [
    {
     "name": "stdout",
     "output_type": "stream",
     "text": [
      "AndersonResult(statistic=0.8266993530414766, critical_values=array([0.576, 0.656, 0.786, 0.917, 1.091]), significance_level=array([15. , 10. ,  5. ,  2.5,  1. ]), fit_result=  params: FitParams(loc=299.95980319533163, scale=5.031806887885131)\n",
      " success: True\n",
      " message: '`anderson` successfully fit the distribution to the data.')\n"
     ]
    }
   ],
   "source": [
    "print(anderson(df.values.reshape(1,-1)[0]))\n"
   ]
  },
  {
   "cell_type": "code",
   "execution_count": 80,
   "metadata": {},
   "outputs": [
    {
     "data": {
      "text/plain": [
       "array([296.01680341, 299.62847649, 298.23205699, ..., 302.54242027,\n",
       "       294.45614507, 301.73381948])"
      ]
     },
     "execution_count": 80,
     "metadata": {},
     "output_type": "execute_result"
    }
   ],
   "source": [
    "df['data'].values"
   ]
  },
  {
   "cell_type": "code",
   "execution_count": 97,
   "metadata": {},
   "outputs": [
    {
     "data": {
      "text/plain": [
       "array([[296.01680341, 299.62847649, 298.23205699, ..., 302.54242027,\n",
       "        294.45614507, 301.73381948]])"
      ]
     },
     "execution_count": 97,
     "metadata": {},
     "output_type": "execute_result"
    }
   ],
   "source": [
    "df.values.reshape(1,-1)"
   ]
  },
  {
   "cell_type": "code",
   "execution_count": 100,
   "metadata": {},
   "outputs": [],
   "source": [
    "import pandas as pd \n",
    "df = pd.read_csv('https://raw.githubusercontent.com/Datamanim/datarepo/main/scipy/height1.csv')"
   ]
  },
  {
   "cell_type": "code",
   "execution_count": 102,
   "metadata": {},
   "outputs": [
    {
     "data": {
      "text/plain": [
       "(100, 1)"
      ]
     },
     "execution_count": 102,
     "metadata": {},
     "output_type": "execute_result"
    }
   ],
   "source": [
    "df.shape"
   ]
  },
  {
   "cell_type": "code",
   "execution_count": 103,
   "metadata": {},
   "outputs": [
    {
     "name": "stdout",
     "output_type": "stream",
     "text": [
      "ShapiroResult(statistic=0.9872668981552124, pvalue=0.4558176100254059)\n"
     ]
    }
   ],
   "source": [
    "print(shapiro(df))"
   ]
  },
  {
   "cell_type": "code",
   "execution_count": 104,
   "metadata": {},
   "outputs": [],
   "source": [
    "from scipy.stats import ttest_1samp"
   ]
  },
  {
   "cell_type": "code",
   "execution_count": 105,
   "metadata": {},
   "outputs": [
    {
     "name": "stdout",
     "output_type": "stream",
     "text": [
      "TtestResult(statistic=array([3.2017885]), pvalue=array([0.00183672]), df=array([99]))\n"
     ]
    }
   ],
   "source": [
    "print(ttest_1samp(df,165))"
   ]
  },
  {
   "cell_type": "code",
   "execution_count": 106,
   "metadata": {},
   "outputs": [
    {
     "data": {
      "text/html": [
       "<div>\n",
       "<style scoped>\n",
       "    .dataframe tbody tr th:only-of-type {\n",
       "        vertical-align: middle;\n",
       "    }\n",
       "\n",
       "    .dataframe tbody tr th {\n",
       "        vertical-align: top;\n",
       "    }\n",
       "\n",
       "    .dataframe thead th {\n",
       "        text-align: right;\n",
       "    }\n",
       "</style>\n",
       "<table border=\"1\" class=\"dataframe\">\n",
       "  <thead>\n",
       "    <tr style=\"text-align: right;\">\n",
       "      <th></th>\n",
       "      <th>class</th>\n",
       "      <th>score</th>\n",
       "    </tr>\n",
       "  </thead>\n",
       "  <tbody>\n",
       "    <tr>\n",
       "      <th>0</th>\n",
       "      <td>A</td>\n",
       "      <td>84</td>\n",
       "    </tr>\n",
       "    <tr>\n",
       "      <th>1</th>\n",
       "      <td>A</td>\n",
       "      <td>59</td>\n",
       "    </tr>\n",
       "    <tr>\n",
       "      <th>2</th>\n",
       "      <td>A</td>\n",
       "      <td>49</td>\n",
       "    </tr>\n",
       "    <tr>\n",
       "      <th>3</th>\n",
       "      <td>A</td>\n",
       "      <td>57</td>\n",
       "    </tr>\n",
       "    <tr>\n",
       "      <th>4</th>\n",
       "      <td>A</td>\n",
       "      <td>82</td>\n",
       "    </tr>\n",
       "  </tbody>\n",
       "</table>\n",
       "</div>"
      ],
      "text/plain": [
       "  class  score\n",
       "0     A     84\n",
       "1     A     59\n",
       "2     A     49\n",
       "3     A     57\n",
       "4     A     82"
      ]
     },
     "execution_count": 106,
     "metadata": {},
     "output_type": "execute_result"
    }
   ],
   "source": [
    "import pandas as pd \n",
    "df = pd.read_csv('https://raw.githubusercontent.com/Datamanim/datarepo/main/scipy/scipy2.csv')\n",
    "df.head()"
   ]
  },
  {
   "cell_type": "code",
   "execution_count": 107,
   "metadata": {},
   "outputs": [],
   "source": [
    "A = df[df['class']=='A']\n",
    "B = df[df['class']=='B']"
   ]
  },
  {
   "cell_type": "code",
   "execution_count": null,
   "metadata": {},
   "outputs": [],
   "source": []
  },
  {
   "cell_type": "code",
   "execution_count": 108,
   "metadata": {},
   "outputs": [
    {
     "data": {
      "text/plain": [
       "['ConstantInputWarning',\n",
       " 'Covariance',\n",
       " 'DegenerateDataWarning',\n",
       " 'FitError',\n",
       " 'NearConstantInputWarning',\n",
       " '__all__',\n",
       " '__builtins__',\n",
       " '__cached__',\n",
       " '__doc__',\n",
       " '__file__',\n",
       " '__loader__',\n",
       " '__name__',\n",
       " '__package__',\n",
       " '__path__',\n",
       " '__spec__',\n",
       " '_axis_nan_policy',\n",
       " '_biasedurn',\n",
       " '_binned_statistic',\n",
       " '_binomtest',\n",
       " '_boost',\n",
       " '_common',\n",
       " '_constants',\n",
       " '_continuous_distns',\n",
       " '_covariance',\n",
       " '_crosstab',\n",
       " '_discrete_distns',\n",
       " '_distn_infrastructure',\n",
       " '_distr_params',\n",
       " '_entropy',\n",
       " '_fit',\n",
       " '_hypotests',\n",
       " '_kde',\n",
       " '_ksstats',\n",
       " '_levy_stable',\n",
       " '_mannwhitneyu',\n",
       " '_morestats',\n",
       " '_mstats_basic',\n",
       " '_mstats_extras',\n",
       " '_multivariate',\n",
       " '_mvn',\n",
       " '_odds_ratio',\n",
       " '_page_trend_test',\n",
       " '_qmc',\n",
       " '_qmc_cy',\n",
       " '_rcont',\n",
       " '_relative_risk',\n",
       " '_resampling',\n",
       " '_rvs_sampling',\n",
       " '_sobol',\n",
       " '_statlib',\n",
       " '_stats',\n",
       " '_stats_mstats_common',\n",
       " '_stats_py',\n",
       " '_stats_pythran',\n",
       " '_tukeylambda_stats',\n",
       " '_variation',\n",
       " '_warnings_errors',\n",
       " 'alexandergovern',\n",
       " 'alpha',\n",
       " 'anderson',\n",
       " 'anderson_ksamp',\n",
       " 'anglit',\n",
       " 'ansari',\n",
       " 'arcsine',\n",
       " 'argus',\n",
       " 'barnard_exact',\n",
       " 'bartlett',\n",
       " 'bayes_mvs',\n",
       " 'bernoulli',\n",
       " 'beta',\n",
       " 'betabinom',\n",
       " 'betaprime',\n",
       " 'biasedurn',\n",
       " 'binned_statistic',\n",
       " 'binned_statistic_2d',\n",
       " 'binned_statistic_dd',\n",
       " 'binom',\n",
       " 'binom_test',\n",
       " 'binomtest',\n",
       " 'boltzmann',\n",
       " 'bootstrap',\n",
       " 'boschloo_exact',\n",
       " 'boxcox',\n",
       " 'boxcox_llf',\n",
       " 'boxcox_normmax',\n",
       " 'boxcox_normplot',\n",
       " 'bradford',\n",
       " 'brunnermunzel',\n",
       " 'burr',\n",
       " 'burr12',\n",
       " 'cauchy',\n",
       " 'chi',\n",
       " 'chi2',\n",
       " 'chi2_contingency',\n",
       " 'chisquare',\n",
       " 'circmean',\n",
       " 'circstd',\n",
       " 'circvar',\n",
       " 'combine_pvalues',\n",
       " 'contingency',\n",
       " 'cosine',\n",
       " 'cramervonmises',\n",
       " 'cramervonmises_2samp',\n",
       " 'crystalball',\n",
       " 'cumfreq',\n",
       " 'describe',\n",
       " 'dgamma',\n",
       " 'differential_entropy',\n",
       " 'directional_stats',\n",
       " 'dirichlet',\n",
       " 'distributions',\n",
       " 'dlaplace',\n",
       " 'dweibull',\n",
       " 'energy_distance',\n",
       " 'entropy',\n",
       " 'epps_singleton_2samp',\n",
       " 'erlang',\n",
       " 'expectile',\n",
       " 'expon',\n",
       " 'exponnorm',\n",
       " 'exponpow',\n",
       " 'exponweib',\n",
       " 'f',\n",
       " 'f_oneway',\n",
       " 'fatiguelife',\n",
       " 'find_repeats',\n",
       " 'fisher_exact',\n",
       " 'fisk',\n",
       " 'fit',\n",
       " 'fligner',\n",
       " 'foldcauchy',\n",
       " 'foldnorm',\n",
       " 'friedmanchisquare',\n",
       " 'gamma',\n",
       " 'gausshyper',\n",
       " 'gaussian_kde',\n",
       " 'genexpon',\n",
       " 'genextreme',\n",
       " 'gengamma',\n",
       " 'genhalflogistic',\n",
       " 'genhyperbolic',\n",
       " 'geninvgauss',\n",
       " 'genlogistic',\n",
       " 'gennorm',\n",
       " 'genpareto',\n",
       " 'geom',\n",
       " 'gibrat',\n",
       " 'gilbrat',\n",
       " 'gmean',\n",
       " 'gompertz',\n",
       " 'goodness_of_fit',\n",
       " 'gstd',\n",
       " 'gumbel_l',\n",
       " 'gumbel_r',\n",
       " 'gzscore',\n",
       " 'halfcauchy',\n",
       " 'halfgennorm',\n",
       " 'halflogistic',\n",
       " 'halfnorm',\n",
       " 'hmean',\n",
       " 'hypergeom',\n",
       " 'hypsecant',\n",
       " 'invgamma',\n",
       " 'invgauss',\n",
       " 'invweibull',\n",
       " 'invwishart',\n",
       " 'iqr',\n",
       " 'jarque_bera',\n",
       " 'johnsonsb',\n",
       " 'johnsonsu',\n",
       " 'kappa3',\n",
       " 'kappa4',\n",
       " 'kde',\n",
       " 'kendalltau',\n",
       " 'kruskal',\n",
       " 'ks_1samp',\n",
       " 'ks_2samp',\n",
       " 'ksone',\n",
       " 'kstat',\n",
       " 'kstatvar',\n",
       " 'kstest',\n",
       " 'kstwo',\n",
       " 'kstwobign',\n",
       " 'kurtosis',\n",
       " 'kurtosistest',\n",
       " 'laplace',\n",
       " 'laplace_asymmetric',\n",
       " 'levene',\n",
       " 'levy',\n",
       " 'levy_l',\n",
       " 'levy_stable',\n",
       " 'linregress',\n",
       " 'loggamma',\n",
       " 'logistic',\n",
       " 'loglaplace',\n",
       " 'lognorm',\n",
       " 'logser',\n",
       " 'loguniform',\n",
       " 'lomax',\n",
       " 'mannwhitneyu',\n",
       " 'matrix_normal',\n",
       " 'maxwell',\n",
       " 'median_abs_deviation',\n",
       " 'median_test',\n",
       " 'mielke',\n",
       " 'mode',\n",
       " 'moment',\n",
       " 'monte_carlo_test',\n",
       " 'mood',\n",
       " 'morestats',\n",
       " 'moyal',\n",
       " 'mstats',\n",
       " 'mstats_basic',\n",
       " 'mstats_extras',\n",
       " 'multinomial',\n",
       " 'multiscale_graphcorr',\n",
       " 'multivariate_hypergeom',\n",
       " 'multivariate_normal',\n",
       " 'multivariate_t',\n",
       " 'mvn',\n",
       " 'mvsdist',\n",
       " 'nakagami',\n",
       " 'nbinom',\n",
       " 'ncf',\n",
       " 'nchypergeom_fisher',\n",
       " 'nchypergeom_wallenius',\n",
       " 'nct',\n",
       " 'ncx2',\n",
       " 'nhypergeom',\n",
       " 'norm',\n",
       " 'normaltest',\n",
       " 'norminvgauss',\n",
       " 'obrientransform',\n",
       " 'ortho_group',\n",
       " 'page_trend_test',\n",
       " 'pareto',\n",
       " 'pearson3',\n",
       " 'pearsonr',\n",
       " 'percentileofscore',\n",
       " 'permutation_test',\n",
       " 'planck',\n",
       " 'pmean',\n",
       " 'pointbiserialr',\n",
       " 'poisson',\n",
       " 'poisson_means_test',\n",
       " 'power_divergence',\n",
       " 'powerlaw',\n",
       " 'powerlognorm',\n",
       " 'powernorm',\n",
       " 'ppcc_max',\n",
       " 'ppcc_plot',\n",
       " 'probplot',\n",
       " 'qmc',\n",
       " 'randint',\n",
       " 'random_correlation',\n",
       " 'random_table',\n",
       " 'rankdata',\n",
       " 'ranksums',\n",
       " 'rayleigh',\n",
       " 'rdist',\n",
       " 'recipinvgauss',\n",
       " 'reciprocal',\n",
       " 'relfreq',\n",
       " 'rice',\n",
       " 'rv_continuous',\n",
       " 'rv_discrete',\n",
       " 'rv_histogram',\n",
       " 'rvs_ratio_uniforms',\n",
       " 'scoreatpercentile',\n",
       " 'sem',\n",
       " 'semicircular',\n",
       " 'shapiro',\n",
       " 'siegelslopes',\n",
       " 'sigmaclip',\n",
       " 'skellam',\n",
       " 'skew',\n",
       " 'skewcauchy',\n",
       " 'skewnorm',\n",
       " 'skewtest',\n",
       " 'somersd',\n",
       " 'spearmanr',\n",
       " 'special_ortho_group',\n",
       " 'statlib',\n",
       " 'stats',\n",
       " 'studentized_range',\n",
       " 't',\n",
       " 'test',\n",
       " 'theilslopes',\n",
       " 'tiecorrect',\n",
       " 'tmax',\n",
       " 'tmean',\n",
       " 'tmin',\n",
       " 'trapezoid',\n",
       " 'trapz',\n",
       " 'triang',\n",
       " 'trim1',\n",
       " 'trim_mean',\n",
       " 'trimboth',\n",
       " 'truncexpon',\n",
       " 'truncnorm',\n",
       " 'truncpareto',\n",
       " 'truncweibull_min',\n",
       " 'tsem',\n",
       " 'tstd',\n",
       " 'ttest_1samp',\n",
       " 'ttest_ind',\n",
       " 'ttest_ind_from_stats',\n",
       " 'ttest_rel',\n",
       " 'tukey_hsd',\n",
       " 'tukeylambda',\n",
       " 'tvar',\n",
       " 'uniform',\n",
       " 'uniform_direction',\n",
       " 'unitary_group',\n",
       " 'variation',\n",
       " 'vonmises',\n",
       " 'vonmises_line',\n",
       " 'wald',\n",
       " 'wasserstein_distance',\n",
       " 'weibull_max',\n",
       " 'weibull_min',\n",
       " 'weightedtau',\n",
       " 'wilcoxon',\n",
       " 'wishart',\n",
       " 'wrapcauchy',\n",
       " 'yeojohnson',\n",
       " 'yeojohnson_llf',\n",
       " 'yeojohnson_normmax',\n",
       " 'yeojohnson_normplot',\n",
       " 'yulesimon',\n",
       " 'zipf',\n",
       " 'zipfian',\n",
       " 'zmap',\n",
       " 'zscore']"
      ]
     },
     "execution_count": 108,
     "metadata": {},
     "output_type": "execute_result"
    }
   ],
   "source": [
    "dir (scipy.stats) "
   ]
  },
  {
   "cell_type": "code",
   "execution_count": 111,
   "metadata": {},
   "outputs": [
    {
     "name": "stdout",
     "output_type": "stream",
     "text": [
      "ShapiroResult(statistic=0.9538977146148682, pvalue=4.097050521068013e-08)\n",
      "ShapiroResult(statistic=0.9422046542167664, pvalue=1.1735706948456937e-06)\n"
     ]
    }
   ],
   "source": [
    "from scipy.stats import fisher_exact, fligner, levene\n",
    "\n",
    "print(shapiro(A['score']))\n",
    "print(shapiro(B['score']))"
   ]
  },
  {
   "cell_type": "code",
   "execution_count": 113,
   "metadata": {},
   "outputs": [
    {
     "name": "stdout",
     "output_type": "stream",
     "text": [
      "FlignerResult(statistic=0.7281251154135562, pvalue=0.39349158741002765)\n",
      "LeveneResult(statistic=0.3145466542912649, pvalue=0.5751662820554713)\n"
     ]
    }
   ],
   "source": [
    "\n",
    "print(fligner(A['score'],B['score']))\n",
    "\n",
    "print(levene(A['score'],B['score']))\n"
   ]
  },
  {
   "cell_type": "code",
   "execution_count": 114,
   "metadata": {},
   "outputs": [
    {
     "data": {
      "text/html": [
       "<div>\n",
       "<style scoped>\n",
       "    .dataframe tbody tr th:only-of-type {\n",
       "        vertical-align: middle;\n",
       "    }\n",
       "\n",
       "    .dataframe tbody tr th {\n",
       "        vertical-align: top;\n",
       "    }\n",
       "\n",
       "    .dataframe thead th {\n",
       "        text-align: right;\n",
       "    }\n",
       "</style>\n",
       "<table border=\"1\" class=\"dataframe\">\n",
       "  <thead>\n",
       "    <tr style=\"text-align: right;\">\n",
       "      <th></th>\n",
       "      <th>class</th>\n",
       "      <th>score</th>\n",
       "    </tr>\n",
       "  </thead>\n",
       "  <tbody>\n",
       "    <tr>\n",
       "      <th>0</th>\n",
       "      <td>A</td>\n",
       "      <td>32</td>\n",
       "    </tr>\n",
       "    <tr>\n",
       "      <th>1</th>\n",
       "      <td>A</td>\n",
       "      <td>69</td>\n",
       "    </tr>\n",
       "    <tr>\n",
       "      <th>2</th>\n",
       "      <td>A</td>\n",
       "      <td>68</td>\n",
       "    </tr>\n",
       "    <tr>\n",
       "      <th>3</th>\n",
       "      <td>A</td>\n",
       "      <td>60</td>\n",
       "    </tr>\n",
       "    <tr>\n",
       "      <th>4</th>\n",
       "      <td>A</td>\n",
       "      <td>78</td>\n",
       "    </tr>\n",
       "  </tbody>\n",
       "</table>\n",
       "</div>"
      ],
      "text/plain": [
       "  class  score\n",
       "0     A     32\n",
       "1     A     69\n",
       "2     A     68\n",
       "3     A     60\n",
       "4     A     78"
      ]
     },
     "execution_count": 114,
     "metadata": {},
     "output_type": "execute_result"
    }
   ],
   "source": [
    "import pandas as pd \n",
    "df = pd.read_csv('https://raw.githubusercontent.com/Datamanim/datarepo/main/scipy/scipy3.csv')\n",
    "df.head()"
   ]
  },
  {
   "cell_type": "code",
   "execution_count": 115,
   "metadata": {},
   "outputs": [],
   "source": [
    "A = df[df['class']=='A']\n",
    "B = df[df['class']=='B']"
   ]
  },
  {
   "cell_type": "code",
   "execution_count": 117,
   "metadata": {},
   "outputs": [
    {
     "name": "stdout",
     "output_type": "stream",
     "text": [
      "ShapiroResult(statistic=0.9444763660430908, pvalue=3.3300091573096324e-09)\n",
      "ShapiroResult(statistic=0.9614471197128296, pvalue=7.400245522148907e-05)\n"
     ]
    }
   ],
   "source": [
    "print(shapiro(A['score']))\n",
    "print(shapiro(B['score']))"
   ]
  },
  {
   "cell_type": "code",
   "execution_count": 118,
   "metadata": {},
   "outputs": [
    {
     "name": "stdout",
     "output_type": "stream",
     "text": [
      "FlignerResult(statistic=4.960366756026232, pvalue=0.025934706256615564)\n",
      "LeveneResult(statistic=4.307122424591436, pvalue=0.03848734007752694)\n"
     ]
    }
   ],
   "source": [
    "print(fligner(A['score'],B['score']))\n",
    "\n",
    "print(levene(A['score'],B['score']))"
   ]
  },
  {
   "cell_type": "code",
   "execution_count": 119,
   "metadata": {},
   "outputs": [
    {
     "data": {
      "text/html": [
       "<div>\n",
       "<style scoped>\n",
       "    .dataframe tbody tr th:only-of-type {\n",
       "        vertical-align: middle;\n",
       "    }\n",
       "\n",
       "    .dataframe tbody tr th {\n",
       "        vertical-align: top;\n",
       "    }\n",
       "\n",
       "    .dataframe thead th {\n",
       "        text-align: right;\n",
       "    }\n",
       "</style>\n",
       "<table border=\"1\" class=\"dataframe\">\n",
       "  <thead>\n",
       "    <tr style=\"text-align: right;\">\n",
       "      <th></th>\n",
       "      <th>A</th>\n",
       "      <th>B</th>\n",
       "    </tr>\n",
       "  </thead>\n",
       "  <tbody>\n",
       "    <tr>\n",
       "      <th>0</th>\n",
       "      <td>44</td>\n",
       "      <td>36</td>\n",
       "    </tr>\n",
       "    <tr>\n",
       "      <th>1</th>\n",
       "      <td>61</td>\n",
       "      <td>92</td>\n",
       "    </tr>\n",
       "    <tr>\n",
       "      <th>2</th>\n",
       "      <td>76</td>\n",
       "      <td>41</td>\n",
       "    </tr>\n",
       "    <tr>\n",
       "      <th>3</th>\n",
       "      <td>64</td>\n",
       "      <td>45</td>\n",
       "    </tr>\n",
       "    <tr>\n",
       "      <th>4</th>\n",
       "      <td>65</td>\n",
       "      <td>35</td>\n",
       "    </tr>\n",
       "  </tbody>\n",
       "</table>\n",
       "</div>"
      ],
      "text/plain": [
       "    A   B\n",
       "0  44  36\n",
       "1  61  92\n",
       "2  76  41\n",
       "3  64  45\n",
       "4  65  35"
      ]
     },
     "execution_count": 119,
     "metadata": {},
     "output_type": "execute_result"
    }
   ],
   "source": [
    "import pandas as pd \n",
    "df = pd.read_csv('https://raw.githubusercontent.com/Datamanim/datarepo/main/scipy/scipy6.csv')\n",
    "df.head()"
   ]
  },
  {
   "cell_type": "code",
   "execution_count": 120,
   "metadata": {},
   "outputs": [],
   "source": [
    "A = df['A']\n",
    "B = df['B']"
   ]
  },
  {
   "cell_type": "code",
   "execution_count": 121,
   "metadata": {},
   "outputs": [
    {
     "name": "stdout",
     "output_type": "stream",
     "text": [
      "ShapiroResult(statistic=0.964852511882782, pvalue=0.00016999404761008918)\n",
      "ShapiroResult(statistic=0.9371628165245056, pvalue=4.4986816760683723e-07)\n"
     ]
    }
   ],
   "source": [
    "print(shapiro(A))\n",
    "print(shapiro(B))"
   ]
  },
  {
   "cell_type": "code",
   "execution_count": 122,
   "metadata": {},
   "outputs": [
    {
     "name": "stdout",
     "output_type": "stream",
     "text": [
      "LeveneResult(statistic=5.147914610463281, pvalue=0.023868975493455683)\n",
      "FlignerResult(statistic=5.124831619122788, pvalue=0.023585858890699054)\n"
     ]
    }
   ],
   "source": [
    "print(levene(A,B))\n",
    "print(fligner(A,B))"
   ]
  },
  {
   "cell_type": "code",
   "execution_count": 123,
   "metadata": {},
   "outputs": [
    {
     "data": {
      "text/html": [
       "<div>\n",
       "<style scoped>\n",
       "    .dataframe tbody tr th:only-of-type {\n",
       "        vertical-align: middle;\n",
       "    }\n",
       "\n",
       "    .dataframe tbody tr th {\n",
       "        vertical-align: top;\n",
       "    }\n",
       "\n",
       "    .dataframe thead th {\n",
       "        text-align: right;\n",
       "    }\n",
       "</style>\n",
       "<table border=\"1\" class=\"dataframe\">\n",
       "  <thead>\n",
       "    <tr style=\"text-align: right;\">\n",
       "      <th></th>\n",
       "      <th>A</th>\n",
       "      <th>B</th>\n",
       "    </tr>\n",
       "  </thead>\n",
       "  <tbody>\n",
       "    <tr>\n",
       "      <th>0</th>\n",
       "      <td>74</td>\n",
       "      <td>30.0</td>\n",
       "    </tr>\n",
       "    <tr>\n",
       "      <th>1</th>\n",
       "      <td>30</td>\n",
       "      <td>59.0</td>\n",
       "    </tr>\n",
       "    <tr>\n",
       "      <th>2</th>\n",
       "      <td>35</td>\n",
       "      <td>69.0</td>\n",
       "    </tr>\n",
       "    <tr>\n",
       "      <th>3</th>\n",
       "      <td>45</td>\n",
       "      <td>88.0</td>\n",
       "    </tr>\n",
       "    <tr>\n",
       "      <th>4</th>\n",
       "      <td>74</td>\n",
       "      <td>68.0</td>\n",
       "    </tr>\n",
       "  </tbody>\n",
       "</table>\n",
       "</div>"
      ],
      "text/plain": [
       "    A     B\n",
       "0  74  30.0\n",
       "1  30  59.0\n",
       "2  35  69.0\n",
       "3  45  88.0\n",
       "4  74  68.0"
      ]
     },
     "execution_count": 123,
     "metadata": {},
     "output_type": "execute_result"
    }
   ],
   "source": [
    "import pandas as pd \n",
    "df = pd.read_csv('https://raw.githubusercontent.com/Datamanim/datarepo/main/scipy/scipy5.csv')\n",
    "df.head()"
   ]
  },
  {
   "cell_type": "code",
   "execution_count": 127,
   "metadata": {},
   "outputs": [],
   "source": [
    "A = df['A']\n",
    "B = df['B'].fillna(df['B'].mean())"
   ]
  },
  {
   "cell_type": "code",
   "execution_count": 128,
   "metadata": {},
   "outputs": [
    {
     "name": "stdout",
     "output_type": "stream",
     "text": [
      "ShapiroResult(statistic=0.93753981590271, pvalue=6.175894240456614e-10)\n",
      "ShapiroResult(statistic=0.9170354008674622, pvalue=7.811895227916033e-12)\n"
     ]
    }
   ],
   "source": [
    "print(shapiro(A))\n",
    "print(shapiro(B))"
   ]
  },
  {
   "cell_type": "code",
   "execution_count": 129,
   "metadata": {},
   "outputs": [
    {
     "name": "stdout",
     "output_type": "stream",
     "text": [
      "LeveneResult(statistic=107.46107010644943, pvalue=2.872706047548247e-23)\n",
      "FlignerResult(statistic=81.89264702870489, pvalue=1.4368285314656846e-19)\n"
     ]
    }
   ],
   "source": [
    "print(levene(A,B))\n",
    "print(fligner(A,B))"
   ]
  },
  {
   "cell_type": "code",
   "execution_count": 277,
   "metadata": {},
   "outputs": [
    {
     "data": {
      "image/png": "[encoded data removed]",
      "text/plain": [
       "<Figure size 640x480 with 1 Axes>"
      ]
     },
     "metadata": {},
     "output_type": "display_data"
    }
   ],
   "source": [
    "import pandas as pd \n",
    "import matplotlib.pyplot as plt\n",
    "df1 = pd.read_csv('https://raw.githubusercontent.com/Datamanim/datarepo/main/scipy/ind1.csv')\n",
    "df2 = pd.read_csv('https://raw.githubusercontent.com/Datamanim/datarepo/main/scipy/ind2.csv')\n",
    "\n",
    "\n",
    "plt.hist(df1,label='df1',alpha=0.4)\n",
    "plt.hist(df2,label=\"df2\",alpha=0.4)\n",
    "plt.xlabel('Score bins')\n",
    "plt.ylabel('Counts')\n",
    "plt.legend()\n",
    "plt.show()"
   ]
  },
  {
   "cell_type": "code",
   "execution_count": 279,
   "metadata": {},
   "outputs": [
    {
     "data": {
      "image/png": "[encoded data removed]",
      "text/plain": [
       "<Figure size 1200x400 with 3 Axes>"
      ]
     },
     "metadata": {},
     "output_type": "display_data"
    }
   ],
   "source": [
    "import matplotlib.pyplot as plt\n",
    "\n",
    "fig, ax = plt.subplots(1,3,figsize=(12,4))\n",
    "\n",
    "ax[0].boxplot(df1)\n",
    "ax[0].set_title('df1')\n",
    "\n",
    "\n",
    "ax[1].hist(df2)\n",
    "ax[1].set_title('df2')\n",
    "\n",
    "plt.show()"
   ]
  },
  {
   "cell_type": "code",
   "execution_count": 133,
   "metadata": {},
   "outputs": [
    {
     "name": "stdout",
     "output_type": "stream",
     "text": [
      "ShapiroResult(statistic=0.9860946536064148, pvalue=0.379673033952713)\n",
      "ShapiroResult(statistic=0.990182638168335, pvalue=0.6793646216392517)\n"
     ]
    }
   ],
   "source": [
    "print(shapiro(df1))\n",
    "print(shapiro(df2))"
   ]
  },
  {
   "cell_type": "code",
   "execution_count": 134,
   "metadata": {},
   "outputs": [],
   "source": [
    "from scipy.stats import ttest_ind"
   ]
  },
  {
   "cell_type": "code",
   "execution_count": 135,
   "metadata": {},
   "outputs": [
    {
     "name": "stdout",
     "output_type": "stream",
     "text": [
      "Help on function ttest_ind in module scipy.stats._stats_py:\n",
      "\n",
      "ttest_ind(a, b, axis=0, equal_var=True, nan_policy='propagate', permutations=None, random_state=None, alternative='two-sided', trim=0)\n",
      "    Calculate the T-test for the means of *two independent* samples of scores.\n",
      "    \n",
      "    This is a test for the null hypothesis that 2 independent samples\n",
      "    have identical average (expected) values. This test assumes that the\n",
      "    populations have identical variances by default.\n",
      "    \n",
      "    Parameters\n",
      "    ----------\n",
      "    a, b : array_like\n",
      "        The arrays must have the same shape, except in the dimension\n",
      "        corresponding to `axis` (the first, by default).\n",
      "    axis : int or None, optional\n",
      "        Axis along which to compute test. If None, compute over the whole\n",
      "        arrays, `a`, and `b`.\n",
      "    equal_var : bool, optional\n",
      "        If True (default), perform a standard independent 2 sample test\n",
      "        that assumes equal population variances [1]_.\n",
      "        If False, perform Welch's t-test, which does not assume equal\n",
      "        population variance [2]_.\n",
      "    \n",
      "        .. versionadded:: 0.11.0\n",
      "    \n",
      "    nan_policy : {'propagate', 'raise', 'omit'}, optional\n",
      "        Defines how to handle when input contains nan.\n",
      "        The following options are available (default is 'propagate'):\n",
      "    \n",
      "          * 'propagate': returns nan\n",
      "          * 'raise': throws an error\n",
      "          * 'omit': performs the calculations ignoring nan values\n",
      "    \n",
      "        The 'omit' option is not currently available for permutation tests or\n",
      "        one-sided asympyotic tests.\n",
      "    \n",
      "    permutations : non-negative int, np.inf, or None (default), optional\n",
      "        If 0 or None (default), use the t-distribution to calculate p-values.\n",
      "        Otherwise, `permutations` is  the number of random permutations that\n",
      "        will be used to estimate p-values using a permutation test. If\n",
      "        `permutations` equals or exceeds the number of distinct partitions of\n",
      "        the pooled data, an exact test is performed instead (i.e. each\n",
      "        distinct partition is used exactly once). See Notes for details.\n",
      "    \n",
      "        .. versionadded:: 1.7.0\n",
      "    \n",
      "    random_state : {None, int, `numpy.random.Generator`,\n",
      "            `numpy.random.RandomState`}, optional\n",
      "    \n",
      "        If `seed` is None (or `np.random`), the `numpy.random.RandomState`\n",
      "        singleton is used.\n",
      "        If `seed` is an int, a new ``RandomState`` instance is used,\n",
      "        seeded with `seed`.\n",
      "        If `seed` is already a ``Generator`` or ``RandomState`` instance then\n",
      "        that instance is used.\n",
      "    \n",
      "        Pseudorandom number generator state used to generate permutations\n",
      "        (used only when `permutations` is not None).\n",
      "    \n",
      "        .. versionadded:: 1.7.0\n",
      "    \n",
      "    alternative : {'two-sided', 'less', 'greater'}, optional\n",
      "        Defines the alternative hypothesis.\n",
      "        The following options are available (default is 'two-sided'):\n",
      "    \n",
      "        * 'two-sided': the means of the distributions underlying the samples\n",
      "          are unequal.\n",
      "        * 'less': the mean of the distribution underlying the first sample\n",
      "          is less than the mean of the distribution underlying the second\n",
      "          sample.\n",
      "        * 'greater': the mean of the distribution underlying the first\n",
      "          sample is greater than the mean of the distribution underlying\n",
      "          the second sample.\n",
      "    \n",
      "        .. versionadded:: 1.6.0\n",
      "    \n",
      "    trim : float, optional\n",
      "        If nonzero, performs a trimmed (Yuen's) t-test.\n",
      "        Defines the fraction of elements to be trimmed from each end of the\n",
      "        input samples. If 0 (default), no elements will be trimmed from either\n",
      "        side. The number of trimmed elements from each tail is the floor of the\n",
      "        trim times the number of elements. Valid range is [0, .5).\n",
      "    \n",
      "        .. versionadded:: 1.7\n",
      "    \n",
      "    Returns\n",
      "    -------\n",
      "    statistic : float or array\n",
      "        The calculated t-statistic.\n",
      "    pvalue : float or array\n",
      "        The p-value.\n",
      "    \n",
      "    Notes\n",
      "    -----\n",
      "    Suppose we observe two independent samples, e.g. flower petal lengths, and\n",
      "    we are considering whether the two samples were drawn from the same\n",
      "    population (e.g. the same species of flower or two species with similar\n",
      "    petal characteristics) or two different populations.\n",
      "    \n",
      "    The t-test quantifies the difference between the arithmetic means\n",
      "    of the two samples. The p-value quantifies the probability of observing\n",
      "    as or more extreme values assuming the null hypothesis, that the\n",
      "    samples are drawn from populations with the same population means, is true.\n",
      "    A p-value larger than a chosen threshold (e.g. 5% or 1%) indicates that\n",
      "    our observation is not so unlikely to have occurred by chance. Therefore,\n",
      "    we do not reject the null hypothesis of equal population means.\n",
      "    If the p-value is smaller than our threshold, then we have evidence\n",
      "    against the null hypothesis of equal population means.\n",
      "    \n",
      "    By default, the p-value is determined by comparing the t-statistic of the\n",
      "    observed data against a theoretical t-distribution.\n",
      "    When ``1 < permutations < binom(n, k)``, where\n",
      "    \n",
      "    * ``k`` is the number of observations in `a`,\n",
      "    * ``n`` is the total number of observations in `a` and `b`, and\n",
      "    * ``binom(n, k)`` is the binomial coefficient (``n`` choose ``k``),\n",
      "    \n",
      "    the data are pooled (concatenated), randomly assigned to either group `a`\n",
      "    or `b`, and the t-statistic is calculated. This process is performed\n",
      "    repeatedly (`permutation` times), generating a distribution of the\n",
      "    t-statistic under the null hypothesis, and the t-statistic of the observed\n",
      "    data is compared to this distribution to determine the p-value.\n",
      "    Specifically, the p-value reported is the \"achieved significance level\"\n",
      "    (ASL) as defined in 4.4 of [3]_. Note that there are other ways of\n",
      "    estimating p-values using randomized permutation tests; for other\n",
      "    options, see the more general `permutation_test`.\n",
      "    \n",
      "    When ``permutations >= binom(n, k)``, an exact test is performed: the data\n",
      "    are partitioned between the groups in each distinct way exactly once.\n",
      "    \n",
      "    The permutation test can be computationally expensive and not necessarily\n",
      "    more accurate than the analytical test, but it does not make strong\n",
      "    assumptions about the shape of the underlying distribution.\n",
      "    \n",
      "    Use of trimming is commonly referred to as the trimmed t-test. At times\n",
      "    called Yuen's t-test, this is an extension of Welch's t-test, with the\n",
      "    difference being the use of winsorized means in calculation of the variance\n",
      "    and the trimmed sample size in calculation of the statistic. Trimming is\n",
      "    recommended if the underlying distribution is long-tailed or contaminated\n",
      "    with outliers [4]_.\n",
      "    \n",
      "    The statistic is calculated as ``(np.mean(a) - np.mean(b))/se``, where\n",
      "    ``se`` is the standard error. Therefore, the statistic will be positive\n",
      "    when the sample mean of `a` is greater than the sample mean of `b` and\n",
      "    negative when the sample mean of `a` is less than the sample mean of\n",
      "    `b`.\n",
      "    \n",
      "    References\n",
      "    ----------\n",
      "    .. [1] https://en.wikipedia.org/wiki/T-test#Independent_two-sample_t-test\n",
      "    \n",
      "    .. [2] https://en.wikipedia.org/wiki/Welch%27s_t-test\n",
      "    \n",
      "    .. [3] B. Efron and T. Hastie. Computer Age Statistical Inference. (2016).\n",
      "    \n",
      "    .. [4] Yuen, Karen K. \"The Two-Sample Trimmed t for Unequal Population\n",
      "           Variances.\" Biometrika, vol. 61, no. 1, 1974, pp. 165-170. JSTOR,\n",
      "           www.jstor.org/stable/2334299. Accessed 30 Mar. 2021.\n",
      "    \n",
      "    .. [5] Yuen, Karen K., and W. J. Dixon. \"The Approximate Behaviour and\n",
      "           Performance of the Two-Sample Trimmed t.\" Biometrika, vol. 60,\n",
      "           no. 2, 1973, pp. 369-374. JSTOR, www.jstor.org/stable/2334550.\n",
      "           Accessed 30 Mar. 2021.\n",
      "    \n",
      "    Examples\n",
      "    --------\n",
      "    >>> import numpy as np\n",
      "    >>> from scipy import stats\n",
      "    >>> rng = np.random.default_rng()\n",
      "    \n",
      "    Test with sample with identical means:\n",
      "    \n",
      "    >>> rvs1 = stats.norm.rvs(loc=5, scale=10, size=500, random_state=rng)\n",
      "    >>> rvs2 = stats.norm.rvs(loc=5, scale=10, size=500, random_state=rng)\n",
      "    >>> stats.ttest_ind(rvs1, rvs2)\n",
      "    Ttest_indResult(statistic=-0.4390847099199348, pvalue=0.6606952038870015)\n",
      "    >>> stats.ttest_ind(rvs1, rvs2, equal_var=False)\n",
      "    Ttest_indResult(statistic=-0.4390847099199348, pvalue=0.6606952553131064)\n",
      "    \n",
      "    `ttest_ind` underestimates p for unequal variances:\n",
      "    \n",
      "    >>> rvs3 = stats.norm.rvs(loc=5, scale=20, size=500, random_state=rng)\n",
      "    >>> stats.ttest_ind(rvs1, rvs3)\n",
      "    Ttest_indResult(statistic=-1.6370984482905417, pvalue=0.1019251574705033)\n",
      "    >>> stats.ttest_ind(rvs1, rvs3, equal_var=False)\n",
      "    Ttest_indResult(statistic=-1.637098448290542, pvalue=0.10202110497954867)\n",
      "    \n",
      "    When ``n1 != n2``, the equal variance t-statistic is no longer equal to the\n",
      "    unequal variance t-statistic:\n",
      "    \n",
      "    >>> rvs4 = stats.norm.rvs(loc=5, scale=20, size=100, random_state=rng)\n",
      "    >>> stats.ttest_ind(rvs1, rvs4)\n",
      "    Ttest_indResult(statistic=-1.9481646859513422, pvalue=0.05186270935842703)\n",
      "    >>> stats.ttest_ind(rvs1, rvs4, equal_var=False)\n",
      "    Ttest_indResult(statistic=-1.3146566100751664, pvalue=0.1913495266513811)\n",
      "    \n",
      "    T-test with different means, variance, and n:\n",
      "    \n",
      "    >>> rvs5 = stats.norm.rvs(loc=8, scale=20, size=100, random_state=rng)\n",
      "    >>> stats.ttest_ind(rvs1, rvs5)\n",
      "    Ttest_indResult(statistic=-2.8415950600298774, pvalue=0.0046418707568707885)\n",
      "    >>> stats.ttest_ind(rvs1, rvs5, equal_var=False)\n",
      "    Ttest_indResult(statistic=-1.8686598649188084, pvalue=0.06434714193919686)\n",
      "    \n",
      "    When performing a permutation test, more permutations typically yields\n",
      "    more accurate results. Use a ``np.random.Generator`` to ensure\n",
      "    reproducibility:\n",
      "    \n",
      "    >>> stats.ttest_ind(rvs1, rvs5, permutations=10000,\n",
      "    ...                 random_state=rng)\n",
      "    Ttest_indResult(statistic=-2.8415950600298774, pvalue=0.0052994700529947)\n",
      "    \n",
      "    Take these two samples, one of which has an extreme tail.\n",
      "    \n",
      "    >>> a = (56, 128.6, 12, 123.8, 64.34, 78, 763.3)\n",
      "    >>> b = (1.1, 2.9, 4.2)\n",
      "    \n",
      "    Use the `trim` keyword to perform a trimmed (Yuen) t-test. For example,\n",
      "    using 20% trimming, ``trim=.2``, the test will reduce the impact of one\n",
      "    (``np.floor(trim*len(a))``) element from each tail of sample `a`. It will\n",
      "    have no effect on sample `b` because ``np.floor(trim*len(b))`` is 0.\n",
      "    \n",
      "    >>> stats.ttest_ind(a, b, trim=.2)\n",
      "    Ttest_indResult(statistic=3.4463884028073513,\n",
      "                    pvalue=0.01369338726499547)\n",
      "\n"
     ]
    }
   ],
   "source": [
    "help(ttest_ind)"
   ]
  },
  {
   "cell_type": "code",
   "execution_count": 144,
   "metadata": {},
   "outputs": [
    {
     "data": {
      "text/plain": [
       "array([105.40845765, 108.72261808,  84.39863439, 100.51081647,\n",
       "       100.96594909, 105.45667967, 107.69768963,  94.80175764,\n",
       "        96.11898368, 114.37908704, 102.08921077,  99.90603186,\n",
       "        97.26374976,  95.19936842,  93.47276883, 105.16086974,\n",
       "        96.53547985,  94.07103035, 101.02290443, 105.55763457,\n",
       "        99.06024133, 103.96816748, 106.49869688, 103.25233823,\n",
       "       105.11671249, 106.52316714, 104.7171334 , 109.31571775,\n",
       "        92.6695503 , 105.45823653, 103.10739042,  92.65757594,\n",
       "       105.17619172,  93.49120405, 105.06049533, 107.8769876 ,\n",
       "       100.250748  , 104.28319086, 100.56659661, 106.83025335,\n",
       "       101.29201209,  98.65049162,  99.81904107,  98.00045205,\n",
       "       104.90282785,  99.31683942, 102.8710963 , 104.48910436,\n",
       "       100.87476148, 110.68100947,  95.34973308, 102.62869175,\n",
       "        93.02007031, 102.90065989, 100.68418243, 102.6381788 ,\n",
       "       103.05255071,  88.85765681,  88.44388782, 108.40858901,\n",
       "       102.10743771,  99.81378751,  92.35639706,  96.25691985,\n",
       "       107.11106096,  97.76660761, 101.64484163,  94.28389059,\n",
       "        98.50905145, 102.39675142, 105.11469692, 106.07191021,\n",
       "       100.40647522, 103.2600943 ,  96.04242406, 100.06819726,\n",
       "       101.92598644, 102.39397891, 109.03683528,  99.61249137,\n",
       "        90.92522624,  95.71448696,  95.45999967,  92.41334625,\n",
       "       103.85880651, 100.38954224,  98.0912956 ,  91.08926411,\n",
       "        96.77512215, 100.72736071,  94.1840564 ,  98.00817886,\n",
       "       100.9956056 , 104.13814864, 101.57976782, 104.15802214,\n",
       "       100.09099879,  91.63605842, 101.85353358, 102.07923895])"
      ]
     },
     "execution_count": 144,
     "metadata": {},
     "output_type": "execute_result"
    }
   ],
   "source": [
    "df1.values[:,0]"
   ]
  },
  {
   "cell_type": "code",
   "execution_count": 145,
   "metadata": {},
   "outputs": [
    {
     "name": "stdout",
     "output_type": "stream",
     "text": [
      "LeveneResult(statistic=2.5337683795339547, pvalue=0.11302904824469093)\n",
      "FlignerResult(statistic=2.107582676566027, pvalue=0.14657068909613508)\n"
     ]
    }
   ],
   "source": [
    "print(levene(df1.values[:,0], df2.values[:,0]))\n",
    "print(fligner(df1.values[:,0], df2.values[:,0]))"
   ]
  },
  {
   "cell_type": "code",
   "execution_count": 146,
   "metadata": {},
   "outputs": [
    {
     "name": "stdout",
     "output_type": "stream",
     "text": [
      "Ttest_indResult(statistic=array([2.76719074]), pvalue=array([0.00619015]))\n"
     ]
    }
   ],
   "source": [
    "print(ttest_ind(df1,df2,equal_var=True))"
   ]
  },
  {
   "cell_type": "code",
   "execution_count": 147,
   "metadata": {},
   "outputs": [
    {
     "data": {
      "image/png": "[encoded data removed]",
      "text/plain": [
       "<Figure size 640x480 with 1 Axes>"
      ]
     },
     "metadata": {},
     "output_type": "display_data"
    }
   ],
   "source": [
    "import pandas as pd \n",
    "import matplotlib.pyplot as plt\n",
    "df = pd.read_csv('https://raw.githubusercontent.com/Datamanim/datarepo/main/scipy/scipy5.csv')\n",
    "\n",
    "plt.hist(df['A'],alpha=0.5,label='A')\n",
    "plt.hist(df['B'].dropna(),alpha=0.5,label=\"B\")\n",
    "plt.xlabel('Score bins')\n",
    "plt.ylabel('Counts')\n",
    "plt.legend()\n",
    "plt.show()"
   ]
  },
  {
   "cell_type": "code",
   "execution_count": 154,
   "metadata": {},
   "outputs": [],
   "source": [
    "A = df['A']\n",
    "B = df['B'].fillna(df['B'].mean())"
   ]
  },
  {
   "cell_type": "code",
   "execution_count": 152,
   "metadata": {},
   "outputs": [
    {
     "data": {
      "text/plain": [
       "0      30.00\n",
       "1      59.00\n",
       "2      69.00\n",
       "3      88.00\n",
       "4      68.00\n",
       "       ...  \n",
       "295    61.15\n",
       "296    61.15\n",
       "297    61.15\n",
       "298    61.15\n",
       "299    61.15\n",
       "Name: B, Length: 300, dtype: float64"
      ]
     },
     "execution_count": 152,
     "metadata": {},
     "output_type": "execute_result"
    }
   ],
   "source": [
    "df['B'].fillna(df['B'].mean())"
   ]
  },
  {
   "cell_type": "code",
   "execution_count": 155,
   "metadata": {},
   "outputs": [
    {
     "name": "stdout",
     "output_type": "stream",
     "text": [
      "ShapiroResult(statistic=0.93753981590271, pvalue=6.175894240456614e-10)\n",
      "ShapiroResult(statistic=0.9170354008674622, pvalue=7.811895227916033e-12)\n"
     ]
    }
   ],
   "source": [
    "print(shapiro(A))\n",
    "print(shapiro(B))"
   ]
  },
  {
   "cell_type": "code",
   "execution_count": 156,
   "metadata": {},
   "outputs": [],
   "source": [
    "from scipy.stats import wilcoxon"
   ]
  },
  {
   "cell_type": "code",
   "execution_count": 157,
   "metadata": {},
   "outputs": [
    {
     "name": "stdout",
     "output_type": "stream",
     "text": [
      "Help on function wilcoxon in module scipy.stats._morestats:\n",
      "\n",
      "wilcoxon(x, y=None, zero_method='wilcox', correction=False, alternative='two-sided', method='auto', *, axis=0, nan_policy='propagate', keepdims=False)\n",
      "    Calculate the Wilcoxon signed-rank test.\n",
      "    \n",
      "    The Wilcoxon signed-rank test tests the null hypothesis that two\n",
      "    related paired samples come from the same distribution. In particular,\n",
      "    it tests whether the distribution of the differences ``x - y`` is symmetric\n",
      "    about zero. It is a non-parametric version of the paired T-test.\n",
      "    \n",
      "    Parameters\n",
      "    ----------\n",
      "    x : array_like\n",
      "        Either the first set of measurements (in which case ``y`` is the second\n",
      "        set of measurements), or the differences between two sets of\n",
      "        measurements (in which case ``y`` is not to be specified.)  Must be\n",
      "        one-dimensional.\n",
      "    y : array_like, optional\n",
      "        Either the second set of measurements (if ``x`` is the first set of\n",
      "        measurements), or not specified (if ``x`` is the differences between\n",
      "        two sets of measurements.)  Must be one-dimensional.\n",
      "    zero_method : {\"wilcox\", \"pratt\", \"zsplit\"}, optional\n",
      "        There are different conventions for handling pairs of observations\n",
      "        with equal values (\"zero-differences\", or \"zeros\").\n",
      "        \n",
      "        * \"wilcox\": Discards all zero-differences (default); see [4]_.\n",
      "        * \"pratt\": Includes zero-differences in the ranking process,\n",
      "          but drops the ranks of the zeros (more conservative); see [3]_.\n",
      "          In this case, the normal approximation is adjusted as in [5]_.\n",
      "        * \"zsplit\": Includes zero-differences in the ranking process and\n",
      "          splits the zero rank between positive and negative ones.\n",
      "    correction : bool, optional\n",
      "        If True, apply continuity correction by adjusting the Wilcoxon rank\n",
      "        statistic by 0.5 towards the mean value when computing the\n",
      "        z-statistic if a normal approximation is used.  Default is False.\n",
      "    alternative : {\"two-sided\", \"greater\", \"less\"}, optional\n",
      "        Defines the alternative hypothesis. Default is 'two-sided'.\n",
      "        In the following, let ``d`` represent the difference between the paired\n",
      "        samples: ``d = x - y`` if both ``x`` and ``y`` are provided, or\n",
      "        ``d = x`` otherwise.\n",
      "        \n",
      "        * 'two-sided': the distribution underlying ``d`` is not symmetric\n",
      "          about zero.\n",
      "        * 'less': the distribution underlying ``d`` is stochastically less\n",
      "          than a distribution symmetric about zero.\n",
      "        * 'greater': the distribution underlying ``d`` is stochastically\n",
      "          greater than a distribution symmetric about zero.\n",
      "    method : {\"auto\", \"exact\", \"approx\"}, optional\n",
      "        Method to calculate the p-value, see Notes. Default is \"auto\".\n",
      "    axis : int or None, default: 0\n",
      "        If an int, the axis of the input along which to compute the statistic.\n",
      "        The statistic of each axis-slice (e.g. row) of the input will appear in a\n",
      "        corresponding element of the output.\n",
      "        If ``None``, the input will be raveled before computing the statistic.\n",
      "    nan_policy : {'propagate', 'omit', 'raise'}\n",
      "        Defines how to handle input NaNs.\n",
      "        \n",
      "        - ``propagate``: if a NaN is present in the axis slice (e.g. row) along\n",
      "          which the  statistic is computed, the corresponding entry of the output\n",
      "          will be NaN.\n",
      "        - ``omit``: NaNs will be omitted when performing the calculation.\n",
      "          If insufficient data remains in the axis slice along which the\n",
      "          statistic is computed, the corresponding entry of the output will be\n",
      "          NaN.\n",
      "        - ``raise``: if a NaN is present, a ``ValueError`` will be raised.\n",
      "    keepdims : bool, default: False\n",
      "        If this is set to True, the axes which are reduced are left\n",
      "        in the result as dimensions with size one. With this option,\n",
      "        the result will broadcast correctly against the input array.\n",
      "    \n",
      "    Returns\n",
      "    -------\n",
      "    An object with the following attributes.\n",
      "    statistic : array_like\n",
      "        If `alternative` is \"two-sided\", the sum of the ranks of the\n",
      "        differences above or below zero, whichever is smaller.\n",
      "        Otherwise the sum of the ranks of the differences above zero.\n",
      "    pvalue : array_like\n",
      "        The p-value for the test depending on `alternative` and `method`.\n",
      "    zstatistic : array_like\n",
      "        When ``method = 'approx'``, this is the normalized z-statistic::\n",
      "        \n",
      "            z = (T - mn - d) / se\n",
      "        \n",
      "        where ``T`` is `statistic` as defined above, ``mn`` is the mean of the\n",
      "        distribution under the null hypothesis, ``d`` is a continuity\n",
      "        correction, and ``se`` is the standard error.\n",
      "        When ``method != 'approx'``, this attribute is not available.\n",
      "    \n",
      "    See Also\n",
      "    --------\n",
      "    \n",
      "    :func:`kruskal`, :func:`mannwhitneyu`\n",
      "        ..\n",
      "    \n",
      "    Notes\n",
      "    -----\n",
      "    In the following, let ``d`` represent the difference between the paired\n",
      "    samples: ``d = x - y`` if both ``x`` and ``y`` are provided, or ``d = x``\n",
      "    otherwise. Assume that all elements of ``d`` are independent and\n",
      "    identically distributed observations, and all are distinct and nonzero.\n",
      "    \n",
      "    - When ``len(d)`` is sufficiently large, the null distribution of the\n",
      "      normalized test statistic (`zstatistic` above) is approximately normal,\n",
      "      and ``method = 'approx'`` can be used to compute the p-value.\n",
      "    \n",
      "    - When ``len(d)`` is small, the normal approximation may not be accurate,\n",
      "      and ``method='exact'`` is preferred (at the cost of additional\n",
      "      execution time).\n",
      "    \n",
      "    - The default, ``method='auto'``, selects between the two: when\n",
      "      ``len(d) <= 50``, the exact method is used; otherwise, the approximate\n",
      "      method is used.\n",
      "    \n",
      "    The presence of \"ties\" (i.e. not all elements of ``d`` are unique) and\n",
      "    \"zeros\" (i.e. elements of ``d`` are zero) changes the null distribution\n",
      "    of the test statistic, and ``method='exact'`` no longer calculates\n",
      "    the exact p-value. If ``method='approx'``, the z-statistic is adjusted\n",
      "    for more accurate comparison against the standard normal, but still,\n",
      "    for finite sample sizes, the standard normal is only an approximation of\n",
      "    the true null distribution of the z-statistic. There is no clear\n",
      "    consensus among references on which method most accurately approximates\n",
      "    the p-value for small samples in the presence of zeros and/or ties. In any\n",
      "    case, this is the behavior of `wilcoxon` when ``method='auto':\n",
      "    ``method='exact'`` is used when ``len(d) <= 50`` *and there are no zeros*;\n",
      "    otherwise, ``method='approx'`` is used.\n",
      "    \n",
      "    Beginning in SciPy 1.9, ``np.matrix`` inputs (not recommended for new\n",
      "    code) are converted to ``np.ndarray`` before the calculation is performed. In\n",
      "    this case, the output will be a scalar or ``np.ndarray`` of appropriate shape\n",
      "    rather than a 2D ``np.matrix``. Similarly, while masked elements of masked\n",
      "    arrays are ignored, the output will be a scalar or ``np.ndarray`` rather than a\n",
      "    masked array with ``mask=False``.\n",
      "    \n",
      "    References\n",
      "    ----------\n",
      "    .. [1] https://en.wikipedia.org/wiki/Wilcoxon_signed-rank_test\n",
      "    .. [2] Conover, W.J., Practical Nonparametric Statistics, 1971.\n",
      "    .. [3] Pratt, J.W., Remarks on Zeros and Ties in the Wilcoxon Signed\n",
      "       Rank Procedures, Journal of the American Statistical Association,\n",
      "       Vol. 54, 1959, pp. 655-667. :doi:`10.1080/01621459.1959.10501526`\n",
      "    .. [4] Wilcoxon, F., Individual Comparisons by Ranking Methods,\n",
      "       Biometrics Bulletin, Vol. 1, 1945, pp. 80-83. :doi:`10.2307/3001968`\n",
      "    .. [5] Cureton, E.E., The Normal Approximation to the Signed-Rank\n",
      "       Sampling Distribution When Zero Differences are Present,\n",
      "       Journal of the American Statistical Association, Vol. 62, 1967,\n",
      "       pp. 1068-1069. :doi:`10.1080/01621459.1967.10500917`\n",
      "    \n",
      "    Examples\n",
      "    --------\n",
      "    In [4]_, the differences in height between cross- and self-fertilized\n",
      "    corn plants is given as follows:\n",
      "    \n",
      "    >>> d = [6, 8, 14, 16, 23, 24, 28, 29, 41, -48, 49, 56, 60, -67, 75]\n",
      "    \n",
      "    Cross-fertilized plants appear to be higher. To test the null\n",
      "    hypothesis that there is no height difference, we can apply the\n",
      "    two-sided test:\n",
      "    \n",
      "    >>> from scipy.stats import wilcoxon\n",
      "    >>> res = wilcoxon(d)\n",
      "    >>> res.statistic, res.pvalue\n",
      "    (24.0, 0.041259765625)\n",
      "    \n",
      "    Hence, we would reject the null hypothesis at a confidence level of 5%,\n",
      "    concluding that there is a difference in height between the groups.\n",
      "    To confirm that the median of the differences can be assumed to be\n",
      "    positive, we use:\n",
      "    \n",
      "    >>> res = wilcoxon(d, alternative='greater')\n",
      "    >>> res.statistic, res.pvalue\n",
      "    (96.0, 0.0206298828125)\n",
      "    \n",
      "    This shows that the null hypothesis that the median is negative can be\n",
      "    rejected at a confidence level of 5% in favor of the alternative that\n",
      "    the median is greater than zero. The p-values above are exact. Using the\n",
      "    normal approximation gives very similar values:\n",
      "    \n",
      "    >>> res = wilcoxon(d, method='approx')\n",
      "    >>> res.statistic, res.pvalue\n",
      "    (24.0, 0.04088813291185591)\n",
      "    \n",
      "    Note that the statistic changed to 96 in the one-sided case (the sum\n",
      "    of ranks of positive differences) whereas it is 24 in the two-sided\n",
      "    case (the minimum of sum of ranks above and below zero).\n",
      "\n"
     ]
    }
   ],
   "source": [
    "help(wilcoxon)"
   ]
  },
  {
   "cell_type": "code",
   "execution_count": 158,
   "metadata": {},
   "outputs": [
    {
     "name": "stdout",
     "output_type": "stream",
     "text": [
      "WilcoxonResult(statistic=21779.5, pvalue=0.8928586509493914)\n"
     ]
    }
   ],
   "source": [
    "print(wilcoxon(A,B))"
   ]
  },
  {
   "cell_type": "code",
   "execution_count": 159,
   "metadata": {},
   "outputs": [
    {
     "name": "stdout",
     "output_type": "stream",
     "text": [
      "Ttest_indResult(statistic=0.0858859046190923, pvalue=0.9315858640410586)\n"
     ]
    }
   ],
   "source": [
    "print(ttest_ind(A,B,equal_var=True))"
   ]
  },
  {
   "cell_type": "code",
   "execution_count": 160,
   "metadata": {},
   "outputs": [
    {
     "data": {
      "image/png": "[encoded data removed]",
      "text/plain": [
       "<Figure size 640x480 with 1 Axes>"
      ]
     },
     "metadata": {},
     "output_type": "display_data"
    }
   ],
   "source": [
    "import pandas as pd \n",
    "import matplotlib.pyplot as plt\n",
    "df = pd.read_csv('https://raw.githubusercontent.com/Datamanim/datarepo/main/scipy/ind3.csv')\n",
    "\n",
    "plt.hist(df[df['group'] =='a'].data,label='A',alpha=0.5)\n",
    "plt.hist(df[df['group'] =='b'].data,label=\"B\",alpha=0.5)\n",
    "plt.xlabel('Score bins')\n",
    "plt.ylabel('Counts')\n",
    "plt.legend()\n",
    "plt.show()"
   ]
  },
  {
   "cell_type": "code",
   "execution_count": 166,
   "metadata": {},
   "outputs": [],
   "source": [
    "A = df[df['group'] =='a']['data']\n",
    "B = df[df['group'] =='b']['data']"
   ]
  },
  {
   "cell_type": "code",
   "execution_count": 168,
   "metadata": {},
   "outputs": [
    {
     "name": "stdout",
     "output_type": "stream",
     "text": [
      "ShapiroResult(statistic=0.9834123253822327, pvalue=0.1473984718322754)\n",
      "ShapiroResult(statistic=0.9831852316856384, pvalue=0.4701973497867584)\n"
     ]
    }
   ],
   "source": [
    "print(shapiro(A))\n",
    "print(shapiro(B))"
   ]
  },
  {
   "cell_type": "code",
   "execution_count": 169,
   "metadata": {},
   "outputs": [
    {
     "name": "stdout",
     "output_type": "stream",
     "text": [
      "LeveneResult(statistic=6.185601018015722, pvalue=0.013750484571911342)\n",
      "FlignerResult(statistic=6.116095465056764, pvalue=0.01339563676982482)\n"
     ]
    }
   ],
   "source": [
    "print(levene(A,B))\n",
    "print(fligner(A,B))"
   ]
  },
  {
   "cell_type": "code",
   "execution_count": 171,
   "metadata": {},
   "outputs": [
    {
     "data": {
      "text/plain": [
       "['ConstantInputWarning',\n",
       " 'Covariance',\n",
       " 'DegenerateDataWarning',\n",
       " 'FitError',\n",
       " 'NearConstantInputWarning',\n",
       " '__all__',\n",
       " '__builtins__',\n",
       " '__cached__',\n",
       " '__doc__',\n",
       " '__file__',\n",
       " '__loader__',\n",
       " '__name__',\n",
       " '__package__',\n",
       " '__path__',\n",
       " '__spec__',\n",
       " '_axis_nan_policy',\n",
       " '_biasedurn',\n",
       " '_binned_statistic',\n",
       " '_binomtest',\n",
       " '_boost',\n",
       " '_common',\n",
       " '_constants',\n",
       " '_continuous_distns',\n",
       " '_covariance',\n",
       " '_crosstab',\n",
       " '_discrete_distns',\n",
       " '_distn_infrastructure',\n",
       " '_distr_params',\n",
       " '_entropy',\n",
       " '_fit',\n",
       " '_hypotests',\n",
       " '_kde',\n",
       " '_ksstats',\n",
       " '_levy_stable',\n",
       " '_mannwhitneyu',\n",
       " '_morestats',\n",
       " '_mstats_basic',\n",
       " '_mstats_extras',\n",
       " '_multivariate',\n",
       " '_mvn',\n",
       " '_odds_ratio',\n",
       " '_page_trend_test',\n",
       " '_qmc',\n",
       " '_qmc_cy',\n",
       " '_rcont',\n",
       " '_relative_risk',\n",
       " '_resampling',\n",
       " '_rvs_sampling',\n",
       " '_sobol',\n",
       " '_statlib',\n",
       " '_stats',\n",
       " '_stats_mstats_common',\n",
       " '_stats_py',\n",
       " '_stats_pythran',\n",
       " '_tukeylambda_stats',\n",
       " '_variation',\n",
       " '_warnings_errors',\n",
       " 'alexandergovern',\n",
       " 'alpha',\n",
       " 'anderson',\n",
       " 'anderson_ksamp',\n",
       " 'anglit',\n",
       " 'ansari',\n",
       " 'arcsine',\n",
       " 'argus',\n",
       " 'barnard_exact',\n",
       " 'bartlett',\n",
       " 'bayes_mvs',\n",
       " 'bernoulli',\n",
       " 'beta',\n",
       " 'betabinom',\n",
       " 'betaprime',\n",
       " 'biasedurn',\n",
       " 'binned_statistic',\n",
       " 'binned_statistic_2d',\n",
       " 'binned_statistic_dd',\n",
       " 'binom',\n",
       " 'binom_test',\n",
       " 'binomtest',\n",
       " 'boltzmann',\n",
       " 'bootstrap',\n",
       " 'boschloo_exact',\n",
       " 'boxcox',\n",
       " 'boxcox_llf',\n",
       " 'boxcox_normmax',\n",
       " 'boxcox_normplot',\n",
       " 'bradford',\n",
       " 'brunnermunzel',\n",
       " 'burr',\n",
       " 'burr12',\n",
       " 'cauchy',\n",
       " 'chi',\n",
       " 'chi2',\n",
       " 'chi2_contingency',\n",
       " 'chisquare',\n",
       " 'circmean',\n",
       " 'circstd',\n",
       " 'circvar',\n",
       " 'combine_pvalues',\n",
       " 'contingency',\n",
       " 'cosine',\n",
       " 'cramervonmises',\n",
       " 'cramervonmises_2samp',\n",
       " 'crystalball',\n",
       " 'cumfreq',\n",
       " 'describe',\n",
       " 'dgamma',\n",
       " 'differential_entropy',\n",
       " 'directional_stats',\n",
       " 'dirichlet',\n",
       " 'distributions',\n",
       " 'dlaplace',\n",
       " 'dweibull',\n",
       " 'energy_distance',\n",
       " 'entropy',\n",
       " 'epps_singleton_2samp',\n",
       " 'erlang',\n",
       " 'expectile',\n",
       " 'expon',\n",
       " 'exponnorm',\n",
       " 'exponpow',\n",
       " 'exponweib',\n",
       " 'f',\n",
       " 'f_oneway',\n",
       " 'fatiguelife',\n",
       " 'find_repeats',\n",
       " 'fisher_exact',\n",
       " 'fisk',\n",
       " 'fit',\n",
       " 'fligner',\n",
       " 'foldcauchy',\n",
       " 'foldnorm',\n",
       " 'friedmanchisquare',\n",
       " 'gamma',\n",
       " 'gausshyper',\n",
       " 'gaussian_kde',\n",
       " 'genexpon',\n",
       " 'genextreme',\n",
       " 'gengamma',\n",
       " 'genhalflogistic',\n",
       " 'genhyperbolic',\n",
       " 'geninvgauss',\n",
       " 'genlogistic',\n",
       " 'gennorm',\n",
       " 'genpareto',\n",
       " 'geom',\n",
       " 'gibrat',\n",
       " 'gilbrat',\n",
       " 'gmean',\n",
       " 'gompertz',\n",
       " 'goodness_of_fit',\n",
       " 'gstd',\n",
       " 'gumbel_l',\n",
       " 'gumbel_r',\n",
       " 'gzscore',\n",
       " 'halfcauchy',\n",
       " 'halfgennorm',\n",
       " 'halflogistic',\n",
       " 'halfnorm',\n",
       " 'hmean',\n",
       " 'hypergeom',\n",
       " 'hypsecant',\n",
       " 'invgamma',\n",
       " 'invgauss',\n",
       " 'invweibull',\n",
       " 'invwishart',\n",
       " 'iqr',\n",
       " 'jarque_bera',\n",
       " 'johnsonsb',\n",
       " 'johnsonsu',\n",
       " 'kappa3',\n",
       " 'kappa4',\n",
       " 'kde',\n",
       " 'kendalltau',\n",
       " 'kruskal',\n",
       " 'ks_1samp',\n",
       " 'ks_2samp',\n",
       " 'ksone',\n",
       " 'kstat',\n",
       " 'kstatvar',\n",
       " 'kstest',\n",
       " 'kstwo',\n",
       " 'kstwobign',\n",
       " 'kurtosis',\n",
       " 'kurtosistest',\n",
       " 'laplace',\n",
       " 'laplace_asymmetric',\n",
       " 'levene',\n",
       " 'levy',\n",
       " 'levy_l',\n",
       " 'levy_stable',\n",
       " 'linregress',\n",
       " 'loggamma',\n",
       " 'logistic',\n",
       " 'loglaplace',\n",
       " 'lognorm',\n",
       " 'logser',\n",
       " 'loguniform',\n",
       " 'lomax',\n",
       " 'mannwhitneyu',\n",
       " 'matrix_normal',\n",
       " 'maxwell',\n",
       " 'median_abs_deviation',\n",
       " 'median_test',\n",
       " 'mielke',\n",
       " 'mode',\n",
       " 'moment',\n",
       " 'monte_carlo_test',\n",
       " 'mood',\n",
       " 'morestats',\n",
       " 'moyal',\n",
       " 'mstats',\n",
       " 'mstats_basic',\n",
       " 'mstats_extras',\n",
       " 'multinomial',\n",
       " 'multiscale_graphcorr',\n",
       " 'multivariate_hypergeom',\n",
       " 'multivariate_normal',\n",
       " 'multivariate_t',\n",
       " 'mvn',\n",
       " 'mvsdist',\n",
       " 'nakagami',\n",
       " 'nbinom',\n",
       " 'ncf',\n",
       " 'nchypergeom_fisher',\n",
       " 'nchypergeom_wallenius',\n",
       " 'nct',\n",
       " 'ncx2',\n",
       " 'nhypergeom',\n",
       " 'norm',\n",
       " 'normaltest',\n",
       " 'norminvgauss',\n",
       " 'obrientransform',\n",
       " 'ortho_group',\n",
       " 'page_trend_test',\n",
       " 'pareto',\n",
       " 'pearson3',\n",
       " 'pearsonr',\n",
       " 'percentileofscore',\n",
       " 'permutation_test',\n",
       " 'planck',\n",
       " 'pmean',\n",
       " 'pointbiserialr',\n",
       " 'poisson',\n",
       " 'poisson_means_test',\n",
       " 'power_divergence',\n",
       " 'powerlaw',\n",
       " 'powerlognorm',\n",
       " 'powernorm',\n",
       " 'ppcc_max',\n",
       " 'ppcc_plot',\n",
       " 'probplot',\n",
       " 'qmc',\n",
       " 'randint',\n",
       " 'random_correlation',\n",
       " 'random_table',\n",
       " 'rankdata',\n",
       " 'ranksums',\n",
       " 'rayleigh',\n",
       " 'rdist',\n",
       " 'recipinvgauss',\n",
       " 'reciprocal',\n",
       " 'relfreq',\n",
       " 'rice',\n",
       " 'rv_continuous',\n",
       " 'rv_discrete',\n",
       " 'rv_histogram',\n",
       " 'rvs_ratio_uniforms',\n",
       " 'scoreatpercentile',\n",
       " 'sem',\n",
       " 'semicircular',\n",
       " 'shapiro',\n",
       " 'siegelslopes',\n",
       " 'sigmaclip',\n",
       " 'skellam',\n",
       " 'skew',\n",
       " 'skewcauchy',\n",
       " 'skewnorm',\n",
       " 'skewtest',\n",
       " 'somersd',\n",
       " 'spearmanr',\n",
       " 'special_ortho_group',\n",
       " 'statlib',\n",
       " 'stats',\n",
       " 'studentized_range',\n",
       " 't',\n",
       " 'test',\n",
       " 'theilslopes',\n",
       " 'tiecorrect',\n",
       " 'tmax',\n",
       " 'tmean',\n",
       " 'tmin',\n",
       " 'trapezoid',\n",
       " 'trapz',\n",
       " 'triang',\n",
       " 'trim1',\n",
       " 'trim_mean',\n",
       " 'trimboth',\n",
       " 'truncexpon',\n",
       " 'truncnorm',\n",
       " 'truncpareto',\n",
       " 'truncweibull_min',\n",
       " 'tsem',\n",
       " 'tstd',\n",
       " 'ttest_1samp',\n",
       " 'ttest_ind',\n",
       " 'ttest_ind_from_stats',\n",
       " 'ttest_rel',\n",
       " 'tukey_hsd',\n",
       " 'tukeylambda',\n",
       " 'tvar',\n",
       " 'uniform',\n",
       " 'uniform_direction',\n",
       " 'unitary_group',\n",
       " 'variation',\n",
       " 'vonmises',\n",
       " 'vonmises_line',\n",
       " 'wald',\n",
       " 'wasserstein_distance',\n",
       " 'weibull_max',\n",
       " 'weibull_min',\n",
       " 'weightedtau',\n",
       " 'wilcoxon',\n",
       " 'wishart',\n",
       " 'wrapcauchy',\n",
       " 'yeojohnson',\n",
       " 'yeojohnson_llf',\n",
       " 'yeojohnson_normmax',\n",
       " 'yeojohnson_normplot',\n",
       " 'yulesimon',\n",
       " 'zipf',\n",
       " 'zipfian',\n",
       " 'zmap',\n",
       " 'zscore']"
      ]
     },
     "execution_count": 171,
     "metadata": {},
     "output_type": "execute_result"
    }
   ],
   "source": [
    "import scipy.stats\n",
    "dir(scipy.stats)"
   ]
  },
  {
   "cell_type": "code",
   "execution_count": 183,
   "metadata": {},
   "outputs": [
    {
     "name": "stdout",
     "output_type": "stream",
     "text": [
      "Help on function ttest_ind in module scipy.stats._stats_py:\n",
      "\n",
      "ttest_ind(a, b, axis=0, equal_var=True, nan_policy='propagate', permutations=None, random_state=None, alternative='two-sided', trim=0)\n",
      "    Calculate the T-test for the means of *two independent* samples of scores.\n",
      "    \n",
      "    This is a test for the null hypothesis that 2 independent samples\n",
      "    have identical average (expected) values. This test assumes that the\n",
      "    populations have identical variances by default.\n",
      "    \n",
      "    Parameters\n",
      "    ----------\n",
      "    a, b : array_like\n",
      "        The arrays must have the same shape, except in the dimension\n",
      "        corresponding to `axis` (the first, by default).\n",
      "    axis : int or None, optional\n",
      "        Axis along which to compute test. If None, compute over the whole\n",
      "        arrays, `a`, and `b`.\n",
      "    equal_var : bool, optional\n",
      "        If True (default), perform a standard independent 2 sample test\n",
      "        that assumes equal population variances [1]_.\n",
      "        If False, perform Welch's t-test, which does not assume equal\n",
      "        population variance [2]_.\n",
      "    \n",
      "        .. versionadded:: 0.11.0\n",
      "    \n",
      "    nan_policy : {'propagate', 'raise', 'omit'}, optional\n",
      "        Defines how to handle when input contains nan.\n",
      "        The following options are available (default is 'propagate'):\n",
      "    \n",
      "          * 'propagate': returns nan\n",
      "          * 'raise': throws an error\n",
      "          * 'omit': performs the calculations ignoring nan values\n",
      "    \n",
      "        The 'omit' option is not currently available for permutation tests or\n",
      "        one-sided asympyotic tests.\n",
      "    \n",
      "    permutations : non-negative int, np.inf, or None (default), optional\n",
      "        If 0 or None (default), use the t-distribution to calculate p-values.\n",
      "        Otherwise, `permutations` is  the number of random permutations that\n",
      "        will be used to estimate p-values using a permutation test. If\n",
      "        `permutations` equals or exceeds the number of distinct partitions of\n",
      "        the pooled data, an exact test is performed instead (i.e. each\n",
      "        distinct partition is used exactly once). See Notes for details.\n",
      "    \n",
      "        .. versionadded:: 1.7.0\n",
      "    \n",
      "    random_state : {None, int, `numpy.random.Generator`,\n",
      "            `numpy.random.RandomState`}, optional\n",
      "    \n",
      "        If `seed` is None (or `np.random`), the `numpy.random.RandomState`\n",
      "        singleton is used.\n",
      "        If `seed` is an int, a new ``RandomState`` instance is used,\n",
      "        seeded with `seed`.\n",
      "        If `seed` is already a ``Generator`` or ``RandomState`` instance then\n",
      "        that instance is used.\n",
      "    \n",
      "        Pseudorandom number generator state used to generate permutations\n",
      "        (used only when `permutations` is not None).\n",
      "    \n",
      "        .. versionadded:: 1.7.0\n",
      "    \n",
      "    alternative : {'two-sided', 'less', 'greater'}, optional\n",
      "        Defines the alternative hypothesis.\n",
      "        The following options are available (default is 'two-sided'):\n",
      "    \n",
      "        * 'two-sided': the means of the distributions underlying the samples\n",
      "          are unequal.\n",
      "        * 'less': the mean of the distribution underlying the first sample\n",
      "          is less than the mean of the distribution underlying the second\n",
      "          sample.\n",
      "        * 'greater': the mean of the distribution underlying the first\n",
      "          sample is greater than the mean of the distribution underlying\n",
      "          the second sample.\n",
      "    \n",
      "        .. versionadded:: 1.6.0\n",
      "    \n",
      "    trim : float, optional\n",
      "        If nonzero, performs a trimmed (Yuen's) t-test.\n",
      "        Defines the fraction of elements to be trimmed from each end of the\n",
      "        input samples. If 0 (default), no elements will be trimmed from either\n",
      "        side. The number of trimmed elements from each tail is the floor of the\n",
      "        trim times the number of elements. Valid range is [0, .5).\n",
      "    \n",
      "        .. versionadded:: 1.7\n",
      "    \n",
      "    Returns\n",
      "    -------\n",
      "    statistic : float or array\n",
      "        The calculated t-statistic.\n",
      "    pvalue : float or array\n",
      "        The p-value.\n",
      "    \n",
      "    Notes\n",
      "    -----\n",
      "    Suppose we observe two independent samples, e.g. flower petal lengths, and\n",
      "    we are considering whether the two samples were drawn from the same\n",
      "    population (e.g. the same species of flower or two species with similar\n",
      "    petal characteristics) or two different populations.\n",
      "    \n",
      "    The t-test quantifies the difference between the arithmetic means\n",
      "    of the two samples. The p-value quantifies the probability of observing\n",
      "    as or more extreme values assuming the null hypothesis, that the\n",
      "    samples are drawn from populations with the same population means, is true.\n",
      "    A p-value larger than a chosen threshold (e.g. 5% or 1%) indicates that\n",
      "    our observation is not so unlikely to have occurred by chance. Therefore,\n",
      "    we do not reject the null hypothesis of equal population means.\n",
      "    If the p-value is smaller than our threshold, then we have evidence\n",
      "    against the null hypothesis of equal population means.\n",
      "    \n",
      "    By default, the p-value is determined by comparing the t-statistic of the\n",
      "    observed data against a theoretical t-distribution.\n",
      "    When ``1 < permutations < binom(n, k)``, where\n",
      "    \n",
      "    * ``k`` is the number of observations in `a`,\n",
      "    * ``n`` is the total number of observations in `a` and `b`, and\n",
      "    * ``binom(n, k)`` is the binomial coefficient (``n`` choose ``k``),\n",
      "    \n",
      "    the data are pooled (concatenated), randomly assigned to either group `a`\n",
      "    or `b`, and the t-statistic is calculated. This process is performed\n",
      "    repeatedly (`permutation` times), generating a distribution of the\n",
      "    t-statistic under the null hypothesis, and the t-statistic of the observed\n",
      "    data is compared to this distribution to determine the p-value.\n",
      "    Specifically, the p-value reported is the \"achieved significance level\"\n",
      "    (ASL) as defined in 4.4 of [3]_. Note that there are other ways of\n",
      "    estimating p-values using randomized permutation tests; for other\n",
      "    options, see the more general `permutation_test`.\n",
      "    \n",
      "    When ``permutations >= binom(n, k)``, an exact test is performed: the data\n",
      "    are partitioned between the groups in each distinct way exactly once.\n",
      "    \n",
      "    The permutation test can be computationally expensive and not necessarily\n",
      "    more accurate than the analytical test, but it does not make strong\n",
      "    assumptions about the shape of the underlying distribution.\n",
      "    \n",
      "    Use of trimming is commonly referred to as the trimmed t-test. At times\n",
      "    called Yuen's t-test, this is an extension of Welch's t-test, with the\n",
      "    difference being the use of winsorized means in calculation of the variance\n",
      "    and the trimmed sample size in calculation of the statistic. Trimming is\n",
      "    recommended if the underlying distribution is long-tailed or contaminated\n",
      "    with outliers [4]_.\n",
      "    \n",
      "    The statistic is calculated as ``(np.mean(a) - np.mean(b))/se``, where\n",
      "    ``se`` is the standard error. Therefore, the statistic will be positive\n",
      "    when the sample mean of `a` is greater than the sample mean of `b` and\n",
      "    negative when the sample mean of `a` is less than the sample mean of\n",
      "    `b`.\n",
      "    \n",
      "    References\n",
      "    ----------\n",
      "    .. [1] https://en.wikipedia.org/wiki/T-test#Independent_two-sample_t-test\n",
      "    \n",
      "    .. [2] https://en.wikipedia.org/wiki/Welch%27s_t-test\n",
      "    \n",
      "    .. [3] B. Efron and T. Hastie. Computer Age Statistical Inference. (2016).\n",
      "    \n",
      "    .. [4] Yuen, Karen K. \"The Two-Sample Trimmed t for Unequal Population\n",
      "           Variances.\" Biometrika, vol. 61, no. 1, 1974, pp. 165-170. JSTOR,\n",
      "           www.jstor.org/stable/2334299. Accessed 30 Mar. 2021.\n",
      "    \n",
      "    .. [5] Yuen, Karen K., and W. J. Dixon. \"The Approximate Behaviour and\n",
      "           Performance of the Two-Sample Trimmed t.\" Biometrika, vol. 60,\n",
      "           no. 2, 1973, pp. 369-374. JSTOR, www.jstor.org/stable/2334550.\n",
      "           Accessed 30 Mar. 2021.\n",
      "    \n",
      "    Examples\n",
      "    --------\n",
      "    >>> import numpy as np\n",
      "    >>> from scipy import stats\n",
      "    >>> rng = np.random.default_rng()\n",
      "    \n",
      "    Test with sample with identical means:\n",
      "    \n",
      "    >>> rvs1 = stats.norm.rvs(loc=5, scale=10, size=500, random_state=rng)\n",
      "    >>> rvs2 = stats.norm.rvs(loc=5, scale=10, size=500, random_state=rng)\n",
      "    >>> stats.ttest_ind(rvs1, rvs2)\n",
      "    Ttest_indResult(statistic=-0.4390847099199348, pvalue=0.6606952038870015)\n",
      "    >>> stats.ttest_ind(rvs1, rvs2, equal_var=False)\n",
      "    Ttest_indResult(statistic=-0.4390847099199348, pvalue=0.6606952553131064)\n",
      "    \n",
      "    `ttest_ind` underestimates p for unequal variances:\n",
      "    \n",
      "    >>> rvs3 = stats.norm.rvs(loc=5, scale=20, size=500, random_state=rng)\n",
      "    >>> stats.ttest_ind(rvs1, rvs3)\n",
      "    Ttest_indResult(statistic=-1.6370984482905417, pvalue=0.1019251574705033)\n",
      "    >>> stats.ttest_ind(rvs1, rvs3, equal_var=False)\n",
      "    Ttest_indResult(statistic=-1.637098448290542, pvalue=0.10202110497954867)\n",
      "    \n",
      "    When ``n1 != n2``, the equal variance t-statistic is no longer equal to the\n",
      "    unequal variance t-statistic:\n",
      "    \n",
      "    >>> rvs4 = stats.norm.rvs(loc=5, scale=20, size=100, random_state=rng)\n",
      "    >>> stats.ttest_ind(rvs1, rvs4)\n",
      "    Ttest_indResult(statistic=-1.9481646859513422, pvalue=0.05186270935842703)\n",
      "    >>> stats.ttest_ind(rvs1, rvs4, equal_var=False)\n",
      "    Ttest_indResult(statistic=-1.3146566100751664, pvalue=0.1913495266513811)\n",
      "    \n",
      "    T-test with different means, variance, and n:\n",
      "    \n",
      "    >>> rvs5 = stats.norm.rvs(loc=8, scale=20, size=100, random_state=rng)\n",
      "    >>> stats.ttest_ind(rvs1, rvs5)\n",
      "    Ttest_indResult(statistic=-2.8415950600298774, pvalue=0.0046418707568707885)\n",
      "    >>> stats.ttest_ind(rvs1, rvs5, equal_var=False)\n",
      "    Ttest_indResult(statistic=-1.8686598649188084, pvalue=0.06434714193919686)\n",
      "    \n",
      "    When performing a permutation test, more permutations typically yields\n",
      "    more accurate results. Use a ``np.random.Generator`` to ensure\n",
      "    reproducibility:\n",
      "    \n",
      "    >>> stats.ttest_ind(rvs1, rvs5, permutations=10000,\n",
      "    ...                 random_state=rng)\n",
      "    Ttest_indResult(statistic=-2.8415950600298774, pvalue=0.0052994700529947)\n",
      "    \n",
      "    Take these two samples, one of which has an extreme tail.\n",
      "    \n",
      "    >>> a = (56, 128.6, 12, 123.8, 64.34, 78, 763.3)\n",
      "    >>> b = (1.1, 2.9, 4.2)\n",
      "    \n",
      "    Use the `trim` keyword to perform a trimmed (Yuen) t-test. For example,\n",
      "    using 20% trimming, ``trim=.2``, the test will reduce the impact of one\n",
      "    (``np.floor(trim*len(a))``) element from each tail of sample `a`. It will\n",
      "    have no effect on sample `b` because ``np.floor(trim*len(b))`` is 0.\n",
      "    \n",
      "    >>> stats.ttest_ind(a, b, trim=.2)\n",
      "    Ttest_indResult(statistic=3.4463884028073513,\n",
      "                    pvalue=0.01369338726499547)\n",
      "\n"
     ]
    }
   ],
   "source": [
    "help(ttest_ind)"
   ]
  },
  {
   "cell_type": "code",
   "execution_count": 180,
   "metadata": {},
   "outputs": [],
   "source": [
    "from scipy.stats import ranksums, mannwhitneyu, wilcoxon, ttest_1samp, ttest_ind, ttest_rel"
   ]
  },
  {
   "cell_type": "code",
   "execution_count": 178,
   "metadata": {},
   "outputs": [
    {
     "name": "stdout",
     "output_type": "stream",
     "text": [
      "(120,)\n",
      "(70,)\n"
     ]
    }
   ],
   "source": [
    "print(A.shape)\n",
    "print(B.shape)"
   ]
  },
  {
   "cell_type": "code",
   "execution_count": 179,
   "metadata": {},
   "outputs": [
    {
     "name": "stdout",
     "output_type": "stream",
     "text": [
      "RanksumsResult(statistic=-2.012853238579464, pvalue=0.04413007118545221)\n",
      "MannwhitneyuResult(statistic=3464.0, pvalue=0.044273981871153875)\n"
     ]
    }
   ],
   "source": [
    "print(ranksums(A,B))\n",
    "print(mannwhitneyu(A,B))\n",
    "# print(wilcoxon(A,B))"
   ]
  },
  {
   "cell_type": "code",
   "execution_count": 184,
   "metadata": {},
   "outputs": [
    {
     "name": "stdout",
     "output_type": "stream",
     "text": [
      "Ttest_indResult(statistic=-2.1949470315829265, pvalue=0.029512802991767898)\n"
     ]
    }
   ],
   "source": [
    "print(ttest_ind(A,B,equal_var=False))"
   ]
  },
  {
   "cell_type": "code",
   "execution_count": 185,
   "metadata": {},
   "outputs": [
    {
     "data": {
      "image/png": "[encoded data removed]",
      "text/plain": [
       "<Figure size 640x480 with 1 Axes>"
      ]
     },
     "metadata": {},
     "output_type": "display_data"
    }
   ],
   "source": [
    "import pandas as pd \n",
    "import matplotlib.pyplot as plt\n",
    "df = pd.read_csv('https://raw.githubusercontent.com/Datamanim/datarepo/main/scipy/ind6.csv')\n",
    "\n",
    "plt.hist(df['a'],alpha=0.5,label='A')\n",
    "plt.hist(df['b'],alpha=0.5,label=\"B\")\n",
    "plt.xlabel('Score bins')\n",
    "plt.ylabel('Counts')\n",
    "plt.legend()\n",
    "plt.show()"
   ]
  },
  {
   "cell_type": "code",
   "execution_count": 187,
   "metadata": {},
   "outputs": [
    {
     "name": "stdout",
     "output_type": "stream",
     "text": [
      "ShapiroResult(statistic=0.9865895509719849, pvalue=0.28390026092529297)\n",
      "ShapiroResult(statistic=0.9854326844215393, pvalue=0.5937624573707581)\n"
     ]
    }
   ],
   "source": [
    "print(shapiro(df['a']))\n",
    "print(shapiro(df['b'].dropna()))"
   ]
  },
  {
   "cell_type": "code",
   "execution_count": 189,
   "metadata": {},
   "outputs": [
    {
     "name": "stdout",
     "output_type": "stream",
     "text": [
      "LeveneResult(statistic=3.9862856894158347, pvalue=0.04731495612868527)\n",
      "FlignerResult(statistic=4.387886502894593, pvalue=0.03619515515941132)\n"
     ]
    }
   ],
   "source": [
    "print(levene(df['a'],df['b'].dropna() ))\n",
    "print(fligner(df['a'],df['b'].dropna() ))"
   ]
  },
  {
   "cell_type": "code",
   "execution_count": 191,
   "metadata": {},
   "outputs": [
    {
     "name": "stdout",
     "output_type": "stream",
     "text": [
      "Ttest_indResult(statistic=0.0015963310698567184, pvalue=0.9987289046092704)\n"
     ]
    }
   ],
   "source": [
    "print(ttest_ind(df['a'],df['b'].dropna(), equal_var=False))"
   ]
  },
  {
   "cell_type": "code",
   "execution_count": 192,
   "metadata": {},
   "outputs": [
    {
     "data": {
      "image/png": "[encoded data removed]",
      "text/plain": [
       "<Figure size 640x480 with 2 Axes>"
      ]
     },
     "metadata": {},
     "output_type": "display_data"
    }
   ],
   "source": [
    "import pandas as pd \n",
    "import matplotlib.pyplot as plt\n",
    "df = pd.read_csv('https://raw.githubusercontent.com/Datamanim/datarepo/main/scipy/rel2.csv')\n",
    "\n",
    "fig ,ax = plt.subplots(1,2)\n",
    "ax[0].boxplot(df['before'])\n",
    "ax[1].boxplot(df['after'])\n",
    "ax[0].set_xticklabels(['before'])\n",
    "ax[1].set_xticklabels(['after'])\n",
    "ax[0].set_ylim(100,350)\n",
    "ax[1].set_ylim(100,350)\n",
    "ax[1].get_yaxis().set_visible(False)\n",
    "ax[0].set_ylabel('value')\n",
    "plt.show()"
   ]
  },
  {
   "cell_type": "code",
   "execution_count": 195,
   "metadata": {},
   "outputs": [],
   "source": [
    "A = df['after']\n",
    "B = df['before']"
   ]
  },
  {
   "cell_type": "code",
   "execution_count": 196,
   "metadata": {},
   "outputs": [
    {
     "name": "stdout",
     "output_type": "stream",
     "text": [
      "ShapiroResult(statistic=0.9916961193084717, pvalue=0.6923638582229614)\n",
      "ShapiroResult(statistic=0.9907895922660828, pvalue=0.6065835952758789)\n"
     ]
    }
   ],
   "source": [
    "print(shapiro(A))\n",
    "print(shapiro(B))"
   ]
  },
  {
   "cell_type": "code",
   "execution_count": 197,
   "metadata": {},
   "outputs": [
    {
     "name": "stdout",
     "output_type": "stream",
     "text": [
      "LeveneResult(statistic=0.06427968690211128, pvalue=0.8000741651677987)\n",
      "FlignerResult(statistic=0.08084320671002646, pvalue=0.7761579588763045)\n"
     ]
    }
   ],
   "source": [
    "print(levene(A,B))\n",
    "print(fligner(A,B))"
   ]
  },
  {
   "cell_type": "code",
   "execution_count": 199,
   "metadata": {},
   "outputs": [
    {
     "name": "stdout",
     "output_type": "stream",
     "text": [
      "Help on function ttest_rel in module scipy.stats._stats_py:\n",
      "\n",
      "ttest_rel(a, b, axis=0, nan_policy='propagate', alternative='two-sided', *, keepdims=False)\n",
      "    Calculate the t-test on TWO RELATED samples of scores, a and b.\n",
      "    \n",
      "    This is a test for the null hypothesis that two related or\n",
      "    repeated samples have identical average (expected) values.\n",
      "    \n",
      "    Parameters\n",
      "    ----------\n",
      "    a, b : array_like\n",
      "        The arrays must have the same shape.\n",
      "    axis : int or None, default: 0\n",
      "        If an int, the axis of the input along which to compute the statistic.\n",
      "        The statistic of each axis-slice (e.g. row) of the input will appear in a\n",
      "        corresponding element of the output.\n",
      "        If ``None``, the input will be raveled before computing the statistic.\n",
      "    nan_policy : {'propagate', 'omit', 'raise'}\n",
      "        Defines how to handle input NaNs.\n",
      "        \n",
      "        - ``propagate``: if a NaN is present in the axis slice (e.g. row) along\n",
      "          which the  statistic is computed, the corresponding entry of the output\n",
      "          will be NaN.\n",
      "        - ``omit``: NaNs will be omitted when performing the calculation.\n",
      "          If insufficient data remains in the axis slice along which the\n",
      "          statistic is computed, the corresponding entry of the output will be\n",
      "          NaN.\n",
      "        - ``raise``: if a NaN is present, a ``ValueError`` will be raised.\n",
      "    alternative : {'two-sided', 'less', 'greater'}, optional\n",
      "        Defines the alternative hypothesis.\n",
      "        The following options are available (default is 'two-sided'):\n",
      "        \n",
      "        * 'two-sided': the means of the distributions underlying the samples\n",
      "          are unequal.\n",
      "        * 'less': the mean of the distribution underlying the first sample\n",
      "          is less than the mean of the distribution underlying the second\n",
      "          sample.\n",
      "        * 'greater': the mean of the distribution underlying the first\n",
      "          sample is greater than the mean of the distribution underlying\n",
      "          the second sample.\n",
      "        \n",
      "        .. versionadded:: 1.6.0\n",
      "    keepdims : bool, default: False\n",
      "        If this is set to True, the axes which are reduced are left\n",
      "        in the result as dimensions with size one. With this option,\n",
      "        the result will broadcast correctly against the input array.\n",
      "    \n",
      "    Returns\n",
      "    -------\n",
      "    result : `~scipy.stats._result_classes.TtestResult`\n",
      "        An object with the following attributes:\n",
      "        \n",
      "        statistic : float or array\n",
      "            The t-statistic.\n",
      "        pvalue : float or array\n",
      "            The p-value associated with the given alternative.\n",
      "        df : float or array\n",
      "            The number of degrees of freedom used in calculation of the\n",
      "            t-statistic; this is one less than the size of the sample\n",
      "            (``a.shape[axis]``).\n",
      "        \n",
      "            .. versionadded:: 1.10.0\n",
      "        \n",
      "        The object also has the following method:\n",
      "        \n",
      "        confidence_interval(confidence_level=0.95)\n",
      "            Computes a confidence interval around the difference in\n",
      "            population means for the given confidence level.\n",
      "            The confidence interval is returned in a ``namedtuple`` with\n",
      "            fields `low` and `high`.\n",
      "        \n",
      "            .. versionadded:: 1.10.0\n",
      "    \n",
      "    Notes\n",
      "    -----\n",
      "    Examples for use are scores of the same set of student in\n",
      "    different exams, or repeated sampling from the same units. The\n",
      "    test measures whether the average score differs significantly\n",
      "    across samples (e.g. exams). If we observe a large p-value, for\n",
      "    example greater than 0.05 or 0.1 then we cannot reject the null\n",
      "    hypothesis of identical average scores. If the p-value is smaller\n",
      "    than the threshold, e.g. 1%, 5% or 10%, then we reject the null\n",
      "    hypothesis of equal averages. Small p-values are associated with\n",
      "    large t-statistics.\n",
      "    \n",
      "    The t-statistic is calculated as ``np.mean(a - b)/se``, where ``se`` is the\n",
      "    standard error. Therefore, the t-statistic will be positive when the sample\n",
      "    mean of ``a - b`` is greater than zero and negative when the sample mean of\n",
      "    ``a - b`` is less than zero.\n",
      "    \n",
      "    Beginning in SciPy 1.9, ``np.matrix`` inputs (not recommended for new\n",
      "    code) are converted to ``np.ndarray`` before the calculation is performed. In\n",
      "    this case, the output will be a scalar or ``np.ndarray`` of appropriate shape\n",
      "    rather than a 2D ``np.matrix``. Similarly, while masked elements of masked\n",
      "    arrays are ignored, the output will be a scalar or ``np.ndarray`` rather than a\n",
      "    masked array with ``mask=False``.\n",
      "    \n",
      "    References\n",
      "    ----------\n",
      "    https://en.wikipedia.org/wiki/T-test#Dependent_t-test_for_paired_samples\n",
      "    \n",
      "    Examples\n",
      "    --------\n",
      "    >>> import numpy as np\n",
      "    >>> from scipy import stats\n",
      "    >>> rng = np.random.default_rng()\n",
      "    \n",
      "    >>> rvs1 = stats.norm.rvs(loc=5, scale=10, size=500, random_state=rng)\n",
      "    >>> rvs2 = (stats.norm.rvs(loc=5, scale=10, size=500, random_state=rng)\n",
      "    ...         + stats.norm.rvs(scale=0.2, size=500, random_state=rng))\n",
      "    >>> stats.ttest_rel(rvs1, rvs2)\n",
      "    TtestResult(statistic=-0.4549717054410304, pvalue=0.6493274702088672, df=499)  # noqa\n",
      "    >>> rvs3 = (stats.norm.rvs(loc=8, scale=10, size=500, random_state=rng)\n",
      "    ...         + stats.norm.rvs(scale=0.2, size=500, random_state=rng))\n",
      "    >>> stats.ttest_rel(rvs1, rvs3)\n",
      "    TtestResult(statistic=-5.879467544540889, pvalue=7.540777129099917e-09, df=499)  # noqa\n",
      "\n"
     ]
    }
   ],
   "source": [
    "help(ttest_rel)"
   ]
  },
  {
   "cell_type": "code",
   "execution_count": 200,
   "metadata": {},
   "outputs": [
    {
     "name": "stdout",
     "output_type": "stream",
     "text": [
      "TtestResult(statistic=2.5535473487670677, pvalue=0.011926744724546513, df=119)\n"
     ]
    }
   ],
   "source": [
    "print(ttest_rel(A,B))"
   ]
  },
  {
   "cell_type": "code",
   "execution_count": 201,
   "metadata": {},
   "outputs": [
    {
     "data": {
      "image/png": "[encoded data removed]",
      "text/plain": [
       "<Figure size 640x480 with 2 Axes>"
      ]
     },
     "metadata": {},
     "output_type": "display_data"
    }
   ],
   "source": [
    "import pandas as pd \n",
    "import matplotlib.pyplot as plt\n",
    "df = pd.read_csv('https://raw.githubusercontent.com/Datamanim/datarepo/main/scipy/rel3.csv')\n",
    "\n",
    "fig ,ax = plt.subplots(1,2)\n",
    "ax[0].boxplot(df['before'])\n",
    "ax[1].boxplot(df['after'])\n",
    "ax[0].set_xticklabels(['before'])\n",
    "ax[1].set_xticklabels(['after'])\n",
    "ax[0].set_ylim(130,300)\n",
    "ax[1].set_ylim(130,300)\n",
    "ax[1].get_yaxis().set_visible(False)\n",
    "ax[0].set_ylabel('value')\n",
    "plt.show()"
   ]
  },
  {
   "cell_type": "code",
   "execution_count": 203,
   "metadata": {},
   "outputs": [],
   "source": [
    "A = df['after']\n",
    "B = df['before']"
   ]
  },
  {
   "cell_type": "code",
   "execution_count": 204,
   "metadata": {},
   "outputs": [
    {
     "name": "stdout",
     "output_type": "stream",
     "text": [
      "ShapiroResult(statistic=0.992019534111023, pvalue=0.7229290008544922)\n",
      "ShapiroResult(statistic=0.9920631051063538, pvalue=0.7270199656486511)\n"
     ]
    }
   ],
   "source": [
    "print(shapiro(A))\n",
    "print(shapiro(B))"
   ]
  },
  {
   "cell_type": "code",
   "execution_count": 205,
   "metadata": {},
   "outputs": [
    {
     "name": "stdout",
     "output_type": "stream",
     "text": [
      "TtestResult(statistic=-0.188900575991026, pvalue=0.8504925317234707, df=119)\n"
     ]
    }
   ],
   "source": [
    "print(ttest_rel(A,B))"
   ]
  },
  {
   "cell_type": "code",
   "execution_count": 206,
   "metadata": {},
   "outputs": [
    {
     "data": {
      "image/png": "[encoded data removed]",
      "text/plain": [
       "<Figure size 640x480 with 2 Axes>"
      ]
     },
     "metadata": {},
     "output_type": "display_data"
    }
   ],
   "source": [
    "import pandas as pd \n",
    "import matplotlib.pyplot as plt\n",
    "df = pd.read_csv('https://raw.githubusercontent.com/Datamanim/datarepo/main/scipy/rel1.csv')\n",
    "\n",
    "fig ,ax = plt.subplots(1,2)\n",
    "ax[0].boxplot(df['before'])\n",
    "ax[1].boxplot(df['after'])\n",
    "ax[0].set_xticklabels(['before'])\n",
    "ax[1].set_xticklabels(['after'])\n",
    "ax[0].set_ylim(145,170)\n",
    "ax[1].set_ylim(145,170)\n",
    "ax[1].get_yaxis().set_visible(False)\n",
    "ax[0].set_ylabel('value')\n",
    "plt.show()"
   ]
  },
  {
   "cell_type": "code",
   "execution_count": 208,
   "metadata": {},
   "outputs": [],
   "source": [
    "A = df['after']\n",
    "B = df['before']"
   ]
  },
  {
   "cell_type": "code",
   "execution_count": 209,
   "metadata": {},
   "outputs": [
    {
     "name": "stdout",
     "output_type": "stream",
     "text": [
      "ShapiroResult(statistic=0.9448966979980469, pvalue=0.021140215918421745)\n",
      "ShapiroResult(statistic=0.9173730611801147, pvalue=0.0018974003614857793)\n"
     ]
    }
   ],
   "source": [
    "print(shapiro(A))\n",
    "print(shapiro(B))"
   ]
  },
  {
   "cell_type": "code",
   "execution_count": 210,
   "metadata": {},
   "outputs": [
    {
     "name": "stdout",
     "output_type": "stream",
     "text": [
      "TtestResult(statistic=2.187138399865287, pvalue=0.03353471744538162, df=49)\n"
     ]
    }
   ],
   "source": [
    "print(ttest_rel(A,B))"
   ]
  },
  {
   "cell_type": "code",
   "execution_count": 211,
   "metadata": {},
   "outputs": [
    {
     "data": {
      "image/png": "[encoded data removed]",
      "text/plain": [
       "<Figure size 640x480 with 2 Axes>"
      ]
     },
     "metadata": {},
     "output_type": "display_data"
    }
   ],
   "source": [
    "import pandas as pd \n",
    "import matplotlib.pyplot as plt\n",
    "df = pd.read_csv('https://raw.githubusercontent.com/Datamanim/datarepo/main/scipy/rel4.csv')\n",
    "\n",
    "fig ,ax = plt.subplots(1,2)\n",
    "ax[0].boxplot(df[df['group']=='a'].rpm)\n",
    "ax[1].boxplot(df[df['group']=='b'].rpm)\n",
    "ax[0].set_xticklabels(['a'])\n",
    "ax[1].set_xticklabels(['b'])\n",
    "ax[0].set_ylim(430,600)\n",
    "ax[1].set_ylim(430,600)\n",
    "ax[1].get_yaxis().set_visible(False)\n",
    "ax[0].set_ylabel('rpm')\n",
    "plt.show()"
   ]
  },
  {
   "cell_type": "code",
   "execution_count": 212,
   "metadata": {},
   "outputs": [
    {
     "data": {
      "text/html": [
       "<div>\n",
       "<style scoped>\n",
       "    .dataframe tbody tr th:only-of-type {\n",
       "        vertical-align: middle;\n",
       "    }\n",
       "\n",
       "    .dataframe tbody tr th {\n",
       "        vertical-align: top;\n",
       "    }\n",
       "\n",
       "    .dataframe thead th {\n",
       "        text-align: right;\n",
       "    }\n",
       "</style>\n",
       "<table border=\"1\" class=\"dataframe\">\n",
       "  <thead>\n",
       "    <tr style=\"text-align: right;\">\n",
       "      <th></th>\n",
       "      <th>rpm</th>\n",
       "      <th>group</th>\n",
       "    </tr>\n",
       "  </thead>\n",
       "  <tbody>\n",
       "    <tr>\n",
       "      <th>0</th>\n",
       "      <td>474.551593</td>\n",
       "      <td>a</td>\n",
       "    </tr>\n",
       "    <tr>\n",
       "      <th>1</th>\n",
       "      <td>450.548420</td>\n",
       "      <td>a</td>\n",
       "    </tr>\n",
       "    <tr>\n",
       "      <th>2</th>\n",
       "      <td>563.720934</td>\n",
       "      <td>a</td>\n",
       "    </tr>\n",
       "    <tr>\n",
       "      <th>3</th>\n",
       "      <td>506.886966</td>\n",
       "      <td>a</td>\n",
       "    </tr>\n",
       "    <tr>\n",
       "      <th>4</th>\n",
       "      <td>471.724049</td>\n",
       "      <td>a</td>\n",
       "    </tr>\n",
       "    <tr>\n",
       "      <th>...</th>\n",
       "      <td>...</td>\n",
       "      <td>...</td>\n",
       "    </tr>\n",
       "    <tr>\n",
       "      <th>135</th>\n",
       "      <td>508.802475</td>\n",
       "      <td>b</td>\n",
       "    </tr>\n",
       "    <tr>\n",
       "      <th>136</th>\n",
       "      <td>485.981627</td>\n",
       "      <td>b</td>\n",
       "    </tr>\n",
       "    <tr>\n",
       "      <th>137</th>\n",
       "      <td>499.289525</td>\n",
       "      <td>b</td>\n",
       "    </tr>\n",
       "    <tr>\n",
       "      <th>138</th>\n",
       "      <td>520.895380</td>\n",
       "      <td>b</td>\n",
       "    </tr>\n",
       "    <tr>\n",
       "      <th>139</th>\n",
       "      <td>506.458813</td>\n",
       "      <td>b</td>\n",
       "    </tr>\n",
       "  </tbody>\n",
       "</table>\n",
       "<p>140 rows × 2 columns</p>\n",
       "</div>"
      ],
      "text/plain": [
       "            rpm group\n",
       "0    474.551593     a\n",
       "1    450.548420     a\n",
       "2    563.720934     a\n",
       "3    506.886966     a\n",
       "4    471.724049     a\n",
       "..          ...   ...\n",
       "135  508.802475     b\n",
       "136  485.981627     b\n",
       "137  499.289525     b\n",
       "138  520.895380     b\n",
       "139  506.458813     b\n",
       "\n",
       "[140 rows x 2 columns]"
      ]
     },
     "execution_count": 212,
     "metadata": {},
     "output_type": "execute_result"
    }
   ],
   "source": [
    "df"
   ]
  },
  {
   "cell_type": "code",
   "execution_count": 216,
   "metadata": {},
   "outputs": [
    {
     "name": "stdout",
     "output_type": "stream",
     "text": [
      "<class 'pandas.core.frame.DataFrame'>\n",
      "RangeIndex: 140 entries, 0 to 139\n",
      "Data columns (total 2 columns):\n",
      " #   Column  Non-Null Count  Dtype  \n",
      "---  ------  --------------  -----  \n",
      " 0   rpm     140 non-null    float64\n",
      " 1   group   140 non-null    object \n",
      "dtypes: float64(1), object(1)\n",
      "memory usage: 2.3+ KB\n"
     ]
    }
   ],
   "source": [
    "df.info()"
   ]
  },
  {
   "cell_type": "code",
   "execution_count": 217,
   "metadata": {},
   "outputs": [],
   "source": [
    "A = df[df['group']=='a']['rpm']\n",
    "B = df[df['group']=='b']['rpm']"
   ]
  },
  {
   "cell_type": "code",
   "execution_count": 218,
   "metadata": {},
   "outputs": [
    {
     "name": "stdout",
     "output_type": "stream",
     "text": [
      "ShapiroResult(statistic=0.9907217025756836, pvalue=0.8884284496307373)\n",
      "ShapiroResult(statistic=0.984674870967865, pvalue=0.5505106449127197)\n"
     ]
    }
   ],
   "source": [
    "print(shapiro(A))\n",
    "print(shapiro(B))"
   ]
  },
  {
   "cell_type": "code",
   "execution_count": 219,
   "metadata": {},
   "outputs": [
    {
     "name": "stdout",
     "output_type": "stream",
     "text": [
      "LeveneResult(statistic=0.06716114122680159, pvalue=0.7959020864923277)\n",
      "FlignerResult(statistic=0.054960211155456414, pvalue=0.8146465578736366)\n"
     ]
    }
   ],
   "source": [
    "print(levene(A,B))\n",
    "print(fligner(A,B))"
   ]
  },
  {
   "cell_type": "code",
   "execution_count": 224,
   "metadata": {},
   "outputs": [
    {
     "name": "stdout",
     "output_type": "stream",
     "text": [
      "Help on function ttest_1samp in module scipy.stats._stats_py:\n",
      "\n",
      "ttest_1samp(a, popmean, axis=0, nan_policy='propagate', alternative='two-sided', *, keepdims=False)\n",
      "    Calculate the T-test for the mean of ONE group of scores.\n",
      "    \n",
      "    This is a test for the null hypothesis that the expected value\n",
      "    (mean) of a sample of independent observations `a` is equal to the given\n",
      "    population mean, `popmean`.\n",
      "    \n",
      "    Parameters\n",
      "    ----------\n",
      "    a : array_like\n",
      "        Sample observation.\n",
      "    popmean : float or array_like\n",
      "        Expected value in null hypothesis. If array_like, then its length along\n",
      "        `axis` must equal 1, and it must otherwise be broadcastable with `a`.\n",
      "    axis : int or None, default: 0\n",
      "        If an int, the axis of the input along which to compute the statistic.\n",
      "        The statistic of each axis-slice (e.g. row) of the input will appear in a\n",
      "        corresponding element of the output.\n",
      "        If ``None``, the input will be raveled before computing the statistic.\n",
      "    nan_policy : {'propagate', 'omit', 'raise'}\n",
      "        Defines how to handle input NaNs.\n",
      "        \n",
      "        - ``propagate``: if a NaN is present in the axis slice (e.g. row) along\n",
      "          which the  statistic is computed, the corresponding entry of the output\n",
      "          will be NaN.\n",
      "        - ``omit``: NaNs will be omitted when performing the calculation.\n",
      "          If insufficient data remains in the axis slice along which the\n",
      "          statistic is computed, the corresponding entry of the output will be\n",
      "          NaN.\n",
      "        - ``raise``: if a NaN is present, a ``ValueError`` will be raised.\n",
      "    alternative : {'two-sided', 'less', 'greater'}, optional\n",
      "        Defines the alternative hypothesis.\n",
      "        The following options are available (default is 'two-sided'):\n",
      "        \n",
      "        * 'two-sided': the mean of the underlying distribution of the sample\n",
      "          is different than the given population mean (`popmean`)\n",
      "        * 'less': the mean of the underlying distribution of the sample is\n",
      "          less than the given population mean (`popmean`)\n",
      "        * 'greater': the mean of the underlying distribution of the sample is\n",
      "          greater than the given population mean (`popmean`)\n",
      "    keepdims : bool, default: False\n",
      "        If this is set to True, the axes which are reduced are left\n",
      "        in the result as dimensions with size one. With this option,\n",
      "        the result will broadcast correctly against the input array.\n",
      "    \n",
      "    Returns\n",
      "    -------\n",
      "    result : `~scipy.stats._result_classes.TtestResult`\n",
      "        An object with the following attributes:\n",
      "        \n",
      "        statistic : float or array\n",
      "            The t-statistic.\n",
      "        pvalue : float or array\n",
      "            The p-value associated with the given alternative.\n",
      "        df : float or array\n",
      "            The number of degrees of freedom used in calculation of the\n",
      "            t-statistic; this is one less than the size of the sample\n",
      "            (``a.shape[axis]``).\n",
      "        \n",
      "            .. versionadded:: 1.10.0\n",
      "        \n",
      "        The object also has the following method:\n",
      "        \n",
      "        confidence_interval(confidence_level=0.95)\n",
      "            Computes a confidence interval around the population\n",
      "            mean for the given confidence level.\n",
      "            The confidence interval is returned in a ``namedtuple`` with\n",
      "            fields `low` and `high`.\n",
      "        \n",
      "            .. versionadded:: 1.10.0\n",
      "    \n",
      "    Notes\n",
      "    -----\n",
      "    The statistic is calculated as ``(np.mean(a) - popmean)/se``, where\n",
      "    ``se`` is the standard error. Therefore, the statistic will be positive\n",
      "    when the sample mean is greater than the population mean and negative when\n",
      "    the sample mean is less than the population mean.\n",
      "    \n",
      "    Beginning in SciPy 1.9, ``np.matrix`` inputs (not recommended for new\n",
      "    code) are converted to ``np.ndarray`` before the calculation is performed. In\n",
      "    this case, the output will be a scalar or ``np.ndarray`` of appropriate shape\n",
      "    rather than a 2D ``np.matrix``. Similarly, while masked elements of masked\n",
      "    arrays are ignored, the output will be a scalar or ``np.ndarray`` rather than a\n",
      "    masked array with ``mask=False``.\n",
      "    \n",
      "    Examples\n",
      "    --------\n",
      "    Suppose we wish to test the null hypothesis that the mean of a population\n",
      "    is equal to 0.5. We choose a confidence level of 99%; that is, we will\n",
      "    reject the null hypothesis in favor of the alternative if the p-value is\n",
      "    less than 0.01.\n",
      "    \n",
      "    When testing random variates from the standard uniform distribution, which\n",
      "    has a mean of 0.5, we expect the data to be consistent with the null\n",
      "    hypothesis most of the time.\n",
      "    \n",
      "    >>> import numpy as np\n",
      "    >>> from scipy import stats\n",
      "    >>> rng = np.random.default_rng()\n",
      "    >>> rvs = stats.uniform.rvs(size=50, random_state=rng)\n",
      "    >>> stats.ttest_1samp(rvs, popmean=0.5)\n",
      "    TtestResult(statistic=2.456308468440, pvalue=0.017628209047638, df=49)\n",
      "    \n",
      "    As expected, the p-value of 0.017 is not below our threshold of 0.01, so\n",
      "    we cannot reject the null hypothesis.\n",
      "    \n",
      "    When testing data from the standard *normal* distribution, which has a mean\n",
      "    of 0, we would expect the null hypothesis to be rejected.\n",
      "    \n",
      "    >>> rvs = stats.norm.rvs(size=50, random_state=rng)\n",
      "    >>> stats.ttest_1samp(rvs, popmean=0.5)\n",
      "    TtestResult(statistic=-7.433605518875, pvalue=1.416760157221e-09, df=49)\n",
      "    \n",
      "    Indeed, the p-value is lower than our threshold of 0.01, so we reject the\n",
      "    null hypothesis in favor of the default \"two-sided\" alternative: the mean\n",
      "    of the population is *not* equal to 0.5.\n",
      "    \n",
      "    However, suppose we were to test the null hypothesis against the\n",
      "    one-sided alternative that the mean of the population is *greater* than\n",
      "    0.5. Since the mean of the standard normal is less than 0.5, we would not\n",
      "    expect the null hypothesis to be rejected.\n",
      "    \n",
      "    >>> stats.ttest_1samp(rvs, popmean=0.5, alternative='greater')\n",
      "    TtestResult(statistic=-7.433605518875, pvalue=0.99999999929, df=49)\n",
      "    \n",
      "    Unsurprisingly, with a p-value greater than our threshold, we would not\n",
      "    reject the null hypothesis.\n",
      "    \n",
      "    Note that when working with a confidence level of 99%, a true null\n",
      "    hypothesis will be rejected approximately 1% of the time.\n",
      "    \n",
      "    >>> rvs = stats.uniform.rvs(size=(100, 50), random_state=rng)\n",
      "    >>> res = stats.ttest_1samp(rvs, popmean=0.5, axis=1)\n",
      "    >>> np.sum(res.pvalue < 0.01)\n",
      "    1\n",
      "    \n",
      "    Indeed, even though all 100 samples above were drawn from the standard\n",
      "    uniform distribution, which *does* have a population mean of 0.5, we would\n",
      "    mistakenly reject the null hypothesis for one of them.\n",
      "    \n",
      "    `ttest_1samp` can also compute a confidence interval around the population\n",
      "    mean.\n",
      "    \n",
      "    >>> rvs = stats.norm.rvs(size=50, random_state=rng)\n",
      "    >>> res = stats.ttest_1samp(rvs, popmean=0)\n",
      "    >>> ci = res.confidence_interval(confidence_level=0.95)\n",
      "    >>> ci\n",
      "    ConfidenceInterval(low=-0.3193887540880017, high=0.2898583388980972)\n",
      "    \n",
      "    The bounds of the 95% confidence interval are the\n",
      "    minimum and maximum values of the parameter `popmean` for which the\n",
      "    p-value of the test would be 0.05.\n",
      "    \n",
      "    >>> res = stats.ttest_1samp(rvs, popmean=ci.low)\n",
      "    >>> np.testing.assert_allclose(res.pvalue, 0.05)\n",
      "    >>> res = stats.ttest_1samp(rvs, popmean=ci.high)\n",
      "    >>> np.testing.assert_allclose(res.pvalue, 0.05)\n",
      "    \n",
      "    Under certain assumptions about the population from which a sample\n",
      "    is drawn, the confidence interval with confidence level 95% is expected\n",
      "    to contain the true population mean in 95% of sample replications.\n",
      "    \n",
      "    >>> rvs = stats.norm.rvs(size=(50, 1000), loc=1, random_state=rng)\n",
      "    >>> res = stats.ttest_1samp(rvs, popmean=0)\n",
      "    >>> ci = res.confidence_interval()\n",
      "    >>> contains_pop_mean = (ci.low < 1) & (ci.high > 1)\n",
      "    >>> contains_pop_mean.sum()\n",
      "    953\n",
      "\n"
     ]
    }
   ],
   "source": [
    "help(ttest_1samp)"
   ]
  },
  {
   "cell_type": "code",
   "execution_count": 225,
   "metadata": {},
   "outputs": [
    {
     "name": "stdout",
     "output_type": "stream",
     "text": [
      "TtestResult(statistic=-1.9018108294460812, pvalue=0.06137132692892943, df=69)\n"
     ]
    }
   ],
   "source": [
    "print(ttest_rel(A,B))"
   ]
  },
  {
   "cell_type": "code",
   "execution_count": 226,
   "metadata": {},
   "outputs": [
    {
     "data": {
      "image/png": "[encoded data removed]",
      "text/plain": [
       "<Figure size 640x480 with 1 Axes>"
      ]
     },
     "metadata": {},
     "output_type": "display_data"
    }
   ],
   "source": [
    "import pandas as pd \n",
    "import matplotlib.pyplot as plt\n",
    "df = pd.read_csv('https://raw.githubusercontent.com/Datamanim/datarepo/main/scipy/dice.csv')\n",
    "\n",
    "plt.bar(df.dice_number,df.counts)\n",
    "plt.xlabel('dice value')\n",
    "plt.ylabel('counts')\n",
    "plt.show()"
   ]
  },
  {
   "cell_type": "code",
   "execution_count": 227,
   "metadata": {},
   "outputs": [],
   "source": [
    "from scipy.stats import chi2_contingency, chisquare, fisher_exact"
   ]
  },
  {
   "cell_type": "code",
   "execution_count": 229,
   "metadata": {},
   "outputs": [
    {
     "name": "stdout",
     "output_type": "stream",
     "text": [
      "Help on function chisquare in module scipy.stats._stats_py:\n",
      "\n",
      "chisquare(f_obs, f_exp=None, ddof=0, axis=0)\n",
      "    Calculate a one-way chi-square test.\n",
      "    \n",
      "    The chi-square test tests the null hypothesis that the categorical data\n",
      "    has the given frequencies.\n",
      "    \n",
      "    Parameters\n",
      "    ----------\n",
      "    f_obs : array_like\n",
      "        Observed frequencies in each category.\n",
      "    f_exp : array_like, optional\n",
      "        Expected frequencies in each category.  By default the categories are\n",
      "        assumed to be equally likely.\n",
      "    ddof : int, optional\n",
      "        \"Delta degrees of freedom\": adjustment to the degrees of freedom\n",
      "        for the p-value.  The p-value is computed using a chi-squared\n",
      "        distribution with ``k - 1 - ddof`` degrees of freedom, where `k`\n",
      "        is the number of observed frequencies.  The default value of `ddof`\n",
      "        is 0.\n",
      "    axis : int or None, optional\n",
      "        The axis of the broadcast result of `f_obs` and `f_exp` along which to\n",
      "        apply the test.  If axis is None, all values in `f_obs` are treated\n",
      "        as a single data set.  Default is 0.\n",
      "    \n",
      "    Returns\n",
      "    -------\n",
      "    chisq : float or ndarray\n",
      "        The chi-squared test statistic.  The value is a float if `axis` is\n",
      "        None or `f_obs` and `f_exp` are 1-D.\n",
      "    p : float or ndarray\n",
      "        The p-value of the test.  The value is a float if `ddof` and the\n",
      "        return value `chisq` are scalars.\n",
      "    \n",
      "    See Also\n",
      "    --------\n",
      "    scipy.stats.power_divergence\n",
      "    scipy.stats.fisher_exact : Fisher exact test on a 2x2 contingency table.\n",
      "    scipy.stats.barnard_exact : An unconditional exact test. An alternative\n",
      "        to chi-squared test for small sample sizes.\n",
      "    \n",
      "    Notes\n",
      "    -----\n",
      "    This test is invalid when the observed or expected frequencies in each\n",
      "    category are too small.  A typical rule is that all of the observed\n",
      "    and expected frequencies should be at least 5. According to [3]_, the\n",
      "    total number of samples is recommended to be greater than 13,\n",
      "    otherwise exact tests (such as Barnard's Exact test) should be used\n",
      "    because they do not overreject.\n",
      "    \n",
      "    Also, the sum of the observed and expected frequencies must be the same\n",
      "    for the test to be valid; `chisquare` raises an error if the sums do not\n",
      "    agree within a relative tolerance of ``1e-8``.\n",
      "    \n",
      "    The default degrees of freedom, k-1, are for the case when no parameters\n",
      "    of the distribution are estimated. If p parameters are estimated by\n",
      "    efficient maximum likelihood then the correct degrees of freedom are\n",
      "    k-1-p. If the parameters are estimated in a different way, then the\n",
      "    dof can be between k-1-p and k-1. However, it is also possible that\n",
      "    the asymptotic distribution is not chi-square, in which case this test\n",
      "    is not appropriate.\n",
      "    \n",
      "    References\n",
      "    ----------\n",
      "    .. [1] Lowry, Richard.  \"Concepts and Applications of Inferential\n",
      "           Statistics\". Chapter 8.\n",
      "           https://web.archive.org/web/20171022032306/http://vassarstats.net:80/textbook/ch8pt1.html\n",
      "    .. [2] \"Chi-squared test\", https://en.wikipedia.org/wiki/Chi-squared_test\n",
      "    .. [3] Pearson, Karl. \"On the criterion that a given system of deviations from the probable\n",
      "           in the case of a correlated system of variables is such that it can be reasonably\n",
      "           supposed to have arisen from random sampling\", Philosophical Magazine. Series 5. 50\n",
      "           (1900), pp. 157-175.\n",
      "    \n",
      "    Examples\n",
      "    --------\n",
      "    When just `f_obs` is given, it is assumed that the expected frequencies\n",
      "    are uniform and given by the mean of the observed frequencies.\n",
      "    \n",
      "    >>> import numpy as np\n",
      "    >>> from scipy.stats import chisquare\n",
      "    >>> chisquare([16, 18, 16, 14, 12, 12])\n",
      "    (2.0, 0.84914503608460956)\n",
      "    \n",
      "    With `f_exp` the expected frequencies can be given.\n",
      "    \n",
      "    >>> chisquare([16, 18, 16, 14, 12, 12], f_exp=[16, 16, 16, 16, 16, 8])\n",
      "    (3.5, 0.62338762774958223)\n",
      "    \n",
      "    When `f_obs` is 2-D, by default the test is applied to each column.\n",
      "    \n",
      "    >>> obs = np.array([[16, 18, 16, 14, 12, 12], [32, 24, 16, 28, 20, 24]]).T\n",
      "    >>> obs.shape\n",
      "    (6, 2)\n",
      "    >>> chisquare(obs)\n",
      "    (array([ 2.        ,  6.66666667]), array([ 0.84914504,  0.24663415]))\n",
      "    \n",
      "    By setting ``axis=None``, the test is applied to all data in the array,\n",
      "    which is equivalent to applying the test to the flattened array.\n",
      "    \n",
      "    >>> chisquare(obs, axis=None)\n",
      "    (23.31034482758621, 0.015975692534127565)\n",
      "    >>> chisquare(obs.ravel())\n",
      "    (23.31034482758621, 0.015975692534127565)\n",
      "    \n",
      "    `ddof` is the change to make to the default degrees of freedom.\n",
      "    \n",
      "    >>> chisquare([16, 18, 16, 14, 12, 12], ddof=1)\n",
      "    (2.0, 0.73575888234288467)\n",
      "    \n",
      "    The calculation of the p-values is done by broadcasting the\n",
      "    chi-squared statistic with `ddof`.\n",
      "    \n",
      "    >>> chisquare([16, 18, 16, 14, 12, 12], ddof=[0,1,2])\n",
      "    (2.0, array([ 0.84914504,  0.73575888,  0.5724067 ]))\n",
      "    \n",
      "    `f_obs` and `f_exp` are also broadcast.  In the following, `f_obs` has\n",
      "    shape (6,) and `f_exp` has shape (2, 6), so the result of broadcasting\n",
      "    `f_obs` and `f_exp` has shape (2, 6).  To compute the desired chi-squared\n",
      "    statistics, we use ``axis=1``:\n",
      "    \n",
      "    >>> chisquare([16, 18, 16, 14, 12, 12],\n",
      "    ...           f_exp=[[16, 16, 16, 16, 16, 8], [8, 20, 20, 16, 12, 12]],\n",
      "    ...           axis=1)\n",
      "    (array([ 3.5 ,  9.25]), array([ 0.62338763,  0.09949846]))\n",
      "\n"
     ]
    }
   ],
   "source": [
    "help(chisquare)"
   ]
  },
  {
   "cell_type": "code",
   "execution_count": 232,
   "metadata": {},
   "outputs": [
    {
     "data": {
      "text/plain": [
       "24.0"
      ]
     },
     "execution_count": 232,
     "metadata": {},
     "output_type": "execute_result"
    }
   ],
   "source": [
    "df['counts'].sum()/6"
   ]
  },
  {
   "cell_type": "code",
   "execution_count": 234,
   "metadata": {},
   "outputs": [
    {
     "name": "stdout",
     "output_type": "stream",
     "text": [
      "Power_divergenceResult(statistic=2.333333333333333, pvalue=0.8013589222076911)\n"
     ]
    }
   ],
   "source": [
    "print(chisquare(df['counts'],df['counts'].sum()/6))"
   ]
  },
  {
   "cell_type": "code",
   "execution_count": 235,
   "metadata": {},
   "outputs": [
    {
     "data": {
      "text/html": [
       "<div>\n",
       "<style scoped>\n",
       "    .dataframe tbody tr th:only-of-type {\n",
       "        vertical-align: middle;\n",
       "    }\n",
       "\n",
       "    .dataframe tbody tr th {\n",
       "        vertical-align: top;\n",
       "    }\n",
       "\n",
       "    .dataframe thead th {\n",
       "        text-align: right;\n",
       "    }\n",
       "</style>\n",
       "<table border=\"1\" class=\"dataframe\">\n",
       "  <thead>\n",
       "    <tr style=\"text-align: right;\">\n",
       "      <th></th>\n",
       "      <th>hands</th>\n",
       "    </tr>\n",
       "  </thead>\n",
       "  <tbody>\n",
       "    <tr>\n",
       "      <th>0</th>\n",
       "      <td>right</td>\n",
       "    </tr>\n",
       "    <tr>\n",
       "      <th>1</th>\n",
       "      <td>right</td>\n",
       "    </tr>\n",
       "    <tr>\n",
       "      <th>2</th>\n",
       "      <td>left</td>\n",
       "    </tr>\n",
       "    <tr>\n",
       "      <th>3</th>\n",
       "      <td>right</td>\n",
       "    </tr>\n",
       "    <tr>\n",
       "      <th>4</th>\n",
       "      <td>right</td>\n",
       "    </tr>\n",
       "  </tbody>\n",
       "</table>\n",
       "</div>"
      ],
      "text/plain": [
       "   hands\n",
       "0  right\n",
       "1  right\n",
       "2   left\n",
       "3  right\n",
       "4  right"
      ]
     },
     "execution_count": 235,
     "metadata": {},
     "output_type": "execute_result"
    }
   ],
   "source": [
    "import pandas as pd \n",
    "import matplotlib.pyplot as plt\n",
    "df = pd.read_csv('https://raw.githubusercontent.com/Datamanim/datarepo/main/scipy/hands2.csv')\n",
    "df.head()"
   ]
  },
  {
   "cell_type": "code",
   "execution_count": 244,
   "metadata": {},
   "outputs": [],
   "source": [
    "r=df[df['hands']=='right'].count()[0]\n",
    "l=df[df['hands']=='left'].count()[0]\n",
    "total = r + l\n",
    "R = total * 0.8\n",
    "L = total * 0.2"
   ]
  },
  {
   "cell_type": "code",
   "execution_count": 245,
   "metadata": {},
   "outputs": [
    {
     "name": "stdout",
     "output_type": "stream",
     "text": [
      "Power_divergenceResult(statistic=5.0, pvalue=0.025347318677468325)\n"
     ]
    }
   ],
   "source": [
    "print(chisquare([r,l], [R,L]))"
   ]
  },
  {
   "cell_type": "code",
   "execution_count": 246,
   "metadata": {},
   "outputs": [
    {
     "data": {
      "text/html": [
       "<div>\n",
       "<style scoped>\n",
       "    .dataframe tbody tr th:only-of-type {\n",
       "        vertical-align: middle;\n",
       "    }\n",
       "\n",
       "    .dataframe tbody tr th {\n",
       "        vertical-align: top;\n",
       "    }\n",
       "\n",
       "    .dataframe thead th {\n",
       "        text-align: right;\n",
       "    }\n",
       "</style>\n",
       "<table border=\"1\" class=\"dataframe\">\n",
       "  <thead>\n",
       "    <tr style=\"text-align: right;\">\n",
       "      <th></th>\n",
       "      <th>측정나이</th>\n",
       "      <th>측정회원성별</th>\n",
       "      <th>신장 : cm</th>\n",
       "      <th>체중 : kg</th>\n",
       "      <th>체지방율 : %</th>\n",
       "      <th>이완기혈압(최저) : mmHg</th>\n",
       "      <th>수축기혈압(최고) : mmHg</th>\n",
       "      <th>악력D : kg</th>\n",
       "      <th>앉아윗몸앞으로굽히기 : cm</th>\n",
       "      <th>교차윗몸일으키기 : 회</th>\n",
       "      <th>제자리 멀리뛰기 : cm</th>\n",
       "      <th>등급</th>\n",
       "    </tr>\n",
       "  </thead>\n",
       "  <tbody>\n",
       "    <tr>\n",
       "      <th>0</th>\n",
       "      <td>59.0</td>\n",
       "      <td>M</td>\n",
       "      <td>175.0</td>\n",
       "      <td>70.6</td>\n",
       "      <td>19.2</td>\n",
       "      <td>91.0</td>\n",
       "      <td>150.0</td>\n",
       "      <td>40.6</td>\n",
       "      <td>12.2</td>\n",
       "      <td>30.0</td>\n",
       "      <td>179.0</td>\n",
       "      <td>C</td>\n",
       "    </tr>\n",
       "    <tr>\n",
       "      <th>1</th>\n",
       "      <td>40.0</td>\n",
       "      <td>F</td>\n",
       "      <td>161.4</td>\n",
       "      <td>45.8</td>\n",
       "      <td>21.7</td>\n",
       "      <td>62.0</td>\n",
       "      <td>119.0</td>\n",
       "      <td>22.1</td>\n",
       "      <td>16.0</td>\n",
       "      <td>32.0</td>\n",
       "      <td>165.0</td>\n",
       "      <td>B</td>\n",
       "    </tr>\n",
       "    <tr>\n",
       "      <th>2</th>\n",
       "      <td>27.0</td>\n",
       "      <td>M</td>\n",
       "      <td>176.6</td>\n",
       "      <td>84.8</td>\n",
       "      <td>19.2</td>\n",
       "      <td>87.0</td>\n",
       "      <td>153.0</td>\n",
       "      <td>45.9</td>\n",
       "      <td>13.2</td>\n",
       "      <td>61.0</td>\n",
       "      <td>216.0</td>\n",
       "      <td>B</td>\n",
       "    </tr>\n",
       "    <tr>\n",
       "      <th>3</th>\n",
       "      <td>38.0</td>\n",
       "      <td>M</td>\n",
       "      <td>167.6</td>\n",
       "      <td>76.7</td>\n",
       "      <td>24.7</td>\n",
       "      <td>63.0</td>\n",
       "      <td>132.0</td>\n",
       "      <td>43.6</td>\n",
       "      <td>16.0</td>\n",
       "      <td>45.0</td>\n",
       "      <td>231.0</td>\n",
       "      <td>A</td>\n",
       "    </tr>\n",
       "    <tr>\n",
       "      <th>4</th>\n",
       "      <td>21.0</td>\n",
       "      <td>M</td>\n",
       "      <td>165.2</td>\n",
       "      <td>66.2</td>\n",
       "      <td>21.5</td>\n",
       "      <td>83.0</td>\n",
       "      <td>106.0</td>\n",
       "      <td>33.5</td>\n",
       "      <td>10.6</td>\n",
       "      <td>46.0</td>\n",
       "      <td>198.0</td>\n",
       "      <td>C</td>\n",
       "    </tr>\n",
       "  </tbody>\n",
       "</table>\n",
       "</div>"
      ],
      "text/plain": [
       "   측정나이 측정회원성별  신장 : cm  체중 : kg  체지방율 : %  이완기혈압(최저) : mmHg  \\\n",
       "0  59.0      M    175.0     70.6      19.2              91.0   \n",
       "1  40.0      F    161.4     45.8      21.7              62.0   \n",
       "2  27.0      M    176.6     84.8      19.2              87.0   \n",
       "3  38.0      M    167.6     76.7      24.7              63.0   \n",
       "4  21.0      M    165.2     66.2      21.5              83.0   \n",
       "\n",
       "   수축기혈압(최고) : mmHg  악력D : kg  앉아윗몸앞으로굽히기 : cm  교차윗몸일으키기 : 회  제자리 멀리뛰기 : cm 등급  \n",
       "0             150.0      40.6             12.2          30.0          179.0  C  \n",
       "1             119.0      22.1             16.0          32.0          165.0  B  \n",
       "2             153.0      45.9             13.2          61.0          216.0  B  \n",
       "3             132.0      43.6             16.0          45.0          231.0  A  \n",
       "4             106.0      33.5             10.6          46.0          198.0  C  "
      ]
     },
     "execution_count": 246,
     "metadata": {},
     "output_type": "execute_result"
    }
   ],
   "source": [
    "import pandas as pd \n",
    "import matplotlib.pyplot as plt\n",
    "df = pd.read_csv('https://raw.githubusercontent.com/Datamanim/datarepo/main/body/body.csv')\n",
    "df.head()"
   ]
  },
  {
   "cell_type": "code",
   "execution_count": 247,
   "metadata": {},
   "outputs": [],
   "source": [
    "A = df['측정회원성별']\n",
    "B = df['등급']"
   ]
  },
  {
   "cell_type": "code",
   "execution_count": 248,
   "metadata": {},
   "outputs": [
    {
     "data": {
      "text/plain": [
       "0        M\n",
       "1        F\n",
       "2        M\n",
       "3        M\n",
       "4        M\n",
       "        ..\n",
       "13391    M\n",
       "13392    M\n",
       "13393    M\n",
       "13394    M\n",
       "13395    M\n",
       "Name: 측정회원성별, Length: 13396, dtype: object"
      ]
     },
     "execution_count": 248,
     "metadata": {},
     "output_type": "execute_result"
    }
   ],
   "source": [
    "A"
   ]
  },
  {
   "cell_type": "code",
   "execution_count": 249,
   "metadata": {},
   "outputs": [
    {
     "name": "stdout",
     "output_type": "stream",
     "text": [
      "Help on function chi2_contingency in module scipy.stats.contingency:\n",
      "\n",
      "chi2_contingency(observed, correction=True, lambda_=None)\n",
      "    Chi-square test of independence of variables in a contingency table.\n",
      "    \n",
      "    This function computes the chi-square statistic and p-value for the\n",
      "    hypothesis test of independence of the observed frequencies in the\n",
      "    contingency table [1]_ `observed`.  The expected frequencies are computed\n",
      "    based on the marginal sums under the assumption of independence; see\n",
      "    `scipy.stats.contingency.expected_freq`.  The number of degrees of\n",
      "    freedom is (expressed using numpy functions and attributes)::\n",
      "    \n",
      "        dof = observed.size - sum(observed.shape) + observed.ndim - 1\n",
      "    \n",
      "    \n",
      "    Parameters\n",
      "    ----------\n",
      "    observed : array_like\n",
      "        The contingency table. The table contains the observed frequencies\n",
      "        (i.e. number of occurrences) in each category.  In the two-dimensional\n",
      "        case, the table is often described as an \"R x C table\".\n",
      "    correction : bool, optional\n",
      "        If True, *and* the degrees of freedom is 1, apply Yates' correction\n",
      "        for continuity.  The effect of the correction is to adjust each\n",
      "        observed value by 0.5 towards the corresponding expected value.\n",
      "    lambda_ : float or str, optional\n",
      "        By default, the statistic computed in this test is Pearson's\n",
      "        chi-squared statistic [2]_.  `lambda_` allows a statistic from the\n",
      "        Cressie-Read power divergence family [3]_ to be used instead.  See\n",
      "        `scipy.stats.power_divergence` for details.\n",
      "    \n",
      "    Returns\n",
      "    -------\n",
      "    res : Chi2ContingencyResult\n",
      "        An object containing attributes:\n",
      "    \n",
      "        statistic : float\n",
      "            The test statistic.\n",
      "        pvalue : float\n",
      "            The p-value of the test.\n",
      "        dof : int\n",
      "            The degrees of freedom.\n",
      "        expected_freq : ndarray, same shape as `observed`\n",
      "            The expected frequencies, based on the marginal sums of the table.\n",
      "    \n",
      "    See Also\n",
      "    --------\n",
      "    scipy.stats.contingency.expected_freq\n",
      "    scipy.stats.fisher_exact\n",
      "    scipy.stats.chisquare\n",
      "    scipy.stats.power_divergence\n",
      "    scipy.stats.barnard_exact\n",
      "    scipy.stats.boschloo_exact\n",
      "    \n",
      "    Notes\n",
      "    -----\n",
      "    An often quoted guideline for the validity of this calculation is that\n",
      "    the test should be used only if the observed and expected frequencies\n",
      "    in each cell are at least 5.\n",
      "    \n",
      "    This is a test for the independence of different categories of a\n",
      "    population. The test is only meaningful when the dimension of\n",
      "    `observed` is two or more.  Applying the test to a one-dimensional\n",
      "    table will always result in `expected` equal to `observed` and a\n",
      "    chi-square statistic equal to 0.\n",
      "    \n",
      "    This function does not handle masked arrays, because the calculation\n",
      "    does not make sense with missing values.\n",
      "    \n",
      "    Like `scipy.stats.chisquare`, this function computes a chi-square\n",
      "    statistic; the convenience this function provides is to figure out the\n",
      "    expected frequencies and degrees of freedom from the given contingency\n",
      "    table. If these were already known, and if the Yates' correction was not\n",
      "    required, one could use `scipy.stats.chisquare`.  That is, if one calls::\n",
      "    \n",
      "        res = chi2_contingency(obs, correction=False)\n",
      "    \n",
      "    then the following is true::\n",
      "    \n",
      "        (res.statistic, res.pvalue) == stats.chisquare(obs.ravel(),\n",
      "                                                       f_exp=ex.ravel(),\n",
      "                                                       ddof=obs.size - 1 - dof)\n",
      "    \n",
      "    The `lambda_` argument was added in version 0.13.0 of scipy.\n",
      "    \n",
      "    References\n",
      "    ----------\n",
      "    .. [1] \"Contingency table\",\n",
      "           https://en.wikipedia.org/wiki/Contingency_table\n",
      "    .. [2] \"Pearson's chi-squared test\",\n",
      "           https://en.wikipedia.org/wiki/Pearson%27s_chi-squared_test\n",
      "    .. [3] Cressie, N. and Read, T. R. C., \"Multinomial Goodness-of-Fit\n",
      "           Tests\", J. Royal Stat. Soc. Series B, Vol. 46, No. 3 (1984),\n",
      "           pp. 440-464.\n",
      "    \n",
      "    Examples\n",
      "    --------\n",
      "    A two-way example (2 x 3):\n",
      "    \n",
      "    >>> import numpy as np\n",
      "    >>> from scipy.stats import chi2_contingency\n",
      "    >>> obs = np.array([[10, 10, 20], [20, 20, 20]])\n",
      "    >>> res = chi2_contingency(obs)\n",
      "    >>> res.statistic\n",
      "    2.7777777777777777\n",
      "    >>> res.pvalue\n",
      "    0.24935220877729619\n",
      "    >>> res.dof\n",
      "    2\n",
      "    >>> res.expected_freq\n",
      "    array([[ 12.,  12.,  16.],\n",
      "           [ 18.,  18.,  24.]])\n",
      "    \n",
      "    Perform the test using the log-likelihood ratio (i.e. the \"G-test\")\n",
      "    instead of Pearson's chi-squared statistic.\n",
      "    \n",
      "    >>> res = chi2_contingency(obs, lambda_=\"log-likelihood\")\n",
      "    >>> res.statistic\n",
      "    2.7688587616781319\n",
      "    >>> res.pvalue\n",
      "    0.25046668010954165\n",
      "    \n",
      "    A four-way example (2 x 2 x 2 x 2):\n",
      "    \n",
      "    >>> obs = np.array(\n",
      "    ...     [[[[12, 17],\n",
      "    ...        [11, 16]],\n",
      "    ...       [[11, 12],\n",
      "    ...        [15, 16]]],\n",
      "    ...      [[[23, 15],\n",
      "    ...        [30, 22]],\n",
      "    ...       [[14, 17],\n",
      "    ...        [15, 16]]]])\n",
      "    >>> res = chi2_contingency(obs)\n",
      "    >>> res.statistic\n",
      "    8.7584514426741897\n",
      "    >>> res.pvalue\n",
      "    0.64417725029295503\n",
      "\n"
     ]
    }
   ],
   "source": [
    "help(chi2_contingency)"
   ]
  },
  {
   "cell_type": "code",
   "execution_count": 252,
   "metadata": {},
   "outputs": [
    {
     "data": {
      "text/plain": [
       "0        M\n",
       "1        F\n",
       "2        M\n",
       "3        M\n",
       "4        M\n",
       "        ..\n",
       "13391    M\n",
       "13392    M\n",
       "13393    M\n",
       "13394    M\n",
       "13395    M\n",
       "Name: 측정회원성별, Length: 13396, dtype: object"
      ]
     },
     "metadata": {},
     "output_type": "display_data"
    },
    {
     "data": {
      "text/plain": [
       "0        C\n",
       "1        B\n",
       "2        B\n",
       "3        A\n",
       "4        C\n",
       "        ..\n",
       "13391    C\n",
       "13392    C\n",
       "13393    B\n",
       "13394    B\n",
       "13395    A\n",
       "Name: 등급, Length: 13396, dtype: object"
      ]
     },
     "metadata": {},
     "output_type": "display_data"
    }
   ],
   "source": [
    "C = pd.crosstab(A,B)\n",
    "display(A,B)"
   ]
  },
  {
   "cell_type": "code",
   "execution_count": 253,
   "metadata": {},
   "outputs": [
    {
     "name": "stdout",
     "output_type": "stream",
     "text": [
      "Chi2ContingencyResult(statistic=120.06233631119409, pvalue=7.481892813401677e-26, dof=3, expected_freq=array([[1220.25, 1220.25, 1220.25, 1220.25],\n",
      "       [2128.75, 2128.75, 2128.75, 2128.75]]))\n"
     ]
    }
   ],
   "source": [
    "print(chi2_contingency(C))"
   ]
  },
  {
   "cell_type": "code",
   "execution_count": 254,
   "metadata": {},
   "outputs": [
    {
     "data": {
      "text/html": [
       "<div>\n",
       "<style scoped>\n",
       "    .dataframe tbody tr th:only-of-type {\n",
       "        vertical-align: middle;\n",
       "    }\n",
       "\n",
       "    .dataframe tbody tr th {\n",
       "        vertical-align: top;\n",
       "    }\n",
       "\n",
       "    .dataframe thead th {\n",
       "        text-align: right;\n",
       "    }\n",
       "</style>\n",
       "<table border=\"1\" class=\"dataframe\">\n",
       "  <thead>\n",
       "    <tr style=\"text-align: right;\">\n",
       "      <th>등급</th>\n",
       "      <th>A</th>\n",
       "      <th>B</th>\n",
       "      <th>C</th>\n",
       "      <th>D</th>\n",
       "    </tr>\n",
       "    <tr>\n",
       "      <th>측정회원성별</th>\n",
       "      <th></th>\n",
       "      <th></th>\n",
       "      <th></th>\n",
       "      <th></th>\n",
       "    </tr>\n",
       "  </thead>\n",
       "  <tbody>\n",
       "    <tr>\n",
       "      <th>F</th>\n",
       "      <td>1484</td>\n",
       "      <td>1130</td>\n",
       "      <td>1147</td>\n",
       "      <td>1120</td>\n",
       "    </tr>\n",
       "    <tr>\n",
       "      <th>M</th>\n",
       "      <td>1865</td>\n",
       "      <td>2219</td>\n",
       "      <td>2202</td>\n",
       "      <td>2229</td>\n",
       "    </tr>\n",
       "  </tbody>\n",
       "</table>\n",
       "</div>"
      ],
      "text/plain": [
       "등급         A     B     C     D\n",
       "측정회원성별                        \n",
       "F       1484  1130  1147  1120\n",
       "M       1865  2219  2202  2229"
      ]
     },
     "metadata": {},
     "output_type": "display_data"
    },
    {
     "name": "stdout",
     "output_type": "stream",
     "text": [
      "Chi2ContingencyResult(statistic=120.06233631119409, pvalue=7.481892813401677e-26, dof=3, expected_freq=array([[1220.25, 1220.25, 1220.25, 1220.25],\n",
      "       [2128.75, 2128.75, 2128.75, 2128.75]]))\n",
      "7.481892813401677e-26\n"
     ]
    }
   ],
   "source": [
    "cdf = pd.crosstab(df['측정회원성별'],df['등급'])\n",
    "display(cdf)\n",
    "\n",
    "from scipy.stats import chi2_contingency\n",
    "print(chi2_contingency(cdf))\n",
    "chi2 , p ,dof, expected = chi2_contingency(cdf)\n",
    "print(p)\n"
   ]
  },
  {
   "cell_type": "code",
   "execution_count": 255,
   "metadata": {},
   "outputs": [
    {
     "data": {
      "text/html": [
       "<div>\n",
       "<style scoped>\n",
       "    .dataframe tbody tr th:only-of-type {\n",
       "        vertical-align: middle;\n",
       "    }\n",
       "\n",
       "    .dataframe tbody tr th {\n",
       "        vertical-align: top;\n",
       "    }\n",
       "\n",
       "    .dataframe thead th {\n",
       "        text-align: right;\n",
       "    }\n",
       "</style>\n",
       "<table border=\"1\" class=\"dataframe\">\n",
       "  <thead>\n",
       "    <tr style=\"text-align: right;\">\n",
       "      <th></th>\n",
       "      <th>불참</th>\n",
       "      <th>참석</th>\n",
       "      <th>총합</th>\n",
       "    </tr>\n",
       "  </thead>\n",
       "  <tbody>\n",
       "    <tr>\n",
       "      <th>남성</th>\n",
       "      <td>4</td>\n",
       "      <td>2</td>\n",
       "      <td>6</td>\n",
       "    </tr>\n",
       "    <tr>\n",
       "      <th>여성</th>\n",
       "      <td>1</td>\n",
       "      <td>9</td>\n",
       "      <td>10</td>\n",
       "    </tr>\n",
       "    <tr>\n",
       "      <th>총합</th>\n",
       "      <td>5</td>\n",
       "      <td>11</td>\n",
       "      <td>16</td>\n",
       "    </tr>\n",
       "  </tbody>\n",
       "</table>\n",
       "</div>"
      ],
      "text/plain": [
       "    불참  참석  총합\n",
       "남성   4   2   6\n",
       "여성   1   9  10\n",
       "총합   5  11  16"
      ]
     },
     "execution_count": 255,
     "metadata": {},
     "output_type": "execute_result"
    }
   ],
   "source": [
    "import pandas as pd \n",
    "import matplotlib.pyplot as plt\n",
    "df = pd.read_csv('https://raw.githubusercontent.com/Datamanim/datarepo/main/scipy/fe2.csv',index_col=0)\n",
    "df"
   ]
  },
  {
   "cell_type": "code",
   "execution_count": 258,
   "metadata": {},
   "outputs": [],
   "source": [
    "df=df.drop('총합')"
   ]
  },
  {
   "cell_type": "code",
   "execution_count": 259,
   "metadata": {},
   "outputs": [
    {
     "data": {
      "text/html": [
       "<div>\n",
       "<style scoped>\n",
       "    .dataframe tbody tr th:only-of-type {\n",
       "        vertical-align: middle;\n",
       "    }\n",
       "\n",
       "    .dataframe tbody tr th {\n",
       "        vertical-align: top;\n",
       "    }\n",
       "\n",
       "    .dataframe thead th {\n",
       "        text-align: right;\n",
       "    }\n",
       "</style>\n",
       "<table border=\"1\" class=\"dataframe\">\n",
       "  <thead>\n",
       "    <tr style=\"text-align: right;\">\n",
       "      <th></th>\n",
       "      <th>불참</th>\n",
       "      <th>참석</th>\n",
       "    </tr>\n",
       "  </thead>\n",
       "  <tbody>\n",
       "    <tr>\n",
       "      <th>남성</th>\n",
       "      <td>4</td>\n",
       "      <td>2</td>\n",
       "    </tr>\n",
       "    <tr>\n",
       "      <th>여성</th>\n",
       "      <td>1</td>\n",
       "      <td>9</td>\n",
       "    </tr>\n",
       "  </tbody>\n",
       "</table>\n",
       "</div>"
      ],
      "text/plain": [
       "    불참  참석\n",
       "남성   4   2\n",
       "여성   1   9"
      ]
     },
     "execution_count": 259,
     "metadata": {},
     "output_type": "execute_result"
    }
   ],
   "source": [
    "df=df.drop('총합', axis=1)\n",
    "df"
   ]
  },
  {
   "cell_type": "code",
   "execution_count": 260,
   "metadata": {},
   "outputs": [
    {
     "name": "stdout",
     "output_type": "stream",
     "text": [
      "Chi2ContingencyResult(statistic=3.277575757575758, pvalue=0.07023259819117404, dof=1, expected_freq=array([[1.875, 4.125],\n",
      "       [3.125, 6.875]]))\n"
     ]
    }
   ],
   "source": [
    "print(chi2_contingency(df))"
   ]
  },
  {
   "cell_type": "code",
   "execution_count": 261,
   "metadata": {},
   "outputs": [],
   "source": [
    "import seaborn as sns\n",
    "import pandas as pd\n",
    "sns.get_dataset_names()\n",
    "df = sns.load_dataset('car_crashes')"
   ]
  },
  {
   "cell_type": "code",
   "execution_count": 262,
   "metadata": {},
   "outputs": [
    {
     "data": {
      "text/html": [
       "<div>\n",
       "<style scoped>\n",
       "    .dataframe tbody tr th:only-of-type {\n",
       "        vertical-align: middle;\n",
       "    }\n",
       "\n",
       "    .dataframe tbody tr th {\n",
       "        vertical-align: top;\n",
       "    }\n",
       "\n",
       "    .dataframe thead th {\n",
       "        text-align: right;\n",
       "    }\n",
       "</style>\n",
       "<table border=\"1\" class=\"dataframe\">\n",
       "  <thead>\n",
       "    <tr style=\"text-align: right;\">\n",
       "      <th></th>\n",
       "      <th>total</th>\n",
       "      <th>speeding</th>\n",
       "      <th>alcohol</th>\n",
       "      <th>not_distracted</th>\n",
       "      <th>no_previous</th>\n",
       "      <th>ins_premium</th>\n",
       "      <th>ins_losses</th>\n",
       "      <th>abbrev</th>\n",
       "    </tr>\n",
       "  </thead>\n",
       "  <tbody>\n",
       "    <tr>\n",
       "      <th>0</th>\n",
       "      <td>18.8</td>\n",
       "      <td>7.332</td>\n",
       "      <td>5.640</td>\n",
       "      <td>18.048</td>\n",
       "      <td>15.040</td>\n",
       "      <td>784.55</td>\n",
       "      <td>145.08</td>\n",
       "      <td>AL</td>\n",
       "    </tr>\n",
       "    <tr>\n",
       "      <th>1</th>\n",
       "      <td>18.1</td>\n",
       "      <td>7.421</td>\n",
       "      <td>4.525</td>\n",
       "      <td>16.290</td>\n",
       "      <td>17.014</td>\n",
       "      <td>1053.48</td>\n",
       "      <td>133.93</td>\n",
       "      <td>AK</td>\n",
       "    </tr>\n",
       "    <tr>\n",
       "      <th>2</th>\n",
       "      <td>18.6</td>\n",
       "      <td>6.510</td>\n",
       "      <td>5.208</td>\n",
       "      <td>15.624</td>\n",
       "      <td>17.856</td>\n",
       "      <td>899.47</td>\n",
       "      <td>110.35</td>\n",
       "      <td>AZ</td>\n",
       "    </tr>\n",
       "    <tr>\n",
       "      <th>3</th>\n",
       "      <td>22.4</td>\n",
       "      <td>4.032</td>\n",
       "      <td>5.824</td>\n",
       "      <td>21.056</td>\n",
       "      <td>21.280</td>\n",
       "      <td>827.34</td>\n",
       "      <td>142.39</td>\n",
       "      <td>AR</td>\n",
       "    </tr>\n",
       "    <tr>\n",
       "      <th>4</th>\n",
       "      <td>12.0</td>\n",
       "      <td>4.200</td>\n",
       "      <td>3.360</td>\n",
       "      <td>10.920</td>\n",
       "      <td>10.680</td>\n",
       "      <td>878.41</td>\n",
       "      <td>165.63</td>\n",
       "      <td>CA</td>\n",
       "    </tr>\n",
       "  </tbody>\n",
       "</table>\n",
       "</div>"
      ],
      "text/plain": [
       "   total  speeding  alcohol  not_distracted  no_previous  ins_premium  \\\n",
       "0   18.8     7.332    5.640          18.048       15.040       784.55   \n",
       "1   18.1     7.421    4.525          16.290       17.014      1053.48   \n",
       "2   18.6     6.510    5.208          15.624       17.856       899.47   \n",
       "3   22.4     4.032    5.824          21.056       21.280       827.34   \n",
       "4   12.0     4.200    3.360          10.920       10.680       878.41   \n",
       "\n",
       "   ins_losses abbrev  \n",
       "0      145.08     AL  \n",
       "1      133.93     AK  \n",
       "2      110.35     AZ  \n",
       "3      142.39     AR  \n",
       "4      165.63     CA  "
      ]
     },
     "execution_count": 262,
     "metadata": {},
     "output_type": "execute_result"
    }
   ],
   "source": [
    "df.head()"
   ]
  },
  {
   "cell_type": "code",
   "execution_count": 263,
   "metadata": {},
   "outputs": [
    {
     "name": "stdout",
     "output_type": "stream",
     "text": [
      "<class 'pandas.core.frame.DataFrame'>\n",
      "RangeIndex: 51 entries, 0 to 50\n",
      "Data columns (total 8 columns):\n",
      " #   Column          Non-Null Count  Dtype  \n",
      "---  ------          --------------  -----  \n",
      " 0   total           51 non-null     float64\n",
      " 1   speeding        51 non-null     float64\n",
      " 2   alcohol         51 non-null     float64\n",
      " 3   not_distracted  51 non-null     float64\n",
      " 4   no_previous     51 non-null     float64\n",
      " 5   ins_premium     51 non-null     float64\n",
      " 6   ins_losses      51 non-null     float64\n",
      " 7   abbrev          51 non-null     object \n",
      "dtypes: float64(7), object(1)\n",
      "memory usage: 3.3+ KB\n"
     ]
    }
   ],
   "source": [
    "df.info()"
   ]
  },
  {
   "cell_type": "code",
   "execution_count": 265,
   "metadata": {},
   "outputs": [
    {
     "data": {
      "text/plain": [
       "34    10.038\n",
       "40     9.799\n",
       "26     9.416\n",
       "43     7.372\n",
       "11     7.175\n",
       "18     6.765\n",
       "48     6.664\n",
       "41     6.402\n",
       "3      5.824\n",
       "36     5.771\n",
       "Name: alcohol, dtype: float64"
      ]
     },
     "execution_count": 265,
     "metadata": {},
     "output_type": "execute_result"
    }
   ],
   "source": [
    "df['alcohol'].sort_values(ascending=False)[:10]"
   ]
  },
  {
   "cell_type": "code",
   "execution_count": 269,
   "metadata": {},
   "outputs": [
    {
     "data": {
      "text/plain": [
       "6.8566"
      ]
     },
     "execution_count": 269,
     "metadata": {},
     "output_type": "execute_result"
    }
   ],
   "source": [
    "df[df['speeding']>=7]['alcohol'].mean()"
   ]
  },
  {
   "cell_type": "code",
   "execution_count": 270,
   "metadata": {},
   "outputs": [
    {
     "ename": "AttributeError",
     "evalue": "'list' object has no attribute 'find'",
     "output_type": "error",
     "traceback": [
      "\u001b[0;31m---------------------------------------------------------------------------\u001b[0m",
      "\u001b[0;31mAttributeError\u001b[0m                            Traceback (most recent call last)",
      "Cell \u001b[0;32mIn[270], line 2\u001b[0m\n\u001b[1;32m      1\u001b[0m A \u001b[39m=\u001b[39m [\u001b[39m1\u001b[39m,\u001b[39m2\u001b[39m,\u001b[39m3\u001b[39m,\u001b[39m4\u001b[39m,\u001b[39m5\u001b[39m]\n\u001b[0;32m----> 2\u001b[0m A\u001b[39m.\u001b[39;49mfind(\u001b[39m1\u001b[39m)\n",
      "\u001b[0;31mAttributeError\u001b[0m: 'list' object has no attribute 'find'"
     ]
    }
   ],
   "source": [
    "A = [1,2,3,4,5]\n",
    "A.find(1)"
   ]
  },
  {
   "cell_type": "code",
   "execution_count": 272,
   "metadata": {},
   "outputs": [],
   "source": [
    "B = pd.DataFrame(A)"
   ]
  },
  {
   "cell_type": "code",
   "execution_count": 273,
   "metadata": {},
   "outputs": [
    {
     "data": {
      "text/plain": [
       "<bound method NDFrame._add_numeric_operations.<locals>.std of    0\n",
       "0  1\n",
       "1  2\n",
       "2  3\n",
       "3  4\n",
       "4  5>"
      ]
     },
     "execution_count": 273,
     "metadata": {},
     "output_type": "execute_result"
    }
   ],
   "source": [
    "B.std"
   ]
  },
  {
   "cell_type": "code",
   "execution_count": 274,
   "metadata": {},
   "outputs": [
    {
     "name": "stdout",
     "output_type": "stream",
     "text": [
      "Help on function std in module pandas.core.generic:\n",
      "\n",
      "std(self, axis=None, skipna=True, level=None, ddof=1, numeric_only=None, **kwargs)\n",
      "    Return sample standard deviation over requested axis.\n",
      "    \n",
      "    Normalized by N-1 by default. This can be changed using the ddof argument.\n",
      "    \n",
      "    Parameters\n",
      "    ----------\n",
      "    axis : {index (0), columns (1)}\n",
      "        For `Series` this parameter is unused and defaults to 0.\n",
      "    skipna : bool, default True\n",
      "        Exclude NA/null values. If an entire row/column is NA, the result\n",
      "        will be NA.\n",
      "    level : int or level name, default None\n",
      "        If the axis is a MultiIndex (hierarchical), count along a\n",
      "        particular level, collapsing into a Series.\n",
      "    \n",
      "        .. deprecated:: 1.3.0\n",
      "            The level keyword is deprecated. Use groupby instead.\n",
      "    ddof : int, default 1\n",
      "        Delta Degrees of Freedom. The divisor used in calculations is N - ddof,\n",
      "        where N represents the number of elements.\n",
      "    numeric_only : bool, default None\n",
      "        Include only float, int, boolean columns. If None, will attempt to use\n",
      "        everything, then use only numeric data. Not implemented for Series.\n",
      "    \n",
      "        .. deprecated:: 1.5.0\n",
      "            Specifying ``numeric_only=None`` is deprecated. The default value will be\n",
      "            ``False`` in a future version of pandas.\n",
      "    \n",
      "    Returns\n",
      "    -------\n",
      "    Series or DataFrame (if level specified) \n",
      "    \n",
      "    Notes\n",
      "    -----\n",
      "    To have the same behaviour as `numpy.std`, use `ddof=0` (instead of the\n",
      "    default `ddof=1`)\n",
      "    \n",
      "    Examples\n",
      "    --------\n",
      "    >>> df = pd.DataFrame({'person_id': [0, 1, 2, 3],\n",
      "    ...                   'age': [21, 25, 62, 43],\n",
      "    ...                   'height': [1.61, 1.87, 1.49, 2.01]}\n",
      "    ...                  ).set_index('person_id')\n",
      "    >>> df\n",
      "               age  height\n",
      "    person_id\n",
      "    0           21    1.61\n",
      "    1           25    1.87\n",
      "    2           62    1.49\n",
      "    3           43    2.01\n",
      "    \n",
      "    The standard deviation of the columns can be found as follows:\n",
      "    \n",
      "    >>> df.std()\n",
      "    age       18.786076\n",
      "    height     0.237417\n",
      "    \n",
      "    Alternatively, `ddof=0` can be set to normalize by N instead of N-1:\n",
      "    \n",
      "    >>> df.std(ddof=0)\n",
      "    age       16.269219\n",
      "    height     0.205609\n",
      "\n"
     ]
    }
   ],
   "source": [
    "help(pd.DataFrame.std)"
   ]
  },
  {
   "cell_type": "code",
   "execution_count": 280,
   "metadata": {},
   "outputs": [
    {
     "ename": "AttributeError",
     "evalue": "'list' object has no attribute 'replace'",
     "output_type": "error",
     "traceback": [
      "\u001b[0;31m---------------------------------------------------------------------------\u001b[0m",
      "\u001b[0;31mAttributeError\u001b[0m                            Traceback (most recent call last)",
      "Cell \u001b[0;32mIn[280], line 2\u001b[0m\n\u001b[1;32m      1\u001b[0m a \u001b[39m=\u001b[39m [\u001b[39m'\u001b[39m\u001b[39m'\u001b[39m, \u001b[39m1\u001b[39m, \u001b[39m2\u001b[39m, \u001b[39m3\u001b[39m, \u001b[39m4\u001b[39m]\n\u001b[0;32m----> 2\u001b[0m a\u001b[39m.\u001b[39;49mreplace(\u001b[39m'\u001b[39m\u001b[39m'\u001b[39m, \u001b[39m00\u001b[39m)\n",
      "\u001b[0;31mAttributeError\u001b[0m: 'list' object has no attribute 'replace'"
     ]
    }
   ],
   "source": [
    "a = ['', 1, 2, 3, 4]\n",
    "a.replace()"
   ]
  },
  {
   "cell_type": "code",
   "execution_count": 281,
   "metadata": {},
   "outputs": [
    {
     "name": "stdout",
     "output_type": "stream",
     "text": [
      "True\n"
     ]
    }
   ],
   "source": [
    "a = [1,2,3]\n",
    "b = [1,2,3]\n",
    "\n",
    "if a == b :\n",
    "    print('True')"
   ]
  },
  {
   "cell_type": "code",
   "execution_count": 282,
   "metadata": {},
   "outputs": [
    {
     "name": "stdout",
     "output_type": "stream",
     "text": [
      "-1\n",
      "1\n",
      "1\n",
      "3\n",
      "3\n",
      "5\n",
      "5\n",
      "7\n",
      "7\n",
      "9\n"
     ]
    }
   ],
   "source": [
    "for i in range(10):\n",
    "    if i % 2 ==0:\n",
    "        i -= 1\n",
    "    print(i)"
   ]
  },
  {
   "cell_type": "code",
   "execution_count": 283,
   "metadata": {},
   "outputs": [
    {
     "data": {
      "text/plain": [
       "[1, 2, 3]"
      ]
     },
     "execution_count": 283,
     "metadata": {},
     "output_type": "execute_result"
    }
   ],
   "source": [
    "a"
   ]
  },
  {
   "cell_type": "code",
   "execution_count": 284,
   "metadata": {},
   "outputs": [
    {
     "data": {
      "text/plain": [
       "3"
      ]
     },
     "execution_count": 284,
     "metadata": {},
     "output_type": "execute_result"
    }
   ],
   "source": [
    "a.pop()"
   ]
  },
  {
   "cell_type": "code",
   "execution_count": 285,
   "metadata": {},
   "outputs": [
    {
     "data": {
      "text/plain": [
       "[1, 2]"
      ]
     },
     "execution_count": 285,
     "metadata": {},
     "output_type": "execute_result"
    }
   ],
   "source": [
    "a"
   ]
  },
  {
   "cell_type": "code",
   "execution_count": 287,
   "metadata": {},
   "outputs": [],
   "source": [
    "a = [1,2,3,4,5]\n",
    "r = [1,3]\n",
    "a[1:3] = [7,8]"
   ]
  },
  {
   "cell_type": "code",
   "execution_count": 288,
   "metadata": {},
   "outputs": [
    {
     "data": {
      "text/plain": [
       "[1, 7, 8, 4, 5]"
      ]
     },
     "execution_count": 288,
     "metadata": {},
     "output_type": "execute_result"
    }
   ],
   "source": [
    "a"
   ]
  },
  {
   "cell_type": "code",
   "execution_count": 289,
   "metadata": {},
   "outputs": [
    {
     "data": {
      "text/plain": [
       "[1, 7, 8, 4, 5]"
      ]
     },
     "execution_count": 289,
     "metadata": {},
     "output_type": "execute_result"
    }
   ],
   "source": [
    "a"
   ]
  },
  {
   "cell_type": "code",
   "execution_count": 290,
   "metadata": {},
   "outputs": [
    {
     "data": {
      "text/plain": [
       "[1, 7, 8]"
      ]
     },
     "execution_count": 290,
     "metadata": {},
     "output_type": "execute_result"
    }
   ],
   "source": [
    "a[:3]"
   ]
  },
  {
   "cell_type": "code",
   "execution_count": 291,
   "metadata": {},
   "outputs": [
    {
     "data": {
      "text/plain": [
       "[4, 5]"
      ]
     },
     "execution_count": 291,
     "metadata": {},
     "output_type": "execute_result"
    }
   ],
   "source": [
    "a[3:]"
   ]
  },
  {
   "cell_type": "code",
   "execution_count": 294,
   "metadata": {},
   "outputs": [
    {
     "name": "stdout",
     "output_type": "stream",
     "text": [
      "Help on function get_dummies in module pandas.core.reshape.encoding:\n",
      "\n",
      "get_dummies(data, prefix=None, prefix_sep='_', dummy_na: 'bool' = False, columns=None, sparse: 'bool' = False, drop_first: 'bool' = False, dtype: 'Dtype | None' = None) -> 'DataFrame'\n",
      "    Convert categorical variable into dummy/indicator variables.\n",
      "    \n",
      "    Parameters\n",
      "    ----------\n",
      "    data : array-like, Series, or DataFrame\n",
      "        Data of which to get dummy indicators.\n",
      "    prefix : str, list of str, or dict of str, default None\n",
      "        String to append DataFrame column names.\n",
      "        Pass a list with length equal to the number of columns\n",
      "        when calling get_dummies on a DataFrame. Alternatively, `prefix`\n",
      "        can be a dictionary mapping column names to prefixes.\n",
      "    prefix_sep : str, default '_'\n",
      "        If appending prefix, separator/delimiter to use. Or pass a\n",
      "        list or dictionary as with `prefix`.\n",
      "    dummy_na : bool, default False\n",
      "        Add a column to indicate NaNs, if False NaNs are ignored.\n",
      "    columns : list-like, default None\n",
      "        Column names in the DataFrame to be encoded.\n",
      "        If `columns` is None then all the columns with\n",
      "        `object`, `string`, or `category` dtype will be converted.\n",
      "    sparse : bool, default False\n",
      "        Whether the dummy-encoded columns should be backed by\n",
      "        a :class:`SparseArray` (True) or a regular NumPy array (False).\n",
      "    drop_first : bool, default False\n",
      "        Whether to get k-1 dummies out of k categorical levels by removing the\n",
      "        first level.\n",
      "    dtype : dtype, default np.uint8\n",
      "        Data type for new columns. Only a single dtype is allowed.\n",
      "    \n",
      "    Returns\n",
      "    -------\n",
      "    DataFrame\n",
      "        Dummy-coded data.\n",
      "    \n",
      "    See Also\n",
      "    --------\n",
      "    Series.str.get_dummies : Convert Series to dummy codes.\n",
      "    :func:`~pandas.from_dummies` : Convert dummy codes to categorical ``DataFrame``.\n",
      "    \n",
      "    Notes\n",
      "    -----\n",
      "    Reference :ref:`the user guide <reshaping.dummies>` for more examples.\n",
      "    \n",
      "    Examples\n",
      "    --------\n",
      "    >>> s = pd.Series(list('abca'))\n",
      "    \n",
      "    >>> pd.get_dummies(s)\n",
      "       a  b  c\n",
      "    0  1  0  0\n",
      "    1  0  1  0\n",
      "    2  0  0  1\n",
      "    3  1  0  0\n",
      "    \n",
      "    >>> s1 = ['a', 'b', np.nan]\n",
      "    \n",
      "    >>> pd.get_dummies(s1)\n",
      "       a  b\n",
      "    0  1  0\n",
      "    1  0  1\n",
      "    2  0  0\n",
      "    \n",
      "    >>> pd.get_dummies(s1, dummy_na=True)\n",
      "       a  b  NaN\n",
      "    0  1  0    0\n",
      "    1  0  1    0\n",
      "    2  0  0    1\n",
      "    \n",
      "    >>> df = pd.DataFrame({'A': ['a', 'b', 'a'], 'B': ['b', 'a', 'c'],\n",
      "    ...                    'C': [1, 2, 3]})\n",
      "    \n",
      "    >>> pd.get_dummies(df, prefix=['col1', 'col2'])\n",
      "       C  col1_a  col1_b  col2_a  col2_b  col2_c\n",
      "    0  1       1       0       0       1       0\n",
      "    1  2       0       1       1       0       0\n",
      "    2  3       1       0       0       0       1\n",
      "    \n",
      "    >>> pd.get_dummies(pd.Series(list('abcaa')))\n",
      "       a  b  c\n",
      "    0  1  0  0\n",
      "    1  0  1  0\n",
      "    2  0  0  1\n",
      "    3  1  0  0\n",
      "    4  1  0  0\n",
      "    \n",
      "    >>> pd.get_dummies(pd.Series(list('abcaa')), drop_first=True)\n",
      "       b  c\n",
      "    0  0  0\n",
      "    1  1  0\n",
      "    2  0  1\n",
      "    3  0  0\n",
      "    4  0  0\n",
      "    \n",
      "    >>> pd.get_dummies(pd.Series(list('abc')), dtype=float)\n",
      "         a    b    c\n",
      "    0  1.0  0.0  0.0\n",
      "    1  0.0  1.0  0.0\n",
      "    2  0.0  0.0  1.0\n",
      "\n"
     ]
    }
   ],
   "source": [
    "import pandas as pd\n",
    "help(pd.get_dummies)"
   ]
  },
  {
   "cell_type": "code",
   "execution_count": 303,
   "metadata": {},
   "outputs": [
    {
     "name": "stdout",
     "output_type": "stream",
     "text": [
      "0\n"
     ]
    }
   ],
   "source": [
    "a=[]\n",
    "print(len(a))"
   ]
  },
  {
   "cell_type": "code",
   "execution_count": 305,
   "metadata": {},
   "outputs": [
    {
     "data": {
      "text/plain": [
       "5"
      ]
     },
     "execution_count": 305,
     "metadata": {},
     "output_type": "execute_result"
    }
   ],
   "source": [
    "a=[1,2,3,4,5]\n",
    "\n",
    "a[4]"
   ]
  },
  {
   "cell_type": "code",
   "execution_count": 307,
   "metadata": {},
   "outputs": [
    {
     "name": "stdout",
     "output_type": "stream",
     "text": [
      "숫자가 너무 작습니다.\n",
      "숫자가 너무 작습니다.\n",
      "숫자가 너무 작습니다.\n",
      "숫자가 너무 작습니다.\n",
      "숫자가 너무 큽니다.\n",
      "숫자가 너무 작습니다.\n",
      "숫자가 너무 큽니다.\n",
      "숫자가 너무 작습니다.\n",
      "숫자가 너무 작습니다.\n",
      "정답입니다! 10번 만에 맞췄습니다.\n"
     ]
    }
   ],
   "source": [
    "import random\n",
    "\n",
    "answer = random.randint(1, 100)\n",
    "count = 0\n",
    "\n",
    "while True:\n",
    "    count += 1\n",
    "    guess = int(input(\"숫자를 입력하세요: \"))\n",
    "\n",
    "    if guess == answer:\n",
    "        print(\"정답입니다! {}번 만에 맞췄습니다.\".format(count))\n",
    "        break\n",
    "    elif guess > answer:\n",
    "        print(\"숫자가 너무 큽니다.\")\n",
    "    else:\n",
    "        print(\"숫자가 너무 작습니다.\")\n"
   ]
  },
  {
   "cell_type": "code",
   "execution_count": 309,
   "metadata": {},
   "outputs": [
    {
     "name": "stdout",
     "output_type": "stream",
     "text": [
      "3\n",
      "4\n"
     ]
    }
   ],
   "source": [
    "a=[[1,2,3],[4,5,6],[7,8,9]]\n",
    "\n",
    "print(a[0][2])\n",
    "print(a[1][0])"
   ]
  },
  {
   "cell_type": "code",
   "execution_count": 312,
   "metadata": {},
   "outputs": [
    {
     "name": "stdout",
     "output_type": "stream",
     "text": [
      "0\n",
      "1\n",
      "2\n",
      "3\n",
      "4\n"
     ]
    }
   ],
   "source": [
    "for i in range(5):\n",
    "    print(i)"
   ]
  },
  {
   "cell_type": "code",
   "execution_count": 313,
   "metadata": {},
   "outputs": [],
   "source": [
    "a= \"x..x.x..x\""
   ]
  },
  {
   "cell_type": "code",
   "execution_count": 317,
   "metadata": {},
   "outputs": [
    {
     "name": "stdout",
     "output_type": "stream",
     "text": [
      "['x', '', 'x', 'x', '', 'x']\n"
     ]
    }
   ],
   "source": [
    "print(a.split('.'))"
   ]
  },
  {
   "cell_type": "code",
   "execution_count": 328,
   "metadata": {},
   "outputs": [
    {
     "ename": "AttributeError",
     "evalue": "'gTTS' object has no attribute 'get_audio_data'",
     "output_type": "error",
     "traceback": [
      "\u001b[0;31m---------------------------------------------------------------------------\u001b[0m",
      "\u001b[0;31mAttributeError\u001b[0m                            Traceback (most recent call last)",
      "Cell \u001b[0;32mIn[328], line 14\u001b[0m\n\u001b[1;32m     10\u001b[0m tts \u001b[39m=\u001b[39m gTTS(text\u001b[39m=\u001b[39mtxt, lang\u001b[39m=\u001b[39m\u001b[39m\"\u001b[39m\u001b[39mko\u001b[39m\u001b[39m\"\u001b[39m)\n\u001b[1;32m     12\u001b[0m \u001b[39m# 바로 음성으로 변환된 오디오 데이터를 불러옵니다.\u001b[39;00m\n\u001b[1;32m     13\u001b[0m \u001b[39m# 이 때, 인코딩 방식을 바이트로 설정하여 오디오 파일의 언어 인식 문제를 해결합니다.\u001b[39;00m\n\u001b[0;32m---> 14\u001b[0m audio_data \u001b[39m=\u001b[39m tts\u001b[39m.\u001b[39;49mget_audio_data()\n\u001b[1;32m     16\u001b[0m \u001b[39m# 불러온 오디오 데이터를 바로 재생합니다.\u001b[39;00m\n\u001b[1;32m     17\u001b[0m \u001b[39m# 인코딩 방식을 바이너리(binary)로 설정합니다.\u001b[39;00m\n\u001b[1;32m     18\u001b[0m \u001b[39mwith\u001b[39;00m \u001b[39mopen\u001b[39m(\u001b[39m'\u001b[39m\u001b[39moutput.mp3\u001b[39m\u001b[39m'\u001b[39m,\u001b[39m'\u001b[39m\u001b[39mwb\u001b[39m\u001b[39m'\u001b[39m) \u001b[39mas\u001b[39;00m f:\n",
      "\u001b[0;31mAttributeError\u001b[0m: 'gTTS' object has no attribute 'get_audio_data'"
     ]
    }
   ],
   "source": [
    "from gtts import gTTS\n",
    "from playsound import playsound\n",
    "import os\n",
    "\n",
    "# 한글 텍스트를 입력받습니다.\n",
    "# txt = input(\"한글 텍스트를 입력하세요: \")\n",
    "txt = \"한글 텍스트를 입력하세요: \"\n",
    "\n",
    "# 한글 텍스트를 구글 TTS 엔진을 사용해서 음성으로 변환하고, MP3 파일이 아닌 메모리에 저장합니다.\n",
    "tts = gTTS(text=txt, lang=\"ko\")\n",
    "\n",
    "# 바로 음성으로 변환된 오디오 데이터를 불러옵니다.\n",
    "# 이 때, 인코딩 방식을 바이트로 설정하여 오디오 파일의 언어 인식 문제를 해결합니다.\n",
    "audio_data = tts.get_audio_data()\n",
    "\n",
    "# 불러온 오디오 데이터를 바로 재생합니다.\n",
    "# 인코딩 방식을 바이너리(binary)로 설정합니다.\n",
    "with open('output.mp3','wb') as f:\n",
    "    f.write(audio_data)\n",
    "playsound('output.mp3')\n",
    "os.remove('output.mp3')\n",
    "# 오디오 재생이 종료될 때까지 윈도우 창이 유지됩니다.\n"
   ]
  },
  {
   "cell_type": "code",
   "execution_count": 329,
   "metadata": {},
   "outputs": [
    {
     "ename": "AttributeError",
     "evalue": "'gTTS' object has no attribute 'get_audio_data'",
     "output_type": "error",
     "traceback": [
      "\u001b[0;31m---------------------------------------------------------------------------\u001b[0m",
      "\u001b[0;31mAttributeError\u001b[0m                            Traceback (most recent call last)",
      "Cell \u001b[0;32mIn[329], line 14\u001b[0m\n\u001b[1;32m     10\u001b[0m tts \u001b[39m=\u001b[39m gTTS(text\u001b[39m=\u001b[39mtxt, lang\u001b[39m=\u001b[39m\u001b[39m\"\u001b[39m\u001b[39mko\u001b[39m\u001b[39m\"\u001b[39m)\n\u001b[1;32m     12\u001b[0m \u001b[39m# 바로 음성으로 변환된 오디오 데이터를 불러옵니다.\u001b[39;00m\n\u001b[1;32m     13\u001b[0m \u001b[39m# 이 때, 인코딩 방식을 바이트로 설정하여 오디오 파일의 언어 인식 문제를 해결합니다.\u001b[39;00m\n\u001b[0;32m---> 14\u001b[0m audio_data \u001b[39m=\u001b[39m tts\u001b[39m.\u001b[39;49mget_audio_data()\n\u001b[1;32m     16\u001b[0m \u001b[39m# 불러온 오디오 데이터를 바로 재생합니다.\u001b[39;00m\n\u001b[1;32m     17\u001b[0m \u001b[39m# 인코딩 방식을 바이너리(binary)로 설정합니다.\u001b[39;00m\n\u001b[1;32m     18\u001b[0m \u001b[39mwith\u001b[39;00m \u001b[39mopen\u001b[39m(\u001b[39m'\u001b[39m\u001b[39moutput.mp3\u001b[39m\u001b[39m'\u001b[39m,\u001b[39m'\u001b[39m\u001b[39mwb\u001b[39m\u001b[39m'\u001b[39m) \u001b[39mas\u001b[39;00m f:\n",
      "\u001b[0;31mAttributeError\u001b[0m: 'gTTS' object has no attribute 'get_audio_data'"
     ]
    }
   ],
   "source": [
    "from gtts import gTTS\n",
    "from playsound import playsound\n",
    "import os\n",
    "\n",
    "# 한글 텍스트를 입력받습니다.\n",
    "# txt = input(\"한글 텍스트를 입력하세요: \")\n",
    "txt = \"한글 텍스트를 입력하세요\"\n",
    "\n",
    "# 한글 텍스트를 구글 TTS 엔진을 사용해서 음성으로 변환하고, MP3 파일이 아닌 메모리에 저장합니다.\n",
    "tts = gTTS(text=txt, lang=\"ko\")\n",
    "\n",
    "# 바로 음성으로 변환된 오디오 데이터를 불러옵니다.\n",
    "# 이 때, 인코딩 방식을 바이트로 설정하여 오디오 파일의 언어 인식 문제를 해결합니다.\n",
    "audio_data = tts.get_audio_data()\n",
    "\n",
    "# 불러온 오디오 데이터를 바로 재생합니다.\n",
    "# 인코딩 방식을 바이너리(binary)로 설정합니다.\n",
    "with open('output.mp3','wb') as f:\n",
    "    f.write(audio_data)\n",
    "playsound('output.mp3')\n",
    "os.remove('output.mp3')\n",
    "# 오디오 재생이 종료될 때까지 윈도우 창이 유지됩니다.\n"
   ]
  },
  {
   "cell_type": "code",
   "execution_count": 340,
   "metadata": {},
   "outputs": [
    {
     "name": "stderr",
     "output_type": "stream",
     "text": [
      "/Users/macbook/opt/anaconda3/lib/python3.8/site-packages/pydub/utils.py:198: RuntimeWarning: Couldn't find ffprobe or avprobe - defaulting to ffprobe, but may not work\n",
      "  warn(\"Couldn't find ffprobe or avprobe - defaulting to ffprobe, but may not work\", RuntimeWarning)\n"
     ]
    },
    {
     "ename": "FileNotFoundError",
     "evalue": "[Errno 2] No such file or directory: 'ffprobe'",
     "output_type": "error",
     "traceback": [
      "\u001b[0;31m---------------------------------------------------------------------------\u001b[0m",
      "\u001b[0;31mFileNotFoundError\u001b[0m                         Traceback (most recent call last)",
      "Cell \u001b[0;32mIn[340], line 18\u001b[0m\n\u001b[1;32m     15\u001b[0m tts\u001b[39m.\u001b[39mwrite_to_fp(audio_data)\n\u001b[1;32m     17\u001b[0m \u001b[39m# 오디오 데이터를 pydub 의 AudioSegment 객체로 변환합니다.\u001b[39;00m\n\u001b[0;32m---> 18\u001b[0m audio_segment \u001b[39m=\u001b[39m AudioSegment\u001b[39m.\u001b[39;49mfrom_file(io\u001b[39m.\u001b[39;49mBytesIO(audio_data\u001b[39m.\u001b[39;49mgetvalue()), \u001b[39mformat\u001b[39;49m\u001b[39m=\u001b[39;49m\u001b[39m\"\u001b[39;49m\u001b[39mmp3\u001b[39;49m\u001b[39m\"\u001b[39;49m)\n\u001b[1;32m     20\u001b[0m \u001b[39m# 재생합니다.\u001b[39;00m\n\u001b[1;32m     21\u001b[0m play(audio_segment)\n",
      "File \u001b[0;32m~/opt/anaconda3/lib/python3.8/site-packages/pydub/audio_segment.py:728\u001b[0m, in \u001b[0;36mAudioSegment.from_file\u001b[0;34m(cls, file, format, codec, parameters, start_second, duration, **kwargs)\u001b[0m\n\u001b[1;32m    726\u001b[0m     info \u001b[39m=\u001b[39m \u001b[39mNone\u001b[39;00m\n\u001b[1;32m    727\u001b[0m \u001b[39melse\u001b[39;00m:\n\u001b[0;32m--> 728\u001b[0m     info \u001b[39m=\u001b[39m mediainfo_json(orig_file, read_ahead_limit\u001b[39m=\u001b[39;49mread_ahead_limit)\n\u001b[1;32m    729\u001b[0m \u001b[39mif\u001b[39;00m info:\n\u001b[1;32m    730\u001b[0m     audio_streams \u001b[39m=\u001b[39m [x \u001b[39mfor\u001b[39;00m x \u001b[39min\u001b[39;00m info[\u001b[39m'\u001b[39m\u001b[39mstreams\u001b[39m\u001b[39m'\u001b[39m]\n\u001b[1;32m    731\u001b[0m                      \u001b[39mif\u001b[39;00m x[\u001b[39m'\u001b[39m\u001b[39mcodec_type\u001b[39m\u001b[39m'\u001b[39m] \u001b[39m==\u001b[39m \u001b[39m'\u001b[39m\u001b[39maudio\u001b[39m\u001b[39m'\u001b[39m]\n",
      "File \u001b[0;32m~/opt/anaconda3/lib/python3.8/site-packages/pydub/utils.py:274\u001b[0m, in \u001b[0;36mmediainfo_json\u001b[0;34m(filepath, read_ahead_limit)\u001b[0m\n\u001b[1;32m    271\u001b[0m         file\u001b[39m.\u001b[39mclose()\n\u001b[1;32m    273\u001b[0m command \u001b[39m=\u001b[39m [prober, \u001b[39m'\u001b[39m\u001b[39m-of\u001b[39m\u001b[39m'\u001b[39m, \u001b[39m'\u001b[39m\u001b[39mjson\u001b[39m\u001b[39m'\u001b[39m] \u001b[39m+\u001b[39m command_args\n\u001b[0;32m--> 274\u001b[0m res \u001b[39m=\u001b[39m Popen(command, stdin\u001b[39m=\u001b[39;49mstdin_parameter, stdout\u001b[39m=\u001b[39;49mPIPE, stderr\u001b[39m=\u001b[39;49mPIPE)\n\u001b[1;32m    275\u001b[0m output, stderr \u001b[39m=\u001b[39m res\u001b[39m.\u001b[39mcommunicate(\u001b[39minput\u001b[39m\u001b[39m=\u001b[39mstdin_data)\n\u001b[1;32m    276\u001b[0m output \u001b[39m=\u001b[39m output\u001b[39m.\u001b[39mdecode(\u001b[39m\"\u001b[39m\u001b[39mutf-8\u001b[39m\u001b[39m\"\u001b[39m, \u001b[39m'\u001b[39m\u001b[39mignore\u001b[39m\u001b[39m'\u001b[39m)\n",
      "File \u001b[0;32m~/opt/anaconda3/lib/python3.8/subprocess.py:858\u001b[0m, in \u001b[0;36mPopen.__init__\u001b[0;34m(self, args, bufsize, executable, stdin, stdout, stderr, preexec_fn, close_fds, shell, cwd, env, universal_newlines, startupinfo, creationflags, restore_signals, start_new_session, pass_fds, encoding, errors, text)\u001b[0m\n\u001b[1;32m    854\u001b[0m         \u001b[39mif\u001b[39;00m \u001b[39mself\u001b[39m\u001b[39m.\u001b[39mtext_mode:\n\u001b[1;32m    855\u001b[0m             \u001b[39mself\u001b[39m\u001b[39m.\u001b[39mstderr \u001b[39m=\u001b[39m io\u001b[39m.\u001b[39mTextIOWrapper(\u001b[39mself\u001b[39m\u001b[39m.\u001b[39mstderr,\n\u001b[1;32m    856\u001b[0m                     encoding\u001b[39m=\u001b[39mencoding, errors\u001b[39m=\u001b[39merrors)\n\u001b[0;32m--> 858\u001b[0m     \u001b[39mself\u001b[39;49m\u001b[39m.\u001b[39;49m_execute_child(args, executable, preexec_fn, close_fds,\n\u001b[1;32m    859\u001b[0m                         pass_fds, cwd, env,\n\u001b[1;32m    860\u001b[0m                         startupinfo, creationflags, shell,\n\u001b[1;32m    861\u001b[0m                         p2cread, p2cwrite,\n\u001b[1;32m    862\u001b[0m                         c2pread, c2pwrite,\n\u001b[1;32m    863\u001b[0m                         errread, errwrite,\n\u001b[1;32m    864\u001b[0m                         restore_signals, start_new_session)\n\u001b[1;32m    865\u001b[0m \u001b[39mexcept\u001b[39;00m:\n\u001b[1;32m    866\u001b[0m     \u001b[39m# Cleanup if the child failed starting.\u001b[39;00m\n\u001b[1;32m    867\u001b[0m     \u001b[39mfor\u001b[39;00m f \u001b[39min\u001b[39;00m \u001b[39mfilter\u001b[39m(\u001b[39mNone\u001b[39;00m, (\u001b[39mself\u001b[39m\u001b[39m.\u001b[39mstdin, \u001b[39mself\u001b[39m\u001b[39m.\u001b[39mstdout, \u001b[39mself\u001b[39m\u001b[39m.\u001b[39mstderr)):\n",
      "File \u001b[0;32m~/opt/anaconda3/lib/python3.8/subprocess.py:1704\u001b[0m, in \u001b[0;36mPopen._execute_child\u001b[0;34m(self, args, executable, preexec_fn, close_fds, pass_fds, cwd, env, startupinfo, creationflags, shell, p2cread, p2cwrite, c2pread, c2pwrite, errread, errwrite, restore_signals, start_new_session)\u001b[0m\n\u001b[1;32m   1702\u001b[0m     \u001b[39mif\u001b[39;00m errno_num \u001b[39m!=\u001b[39m \u001b[39m0\u001b[39m:\n\u001b[1;32m   1703\u001b[0m         err_msg \u001b[39m=\u001b[39m os\u001b[39m.\u001b[39mstrerror(errno_num)\n\u001b[0;32m-> 1704\u001b[0m     \u001b[39mraise\u001b[39;00m child_exception_type(errno_num, err_msg, err_filename)\n\u001b[1;32m   1705\u001b[0m \u001b[39mraise\u001b[39;00m child_exception_type(err_msg)\n",
      "\u001b[0;31mFileNotFoundError\u001b[0m: [Errno 2] No such file or directory: 'ffprobe'"
     ]
    }
   ],
   "source": [
    "import io\n",
    "from gtts import gTTS\n",
    "from pydub import AudioSegment\n",
    "from pydub.playback import play\n",
    "\n",
    "# 한글 텍스트를 입력받습니다.\n",
    "# txt = input(\"한글 텍스트를 입력하세요: \")\n",
    "txt = \"한글 텍스트를 입력하세요\"\n",
    "\n",
    "# 한글 텍스트를 구글 TTS 엔진을 사용해서 음성으로 변환합니다.\n",
    "tts = gTTS(text=txt, lang=\"ko\")\n",
    "\n",
    "# 바로 음성으로 변환된 오디오 데이터를 가져옵니다.\n",
    "audio_data = io.BytesIO()\n",
    "tts.write_to_fp(audio_data)\n",
    "\n",
    "# 오디오 데이터를 pydub 의 AudioSegment 객체로 변환합니다.\n",
    "audio_segment = AudioSegment.from_file(io.BytesIO(audio_data.getvalue()), format=\"mp3\")\n",
    "\n",
    "# 재생합니다.\n",
    "play(audio_segment)\n",
    "\n",
    "\n"
   ]
  },
  {
   "cell_type": "code",
   "execution_count": 345,
   "metadata": {},
   "outputs": [
    {
     "ename": "AttributeError",
     "evalue": "'super' object has no attribute 'init'",
     "output_type": "error",
     "traceback": [
      "\u001b[0;31m---------------------------------------------------------------------------\u001b[0m",
      "\u001b[0;31mKeyError\u001b[0m                                  Traceback (most recent call last)",
      "File \u001b[0;32m~/opt/anaconda3/lib/python3.8/site-packages/pyttsx3/__init__.py:20\u001b[0m, in \u001b[0;36minit\u001b[0;34m(driverName, debug)\u001b[0m\n\u001b[1;32m     19\u001b[0m \u001b[39mtry\u001b[39;00m:\n\u001b[0;32m---> 20\u001b[0m     eng \u001b[39m=\u001b[39m _activeEngines[driverName]\n\u001b[1;32m     21\u001b[0m \u001b[39mexcept\u001b[39;00m \u001b[39mKeyError\u001b[39;00m:\n",
      "File \u001b[0;32m~/opt/anaconda3/lib/python3.8/weakref.py:131\u001b[0m, in \u001b[0;36mWeakValueDictionary.__getitem__\u001b[0;34m(self, key)\u001b[0m\n\u001b[1;32m    130\u001b[0m     \u001b[39mself\u001b[39m\u001b[39m.\u001b[39m_commit_removals()\n\u001b[0;32m--> 131\u001b[0m o \u001b[39m=\u001b[39m \u001b[39mself\u001b[39;49m\u001b[39m.\u001b[39;49mdata[key]()\n\u001b[1;32m    132\u001b[0m \u001b[39mif\u001b[39;00m o \u001b[39mis\u001b[39;00m \u001b[39mNone\u001b[39;00m:\n",
      "\u001b[0;31mKeyError\u001b[0m: None",
      "\nDuring handling of the above exception, another exception occurred:\n",
      "\u001b[0;31mAttributeError\u001b[0m                            Traceback (most recent call last)",
      "Cell \u001b[0;32mIn[345], line 2\u001b[0m\n\u001b[1;32m      1\u001b[0m \u001b[39mimport\u001b[39;00m \u001b[39mpyttsx3\u001b[39;00m\n\u001b[0;32m----> 2\u001b[0m engine \u001b[39m=\u001b[39m pyttsx3\u001b[39m.\u001b[39;49minit()\n\u001b[1;32m      3\u001b[0m engine\u001b[39m.\u001b[39msetProperty(\u001b[39m'\u001b[39m\u001b[39mrate\u001b[39m\u001b[39m'\u001b[39m,\u001b[39m150\u001b[39m)\n\u001b[1;32m      5\u001b[0m \u001b[39mdef\u001b[39;00m \u001b[39mspeak\u001b[39m(text):\n",
      "File \u001b[0;32m~/opt/anaconda3/lib/python3.8/site-packages/pyttsx3/__init__.py:22\u001b[0m, in \u001b[0;36minit\u001b[0;34m(driverName, debug)\u001b[0m\n\u001b[1;32m     20\u001b[0m     eng \u001b[39m=\u001b[39m _activeEngines[driverName]\n\u001b[1;32m     21\u001b[0m \u001b[39mexcept\u001b[39;00m \u001b[39mKeyError\u001b[39;00m:\n\u001b[0;32m---> 22\u001b[0m     eng \u001b[39m=\u001b[39m Engine(driverName, debug)\n\u001b[1;32m     23\u001b[0m     _activeEngines[driverName] \u001b[39m=\u001b[39m eng\n\u001b[1;32m     24\u001b[0m \u001b[39mreturn\u001b[39;00m eng\n",
      "File \u001b[0;32m~/opt/anaconda3/lib/python3.8/site-packages/pyttsx3/engine.py:30\u001b[0m, in \u001b[0;36mEngine.__init__\u001b[0;34m(self, driverName, debug)\u001b[0m\n\u001b[1;32m     20\u001b[0m \u001b[39mdef\u001b[39;00m \u001b[39m__init__\u001b[39m(\u001b[39mself\u001b[39m, driverName\u001b[39m=\u001b[39m\u001b[39mNone\u001b[39;00m, debug\u001b[39m=\u001b[39m\u001b[39mFalse\u001b[39;00m):\n\u001b[1;32m     21\u001b[0m \u001b[39m    \u001b[39m\u001b[39m\"\"\"\u001b[39;00m\n\u001b[1;32m     22\u001b[0m \u001b[39m    Constructs a new TTS engine instance.\u001b[39;00m\n\u001b[1;32m     23\u001b[0m \n\u001b[0;32m   (...)\u001b[0m\n\u001b[1;32m     28\u001b[0m \u001b[39m    @type debug: bool\u001b[39;00m\n\u001b[1;32m     29\u001b[0m \u001b[39m    \"\"\"\u001b[39;00m\n\u001b[0;32m---> 30\u001b[0m     \u001b[39mself\u001b[39m\u001b[39m.\u001b[39mproxy \u001b[39m=\u001b[39m driver\u001b[39m.\u001b[39;49mDriverProxy(weakref\u001b[39m.\u001b[39;49mproxy(\u001b[39mself\u001b[39;49m), driverName, debug)\n\u001b[1;32m     31\u001b[0m     \u001b[39m# initialize other vars\u001b[39;00m\n\u001b[1;32m     32\u001b[0m     \u001b[39mself\u001b[39m\u001b[39m.\u001b[39m_connects \u001b[39m=\u001b[39m {}\n",
      "File \u001b[0;32m~/opt/anaconda3/lib/python3.8/site-packages/pyttsx3/driver.py:52\u001b[0m, in \u001b[0;36mDriverProxy.__init__\u001b[0;34m(self, engine, driverName, debug)\u001b[0m\n\u001b[1;32m     50\u001b[0m \u001b[39mself\u001b[39m\u001b[39m.\u001b[39m_module \u001b[39m=\u001b[39m importlib\u001b[39m.\u001b[39mimport_module(name)\n\u001b[1;32m     51\u001b[0m \u001b[39m# build driver instance\u001b[39;00m\n\u001b[0;32m---> 52\u001b[0m \u001b[39mself\u001b[39m\u001b[39m.\u001b[39m_driver \u001b[39m=\u001b[39m \u001b[39mself\u001b[39;49m\u001b[39m.\u001b[39;49m_module\u001b[39m.\u001b[39;49mbuildDriver(weakref\u001b[39m.\u001b[39;49mproxy(\u001b[39mself\u001b[39;49m))\n\u001b[1;32m     53\u001b[0m \u001b[39m# initialize refs\u001b[39;00m\n\u001b[1;32m     54\u001b[0m \u001b[39mself\u001b[39m\u001b[39m.\u001b[39m_engine \u001b[39m=\u001b[39m engine\n",
      "File \u001b[0;32m~/opt/anaconda3/lib/python3.8/site-packages/pyttsx3/drivers/nsss.py:9\u001b[0m, in \u001b[0;36mbuildDriver\u001b[0;34m(proxy)\u001b[0m\n\u001b[1;32m      8\u001b[0m \u001b[39mdef\u001b[39;00m \u001b[39mbuildDriver\u001b[39m(proxy):\n\u001b[0;32m----> 9\u001b[0m     \u001b[39mreturn\u001b[39;00m NSSpeechDriver\u001b[39m.\u001b[39;49malloc()\u001b[39m.\u001b[39;49minitWithProxy(proxy)\n",
      "File \u001b[0;32m~/opt/anaconda3/lib/python3.8/site-packages/pyttsx3/drivers/nsss.py:15\u001b[0m, in \u001b[0;36mNSSpeechDriver.initWithProxy\u001b[0;34m(self, proxy)\u001b[0m\n\u001b[1;32m     13\u001b[0m \u001b[39m@objc\u001b[39m\u001b[39m.\u001b[39mpython_method\n\u001b[1;32m     14\u001b[0m \u001b[39mdef\u001b[39;00m \u001b[39minitWithProxy\u001b[39m(\u001b[39mself\u001b[39m, proxy):\n\u001b[0;32m---> 15\u001b[0m     \u001b[39mself\u001b[39m \u001b[39m=\u001b[39m \u001b[39msuper\u001b[39;49m(NSSpeechDriver, \u001b[39mself\u001b[39;49m)\u001b[39m.\u001b[39;49minit()\n\u001b[1;32m     16\u001b[0m     \u001b[39mif\u001b[39;00m \u001b[39mself\u001b[39m:\n\u001b[1;32m     17\u001b[0m         \u001b[39mself\u001b[39m\u001b[39m.\u001b[39m_proxy \u001b[39m=\u001b[39m proxy\n",
      "\u001b[0;31mAttributeError\u001b[0m: 'super' object has no attribute 'init'"
     ]
    }
   ],
   "source": [
    "import pyttsx3\n",
    "engine = pyttsx3.init()\n",
    "engine.setProperty('rate',150)\n",
    "\n",
    "def speak(text):\n",
    "    engine.say(text)\n",
    "    engine.runAndWait()\n",
    "    \n",
    "text = \"데이터를 입력 해 주세요. \"\n",
    "speak(text)"
   ]
  },
  {
   "cell_type": "code",
   "execution_count": 349,
   "metadata": {},
   "outputs": [],
   "source": [
    "import qrcode\n",
    "from PIL import Image\n",
    "\n",
    "# QR 코드를 생성할 데이터를 입력합니다.\n",
    "data = \"phone : 010-3245-1234 baw\"\n",
    "\n",
    "# QR 코드를 생성합니다.\n",
    "qr = qrcode.QRCode(version=1, box_size=10, border=5)\n",
    "qr.add_data(data)\n",
    "qr.make(fit=True)\n",
    "\n",
    "img = qr.make_image(fill_color=\"black\", back_color=\"white\")\n",
    "\n",
    "# QR 코드를 이미지 파일로 저장합니다.\n",
    "# img.save(\"qrcode.png\")\n",
    "\n",
    "# QR 코드를 출력합니다.\n",
    "img.show()\n"
   ]
  },
  {
   "cell_type": "code",
   "execution_count": 1,
   "metadata": {},
   "outputs": [],
   "source": [
    "import psutil\n",
    "import tkinter as tk\n",
    "from tkinter import ttk\n",
    "\n",
    "class App(tk.Tk):\n",
    "    def __init__(self):\n",
    "        super().__init__()\n",
    "        \n",
    "        # 창 초기화\n",
    "        self.title(\"CPU & RAM 사용량 모니터링\")\n",
    "        self.geometry(\"400x200\")\n",
    "        \n",
    "        # 라벨 초기화\n",
    "        self.cpu_label = ttk.Label(self, text=\"CPU 사용량: %\", font=(\"TkDefaultFont\",20))\n",
    "        self.cpu_label.pack(pady=10)\n",
    "        self.ram_label = ttk.Label(self, text=\"RAM 사용량: %\", font=(\"TkDefaultFont\",20))\n",
    "        self.ram_label.pack(pady=10)\n",
    "\n",
    "        # 1초마다 사용량 정보 업데이트\n",
    "        self.update_state()\n",
    "        \n",
    "    def update_state(self):\n",
    "        # CPU, RAM 사용량 정보를 받아옴\n",
    "        cpu_percent = psutil.cpu_percent()\n",
    "        ram_percent = psutil.virtual_memory().percent\n",
    "\n",
    "        # 라벨에 사용량 정보 반영\n",
    "        self.cpu_label.configure(text=f\"CPU 사용량: {cpu_percent}%\")\n",
    "        self.ram_label.configure(text=f\"RAM 사용량: {ram_percent}%\")\n",
    "\n",
    "        # 1초 후에도 사용량 정보 업데이트\n",
    "        self.after(1000, self.update_state)\n",
    "\n",
    "if __name__ == \"__main__\":\n",
    "    app = App()\n",
    "    app.mainloop()\n"
   ]
  },
  {
   "cell_type": "code",
   "execution_count": 1,
   "metadata": {},
   "outputs": [
    {
     "name": "stderr",
     "output_type": "stream",
     "text": [
      "Exception in Tkinter callback\n",
      "Traceback (most recent call last):\n",
      "  File \"/Users/macbook/anaconda3/lib/python3.10/tkinter/__init__.py\", line 1921, in __call__\n",
      "    return self.func(*args)\n",
      "  File \"/Users/macbook/anaconda3/lib/python3.10/tkinter/__init__.py\", line 3987, in __call__\n",
      "    self.__callback(self.__value, *args)\n",
      "  File \"/var/folders/yy/lm16dbfs7d9czs9lgwns9jvh0000gn/T/ipykernel_97089/17380535.py\", line 52, in update_unit\n",
      "    menu = self.selected_unit[\"menu\"]\n",
      "TypeError: 'StringVar' object is not subscriptable\n",
      "2023-05-23 18:36:44.312 python[97089:8710580] TSM AdjustCapsLockLEDForKeyTransitionHandling - _ISSetPhysicalKeyboardCapsLockLED Inhibit\n",
      "Exception in Tkinter callback\n",
      "Traceback (most recent call last):\n",
      "  File \"/Users/macbook/anaconda3/lib/python3.10/tkinter/__init__.py\", line 1921, in __call__\n",
      "    return self.func(*args)\n",
      "  File \"/Users/macbook/anaconda3/lib/python3.10/tkinter/__init__.py\", line 3987, in __call__\n",
      "    self.__callback(self.__value, *args)\n",
      "  File \"/var/folders/yy/lm16dbfs7d9czs9lgwns9jvh0000gn/T/ipykernel_97089/17380535.py\", line 52, in update_unit\n",
      "    menu = self.selected_unit[\"menu\"]\n",
      "TypeError: 'StringVar' object is not subscriptable\n",
      "Exception in Tkinter callback\n",
      "Traceback (most recent call last):\n",
      "  File \"/Users/macbook/anaconda3/lib/python3.10/tkinter/__init__.py\", line 1921, in __call__\n",
      "    return self.func(*args)\n",
      "  File \"/Users/macbook/anaconda3/lib/python3.10/tkinter/__init__.py\", line 3987, in __call__\n",
      "    self.__callback(self.__value, *args)\n",
      "  File \"/var/folders/yy/lm16dbfs7d9czs9lgwns9jvh0000gn/T/ipykernel_97089/17380535.py\", line 52, in update_unit\n",
      "    menu = self.selected_unit[\"menu\"]\n",
      "TypeError: 'StringVar' object is not subscriptable\n"
     ]
    },
    {
     "ename": "",
     "evalue": "",
     "output_type": "error",
     "traceback": [
      "\u001b[1;31mThe Kernel crashed while executing code in the the current cell or a previous cell. Please review the code in the cell(s) to identify a possible cause of the failure. Click <a href='https://aka.ms/vscodeJupyterKernelCrash'>here</a> for more info. View Jupyter <a href='command:jupyter.viewOutput'>log</a> for further details."
     ]
    }
   ],
   "source": [
    "import tkinter as tk\n",
    "\n",
    "\n",
    "class Converter:\n",
    "    def __init__(self, parent):\n",
    "        # 윈도우 생성\n",
    "        self.window = parent\n",
    "        self.window.title(\"단위 변환기\")\n",
    "        self.window.resizable(False, False)\n",
    "\n",
    "        # 각각 1m, 1km, 1ft, 1yd, 1mile의 값을 저장해 놓습니다.\n",
    "        self.conversion_table = {\"length\": {\"m\": 1.0, \"km\": 0.001, \"ft\": 3.2808, \"yd\": 1.0936, \"mile\": 0.000621371},\n",
    "                                 \"weight\": {\"kg\": 1.0, \"g\": 1000.0, \"lb\": 2.20462, \"oz\": 35.274},\n",
    "                                 \"temperature\": {\"C\": 1.0, \"F\": 33.8, \"K\": 274.15}}\n",
    "\n",
    "        # 각각 길이, 무게, 온도 종류를 저장합니다.\n",
    "        self.categories = list(self.conversion_table.keys())\n",
    "\n",
    "        # 선택한 카테고리와 단위를 저장합니다.\n",
    "        self.selected_category = tk.StringVar()\n",
    "        self.selected_unit = tk.StringVar()\n",
    "\n",
    "        # 기본값으로 \"length\"를 선택합니다.\n",
    "        self.selected_category.set(self.categories[0])\n",
    "\n",
    "        # 라벨 생성\n",
    "        tk.Label(self.window, text=\"변환할 단위의 종류를 선택하십시오.\").grid(row=0, column=0, columnspan=2, pady=10)\n",
    "\n",
    "        tk.Label(self.window, text=\"카테고리:\").grid(row=1, column=0)\n",
    "        tk.Label(self.window, text=\"단위:\").grid(row=2, column=0)\n",
    "\n",
    "        # 카테고리와 단위 선택 콤보박스 생성\n",
    "        tk.OptionMenu(self.window, self.selected_category, *self.categories, command=self.update_unit).grid(row=1, column=1)\n",
    "        tk.OptionMenu(self.window, self.selected_unit, \"\", command=self.convert).grid(row=2, column=1)\n",
    "\n",
    "        # 변환할 수 입력받는 엔트리 생성\n",
    "        tk.Label(self.window, text=\"변환할 수를 입력하십시오.\").grid(row=3, column=0, columnspan=2, pady=10)\n",
    "        self.input_entry = tk.Entry(self.window)\n",
    "        self.input_entry.grid(row=4, column=0, columnspan=2, padx=10)\n",
    "\n",
    "        # 결과값을 출력할 라벨 생성\n",
    "        tk.Label(self.window, text=\"결과:\").grid(row=5, column=0, pady=10)\n",
    "        self.result_label = tk.Label(self.window, text=\"\")\n",
    "        self.result_label.grid(row=5, column=1)\n",
    "\n",
    "    def update_unit(self, category):\n",
    "        # 선택한 카테고리에 해당하는 단위들을 갱신합니다.\n",
    "        units = list(self.conversion_table[category].keys())\n",
    "\n",
    "        # 기존 단위를 삭제하고 새로운 단위를 추가합니다.\n",
    "        self.selected_unit.set(\"\")\n",
    "        menu = self.selected_unit[\"menu\"]\n",
    "        menu.delete(0, \"end\")\n",
    "        for unit in units:\n",
    "            menu.add_command(label=unit, command=tk._setit(self.selected_unit, unit))\n",
    "\n",
    "    def convert(self, unit):\n",
    "        # 변환이 가능한 경우, 변환 결과를 계산하여 출력합니다.\n",
    "        try:\n",
    "            val = float(self.input_entry.get())\n",
    "            category = self.selected_category.get()\n",
    "            unit_from = self.selected_unit.get()\n",
    "            unit_to = \"C\" if category == \"temperature\" else [u for u in self.conversion_table[category].keys() if u != unit_from][0]\n",
    "            ratio = self.conversion_table[category][unit_from] / self.conversion_table[category][unit_to]\n",
    "            result = ratio * val\n",
    "            self.result_label[\"text\"] = \"{} {}는 {:.2f} {}입니다.\".format(val, unit_from, result, unit_to)\n",
    "        except:\n",
    "            # 변환이 불가능한 경우, 에러 메시지를 출력합니다.\n",
    "            self.result_label[\"text\"] = \"올바른 값을 입력하십시오.\"\n",
    "\n",
    "\n",
    "if __name__ == \"__main__\":\n",
    "    # 윈도우 생성\n",
    "    root = tk.Tk()\n",
    "    converter = Converter(root)\n",
    "\n",
    "    root.mainloop()\n"
   ]
  },
  {
   "cell_type": "code",
   "execution_count": 25,
   "metadata": {},
   "outputs": [
    {
     "name": "stderr",
     "output_type": "stream",
     "text": [
      "Downloading...\n",
      "From: https://bit.ly/3q9SZix\n",
      "To: /Users/macbook/Test/20s_best_book.json\n",
      "100%|██████████| 92.9k/92.9k [00:00<00:00, 950kB/s]\n"
     ]
    },
    {
     "data": {
      "text/plain": [
       "'20s_best_book.json'"
      ]
     },
     "execution_count": 25,
     "metadata": {},
     "output_type": "execute_result"
    }
   ],
   "source": [
    "import gdown\n",
    "\n",
    "gdown.download('https://bit.ly/3q9SZix', '20s_best_book.json', quiet=False)"
   ]
  },
  {
   "cell_type": "code",
   "execution_count": 27,
   "metadata": {},
   "outputs": [
    {
     "data": {
      "text/html": [
       "<div>\n",
       "<style scoped>\n",
       "    .dataframe tbody tr th:only-of-type {\n",
       "        vertical-align: middle;\n",
       "    }\n",
       "\n",
       "    .dataframe tbody tr th {\n",
       "        vertical-align: top;\n",
       "    }\n",
       "\n",
       "    .dataframe thead th {\n",
       "        text-align: right;\n",
       "    }\n",
       "</style>\n",
       "<table border=\"1\" class=\"dataframe\">\n",
       "  <thead>\n",
       "    <tr style=\"text-align: right;\">\n",
       "      <th></th>\n",
       "      <th>no</th>\n",
       "      <th>ranking</th>\n",
       "      <th>bookname</th>\n",
       "      <th>authors</th>\n",
       "      <th>publisher</th>\n",
       "      <th>publication_year</th>\n",
       "      <th>isbn13</th>\n",
       "      <th>addition_symbol</th>\n",
       "      <th>vol</th>\n",
       "      <th>class_no</th>\n",
       "      <th>class_nm</th>\n",
       "      <th>loan_count</th>\n",
       "      <th>bookImageURL</th>\n",
       "    </tr>\n",
       "  </thead>\n",
       "  <tbody>\n",
       "    <tr>\n",
       "      <th>0</th>\n",
       "      <td>1</td>\n",
       "      <td>1</td>\n",
       "      <td>우리가 빛의 속도로 갈 수 없다면 :김초엽 소설</td>\n",
       "      <td>지은이: 김초엽</td>\n",
       "      <td>허블</td>\n",
       "      <td>2019</td>\n",
       "      <td>9791190090018</td>\n",
       "      <td>03810</td>\n",
       "      <td></td>\n",
       "      <td>813.7</td>\n",
       "      <td>문학 &gt; 한국문학 &gt; 소설</td>\n",
       "      <td>461</td>\n",
       "      <td>https://image.aladin.co.kr/product/19359/16/co...</td>\n",
       "    </tr>\n",
       "    <tr>\n",
       "      <th>1</th>\n",
       "      <td>2</td>\n",
       "      <td>2</td>\n",
       "      <td>달러구트 꿈 백화점.이미예 장편소설</td>\n",
       "      <td>지은이: 이미예</td>\n",
       "      <td>팩토리나인</td>\n",
       "      <td>2020</td>\n",
       "      <td>9791165341909</td>\n",
       "      <td>03810</td>\n",
       "      <td></td>\n",
       "      <td>813.7</td>\n",
       "      <td>문학 &gt; 한국문학 &gt; 소설</td>\n",
       "      <td>387</td>\n",
       "      <td>https://image.aladin.co.kr/product/24512/70/co...</td>\n",
       "    </tr>\n",
       "    <tr>\n",
       "      <th>2</th>\n",
       "      <td>3</td>\n",
       "      <td>3</td>\n",
       "      <td>지구에서 한아뿐 :정세랑 장편소설</td>\n",
       "      <td>지은이: 정세랑</td>\n",
       "      <td>난다</td>\n",
       "      <td>2019</td>\n",
       "      <td>9791188862290</td>\n",
       "      <td>03810</td>\n",
       "      <td></td>\n",
       "      <td>813.7</td>\n",
       "      <td>문학 &gt; 한국문학 &gt; 소설</td>\n",
       "      <td>383</td>\n",
       "      <td>https://image.aladin.co.kr/product/19804/82/co...</td>\n",
       "    </tr>\n",
       "    <tr>\n",
       "      <th>3</th>\n",
       "      <td>4</td>\n",
       "      <td>4</td>\n",
       "      <td>시선으로부터, :정세랑 장편소설</td>\n",
       "      <td>지은이: 정세랑</td>\n",
       "      <td>문학동네</td>\n",
       "      <td>2020</td>\n",
       "      <td>9788954672214</td>\n",
       "      <td>03810</td>\n",
       "      <td></td>\n",
       "      <td>813.7</td>\n",
       "      <td>문학 &gt; 한국문학 &gt; 소설</td>\n",
       "      <td>370</td>\n",
       "      <td>https://image.aladin.co.kr/product/24131/37/co...</td>\n",
       "    </tr>\n",
       "    <tr>\n",
       "      <th>4</th>\n",
       "      <td>5</td>\n",
       "      <td>5</td>\n",
       "      <td>아몬드 :손원평 장편소설</td>\n",
       "      <td>지은이: 손원평</td>\n",
       "      <td>창비</td>\n",
       "      <td>2017</td>\n",
       "      <td>9788936434267</td>\n",
       "      <td>03810</td>\n",
       "      <td></td>\n",
       "      <td>813.7</td>\n",
       "      <td>문학 &gt; 한국문학 &gt; 소설</td>\n",
       "      <td>365</td>\n",
       "      <td>http://image.aladin.co.kr/product/16839/4/cove...</td>\n",
       "    </tr>\n",
       "    <tr>\n",
       "      <th>5</th>\n",
       "      <td>6</td>\n",
       "      <td>6</td>\n",
       "      <td>피프티 피플 :정세랑 장편소설</td>\n",
       "      <td>지은이: 정세랑</td>\n",
       "      <td>창비</td>\n",
       "      <td>2016</td>\n",
       "      <td>9788936434243</td>\n",
       "      <td>03810</td>\n",
       "      <td></td>\n",
       "      <td>813.7</td>\n",
       "      <td>문학 &gt; 한국문학 &gt; 소설</td>\n",
       "      <td>320</td>\n",
       "      <td>https://bookthumb-phinf.pstatic.net/cover/113/...</td>\n",
       "    </tr>\n",
       "    <tr>\n",
       "      <th>6</th>\n",
       "      <td>7</td>\n",
       "      <td>7</td>\n",
       "      <td>목소리를 드릴게요 :정세랑 소설집</td>\n",
       "      <td>지은이: 정세랑</td>\n",
       "      <td>아작</td>\n",
       "      <td>2020</td>\n",
       "      <td>9791165300005</td>\n",
       "      <td>03810</td>\n",
       "      <td></td>\n",
       "      <td>813.7</td>\n",
       "      <td>문학 &gt; 한국문학 &gt; 소설</td>\n",
       "      <td>319</td>\n",
       "      <td>https://image.aladin.co.kr/product/22246/11/co...</td>\n",
       "    </tr>\n",
       "    <tr>\n",
       "      <th>7</th>\n",
       "      <td>8</td>\n",
       "      <td>8</td>\n",
       "      <td>나미야 잡화점의 기적 :히가시노 게이고 장편소설</td>\n",
       "      <td>지은이: 히가시노 게이고 ;옮긴이: 양윤옥</td>\n",
       "      <td>현대문학</td>\n",
       "      <td>2012</td>\n",
       "      <td>9788972756194</td>\n",
       "      <td>03830</td>\n",
       "      <td></td>\n",
       "      <td>833.6</td>\n",
       "      <td>문학 &gt; 일본문학 &gt; 소설</td>\n",
       "      <td>312</td>\n",
       "      <td>http://image.aladin.co.kr/product/15848/6/cove...</td>\n",
       "    </tr>\n",
       "    <tr>\n",
       "      <th>8</th>\n",
       "      <td>9</td>\n",
       "      <td>9</td>\n",
       "      <td>선량한 차별주의자</td>\n",
       "      <td>김지혜 지음</td>\n",
       "      <td>창비</td>\n",
       "      <td>2019</td>\n",
       "      <td>9788936477196</td>\n",
       "      <td>03300</td>\n",
       "      <td></td>\n",
       "      <td>334.0</td>\n",
       "      <td>사회과학 &gt; 사회학, 사회문제 &gt; 사회문제</td>\n",
       "      <td>293</td>\n",
       "      <td>https://image.aladin.co.kr/product/19874/76/co...</td>\n",
       "    </tr>\n",
       "    <tr>\n",
       "      <th>9</th>\n",
       "      <td>10</td>\n",
       "      <td>9</td>\n",
       "      <td>쇼코의 미소 :최은영 소설</td>\n",
       "      <td>지은이: 최은영</td>\n",
       "      <td>문학동네</td>\n",
       "      <td>2016</td>\n",
       "      <td>9788954641630</td>\n",
       "      <td>03810</td>\n",
       "      <td></td>\n",
       "      <td>813.7</td>\n",
       "      <td>문학 &gt; 한국문학 &gt; 소설</td>\n",
       "      <td>293</td>\n",
       "      <td>https://bookthumb-phinf.pstatic.net/cover/107/...</td>\n",
       "    </tr>\n",
       "  </tbody>\n",
       "</table>\n",
       "</div>"
      ],
      "text/plain": [
       "   no  ranking                     bookname                  authors  \\\n",
       "0   1        1  우리가 빛의 속도로 갈 수 없다면 :김초엽 소설                  지은이: 김초엽   \n",
       "1   2        2         달러구트 꿈 백화점.이미예 장편소설                  지은이: 이미예   \n",
       "2   3        3          지구에서 한아뿐 :정세랑 장편소설                  지은이: 정세랑   \n",
       "3   4        4           시선으로부터, :정세랑 장편소설                  지은이: 정세랑   \n",
       "4   5        5               아몬드 :손원평 장편소설                  지은이: 손원평   \n",
       "5   6        6            피프티 피플 :정세랑 장편소설                  지은이: 정세랑   \n",
       "6   7        7          목소리를 드릴게요 :정세랑 소설집                  지은이: 정세랑   \n",
       "7   8        8  나미야 잡화점의 기적 :히가시노 게이고 장편소설   지은이: 히가시노 게이고 ;옮긴이: 양윤옥   \n",
       "8   9        9                   선량한 차별주의자                    김지혜 지음   \n",
       "9  10        9              쇼코의 미소 :최은영 소설                  지은이: 최은영   \n",
       "\n",
       "  publisher publication_year         isbn13 addition_symbol vol  class_no  \\\n",
       "0        허블             2019  9791190090018           03810         813.7   \n",
       "1     팩토리나인             2020  9791165341909           03810         813.7   \n",
       "2        난다             2019  9791188862290           03810         813.7   \n",
       "3      문학동네             2020  9788954672214           03810         813.7   \n",
       "4        창비             2017  9788936434267           03810         813.7   \n",
       "5        창비             2016  9788936434243           03810         813.7   \n",
       "6        아작             2020  9791165300005           03810         813.7   \n",
       "7      현대문학             2012  9788972756194           03830         833.6   \n",
       "8        창비             2019  9788936477196           03300         334.0   \n",
       "9      문학동네             2016  9788954641630           03810         813.7   \n",
       "\n",
       "                  class_nm  loan_count  \\\n",
       "0           문학 > 한국문학 > 소설         461   \n",
       "1           문학 > 한국문학 > 소설         387   \n",
       "2           문학 > 한국문학 > 소설         383   \n",
       "3           문학 > 한국문학 > 소설         370   \n",
       "4           문학 > 한국문학 > 소설         365   \n",
       "5           문학 > 한국문학 > 소설         320   \n",
       "6           문학 > 한국문학 > 소설         319   \n",
       "7           문학 > 일본문학 > 소설         312   \n",
       "8  사회과학 > 사회학, 사회문제 > 사회문제         293   \n",
       "9           문학 > 한국문학 > 소설         293   \n",
       "\n",
       "                                        bookImageURL  \n",
       "0  https://image.aladin.co.kr/product/19359/16/co...  \n",
       "1  https://image.aladin.co.kr/product/24512/70/co...  \n",
       "2  https://image.aladin.co.kr/product/19804/82/co...  \n",
       "3  https://image.aladin.co.kr/product/24131/37/co...  \n",
       "4  http://image.aladin.co.kr/product/16839/4/cove...  \n",
       "5  https://bookthumb-phinf.pstatic.net/cover/113/...  \n",
       "6  https://image.aladin.co.kr/product/22246/11/co...  \n",
       "7  http://image.aladin.co.kr/product/15848/6/cove...  \n",
       "8  https://image.aladin.co.kr/product/19874/76/co...  \n",
       "9  https://bookthumb-phinf.pstatic.net/cover/107/...  "
      ]
     },
     "execution_count": 27,
     "metadata": {},
     "output_type": "execute_result"
    }
   ],
   "source": [
    "import pandas as pd\n",
    "\n",
    "df = pd.read_json('20s_best_book.json')\n",
    "df.head(10)\n"
   ]
  },
  {
   "cell_type": "code",
   "execution_count": 29,
   "metadata": {},
   "outputs": [
    {
     "data": {
      "text/html": [
       "<div>\n",
       "<style scoped>\n",
       "    .dataframe tbody tr th:only-of-type {\n",
       "        vertical-align: middle;\n",
       "    }\n",
       "\n",
       "    .dataframe tbody tr th {\n",
       "        vertical-align: top;\n",
       "    }\n",
       "\n",
       "    .dataframe thead th {\n",
       "        text-align: right;\n",
       "    }\n",
       "</style>\n",
       "<table border=\"1\" class=\"dataframe\">\n",
       "  <thead>\n",
       "    <tr style=\"text-align: right;\">\n",
       "      <th></th>\n",
       "      <th>bookname</th>\n",
       "      <th>authors</th>\n",
       "      <th>publisher</th>\n",
       "      <th>publication_year</th>\n",
       "      <th>isbn13</th>\n",
       "      <th>addition_symbol</th>\n",
       "      <th>vol</th>\n",
       "      <th>class_no</th>\n",
       "    </tr>\n",
       "  </thead>\n",
       "  <tbody>\n",
       "    <tr>\n",
       "      <th>0</th>\n",
       "      <td>우리가 빛의 속도로 갈 수 없다면 :김초엽 소설</td>\n",
       "      <td>지은이: 김초엽</td>\n",
       "      <td>허블</td>\n",
       "      <td>2019</td>\n",
       "      <td>9791190090018</td>\n",
       "      <td>03810</td>\n",
       "      <td></td>\n",
       "      <td>813.70</td>\n",
       "    </tr>\n",
       "    <tr>\n",
       "      <th>2</th>\n",
       "      <td>지구에서 한아뿐 :정세랑 장편소설</td>\n",
       "      <td>지은이: 정세랑</td>\n",
       "      <td>난다</td>\n",
       "      <td>2019</td>\n",
       "      <td>9791188862290</td>\n",
       "      <td>03810</td>\n",
       "      <td></td>\n",
       "      <td>813.70</td>\n",
       "    </tr>\n",
       "    <tr>\n",
       "      <th>4</th>\n",
       "      <td>아몬드 :손원평 장편소설</td>\n",
       "      <td>지은이: 손원평</td>\n",
       "      <td>창비</td>\n",
       "      <td>2017</td>\n",
       "      <td>9788936434267</td>\n",
       "      <td>03810</td>\n",
       "      <td></td>\n",
       "      <td>813.70</td>\n",
       "    </tr>\n",
       "    <tr>\n",
       "      <th>6</th>\n",
       "      <td>목소리를 드릴게요 :정세랑 소설집</td>\n",
       "      <td>지은이: 정세랑</td>\n",
       "      <td>아작</td>\n",
       "      <td>2020</td>\n",
       "      <td>9791165300005</td>\n",
       "      <td>03810</td>\n",
       "      <td></td>\n",
       "      <td>813.70</td>\n",
       "    </tr>\n",
       "    <tr>\n",
       "      <th>8</th>\n",
       "      <td>선량한 차별주의자</td>\n",
       "      <td>김지혜 지음</td>\n",
       "      <td>창비</td>\n",
       "      <td>2019</td>\n",
       "      <td>9788936477196</td>\n",
       "      <td>03300</td>\n",
       "      <td></td>\n",
       "      <td>334.00</td>\n",
       "    </tr>\n",
       "    <tr>\n",
       "      <th>10</th>\n",
       "      <td>천 개의 파랑 :천선란 장편소설</td>\n",
       "      <td>지은이: 천선란</td>\n",
       "      <td>허블</td>\n",
       "      <td>2020</td>\n",
       "      <td>9791190090261</td>\n",
       "      <td>03810</td>\n",
       "      <td></td>\n",
       "      <td>813.70</td>\n",
       "    </tr>\n",
       "    <tr>\n",
       "      <th>12</th>\n",
       "      <td>공정하다는 착각 :능력주의는 모두에게 같은 기회를 제공하는가</td>\n",
       "      <td>마이클 샌델 지음 ;함규진 옮김</td>\n",
       "      <td>미래엔</td>\n",
       "      <td>2020</td>\n",
       "      <td>9791164136452</td>\n",
       "      <td>03300</td>\n",
       "      <td></td>\n",
       "      <td>332.60</td>\n",
       "    </tr>\n",
       "    <tr>\n",
       "      <th>14</th>\n",
       "      <td>내게 무해한 사람 :최은영 소설</td>\n",
       "      <td>지은이: 최은영</td>\n",
       "      <td>문학동네</td>\n",
       "      <td>2018</td>\n",
       "      <td>9788954651820</td>\n",
       "      <td>03810</td>\n",
       "      <td></td>\n",
       "      <td>813.70</td>\n",
       "    </tr>\n",
       "    <tr>\n",
       "      <th>16</th>\n",
       "      <td>(나를 숨 쉬게 하는) 보통의 언어들</td>\n",
       "      <td>김이나 지음</td>\n",
       "      <td>위즈덤하우스</td>\n",
       "      <td>2020</td>\n",
       "      <td>9791190786355</td>\n",
       "      <td>03810</td>\n",
       "      <td></td>\n",
       "      <td>818.00</td>\n",
       "    </tr>\n",
       "    <tr>\n",
       "      <th>18</th>\n",
       "      <td>나는 소망한다 내게 금지된 것을 :양귀자 장편소설</td>\n",
       "      <td>지은이: 양귀자</td>\n",
       "      <td>쓰다</td>\n",
       "      <td>2019</td>\n",
       "      <td>9788998441074</td>\n",
       "      <td>03810</td>\n",
       "      <td></td>\n",
       "      <td>813.62</td>\n",
       "    </tr>\n",
       "  </tbody>\n",
       "</table>\n",
       "</div>"
      ],
      "text/plain": [
       "                              bookname            authors publisher  \\\n",
       "0          우리가 빛의 속도로 갈 수 없다면 :김초엽 소설            지은이: 김초엽        허블   \n",
       "2                  지구에서 한아뿐 :정세랑 장편소설            지은이: 정세랑        난다   \n",
       "4                       아몬드 :손원평 장편소설            지은이: 손원평        창비   \n",
       "6                  목소리를 드릴게요 :정세랑 소설집            지은이: 정세랑        아작   \n",
       "8                           선량한 차별주의자              김지혜 지음        창비   \n",
       "10                  천 개의 파랑 :천선란 장편소설            지은이: 천선란        허블   \n",
       "12  공정하다는 착각 :능력주의는 모두에게 같은 기회를 제공하는가   마이클 샌델 지음 ;함규진 옮김       미래엔   \n",
       "14                  내게 무해한 사람 :최은영 소설            지은이: 최은영      문학동네   \n",
       "16               (나를 숨 쉬게 하는) 보통의 언어들              김이나 지음    위즈덤하우스   \n",
       "18        나는 소망한다 내게 금지된 것을 :양귀자 장편소설            지은이: 양귀자        쓰다   \n",
       "\n",
       "   publication_year         isbn13 addition_symbol vol  class_no  \n",
       "0              2019  9791190090018           03810        813.70  \n",
       "2              2019  9791188862290           03810        813.70  \n",
       "4              2017  9788936434267           03810        813.70  \n",
       "6              2020  9791165300005           03810        813.70  \n",
       "8              2019  9788936477196           03300        334.00  \n",
       "10             2020  9791190090261           03810        813.70  \n",
       "12             2020  9791164136452           03300        332.60  \n",
       "14             2018  9788954651820           03810        813.70  \n",
       "16             2020  9791190786355           03810        818.00  \n",
       "18             2019  9788998441074           03810        813.62  "
      ]
     },
     "execution_count": 29,
     "metadata": {},
     "output_type": "execute_result"
    }
   ],
   "source": [
    "df.loc[::2, 'bookname':'class_no'].head(10)"
   ]
  },
  {
   "cell_type": "markdown",
   "metadata": {},
   "source": []
  },
  {
   "cell_type": "code",
   "execution_count": 52,
   "metadata": {},
   "outputs": [
    {
     "name": "stderr",
     "output_type": "stream",
     "text": [
      "Downloading...\n",
      "From: https://bit.ly/3RhoNho\n",
      "To: /Users/macbook/Test/ns_202104.csv\n",
      "100%|██████████| 57.6M/57.6M [00:05<00:00, 10.8MB/s]\n"
     ]
    },
    {
     "data": {
      "text/plain": [
       "'ns_202104.csv'"
      ]
     },
     "execution_count": 52,
     "metadata": {},
     "output_type": "execute_result"
    }
   ],
   "source": [
    "import gdown\n",
    "\n",
    "gdown.download('https://bit.ly/3RhoNho','ns_202104.csv', quiet=False)"
   ]
  },
  {
   "cell_type": "code",
   "execution_count": 53,
   "metadata": {},
   "outputs": [
    {
     "name": "stderr",
     "output_type": "stream",
     "text": [
      "/var/folders/yy/lm16dbfs7d9czs9lgwns9jvh0000gn/T/ipykernel_27404/2419830985.py:1: DtypeWarning: Columns (5,6,9) have mixed types. Specify dtype option on import or set low_memory=False.\n",
      "  df = pd.read_csv('ns_202104.csv')\n"
     ]
    }
   ],
   "source": [
    "df = pd.read_csv('ns_202104.csv')"
   ]
  },
  {
   "cell_type": "code",
   "execution_count": 56,
   "metadata": {},
   "outputs": [
    {
     "name": "stdout",
     "output_type": "stream",
     "text": [
      "<class 'pandas.core.frame.DataFrame'>\n",
      "RangeIndex: 401682 entries, 0 to 401681\n",
      "Data columns (total 14 columns):\n",
      " #   Column       Non-Null Count   Dtype  \n",
      "---  ------       --------------   -----  \n",
      " 0   번호           401682 non-null  int64  \n",
      " 1   도서명          401279 non-null  object \n",
      " 2   저자           401481 non-null  object \n",
      " 3   출판사          396887 non-null  object \n",
      " 4   발행년도         401665 non-null  object \n",
      " 5   ISBN         401682 non-null  object \n",
      " 6   세트 ISBN      61871 non-null   object \n",
      " 7   부가기호         325034 non-null  object \n",
      " 8   권            68267 non-null   object \n",
      " 9   주제분류번호       381360 non-null  object \n",
      " 10  도서권수         401682 non-null  int64  \n",
      " 11  대출건수         401682 non-null  int64  \n",
      " 12  등록일자         401682 non-null  object \n",
      " 13  Unnamed: 13  0 non-null       float64\n",
      "dtypes: float64(1), int64(3), object(10)\n",
      "memory usage: 42.9+ MB\n"
     ]
    }
   ],
   "source": [
    "df.info()"
   ]
  },
  {
   "cell_type": "code",
   "execution_count": 58,
   "metadata": {},
   "outputs": [
    {
     "name": "stdout",
     "output_type": "stream",
     "text": [
      "[0 1 2 3 4 5 6 7 8 9]\n"
     ]
    }
   ],
   "source": [
    "import numpy as np\n",
    "\n",
    "A=np.arange(0,10,1)\n",
    "print(A)"
   ]
  },
  {
   "cell_type": "code",
   "execution_count": 61,
   "metadata": {},
   "outputs": [
    {
     "name": "stdout",
     "output_type": "stream",
     "text": [
      "[ 0.          0.20408163  0.40816327  0.6122449   0.81632653  1.02040816\n",
      "  1.2244898   1.42857143  1.63265306  1.83673469  2.04081633  2.24489796\n",
      "  2.44897959  2.65306122  2.85714286  3.06122449  3.26530612  3.46938776\n",
      "  3.67346939  3.87755102  4.08163265  4.28571429  4.48979592  4.69387755\n",
      "  4.89795918  5.10204082  5.30612245  5.51020408  5.71428571  5.91836735\n",
      "  6.12244898  6.32653061  6.53061224  6.73469388  6.93877551  7.14285714\n",
      "  7.34693878  7.55102041  7.75510204  7.95918367  8.16326531  8.36734694\n",
      "  8.57142857  8.7755102   8.97959184  9.18367347  9.3877551   9.59183673\n",
      "  9.79591837 10.        ]\n"
     ]
    }
   ],
   "source": [
    "B=np.linspace(0,10,50)\n",
    "C=np.linspace(10,20,50)\n",
    "print(B)"
   ]
  },
  {
   "cell_type": "code",
   "execution_count": 67,
   "metadata": {},
   "outputs": [
    {
     "data": {
      "text/html": [
       "<div>\n",
       "<style scoped>\n",
       "    .dataframe tbody tr th:only-of-type {\n",
       "        vertical-align: middle;\n",
       "    }\n",
       "\n",
       "    .dataframe tbody tr th {\n",
       "        vertical-align: top;\n",
       "    }\n",
       "\n",
       "    .dataframe thead th {\n",
       "        text-align: right;\n",
       "    }\n",
       "</style>\n",
       "<table border=\"1\" class=\"dataframe\">\n",
       "  <thead>\n",
       "    <tr style=\"text-align: right;\">\n",
       "      <th></th>\n",
       "      <th>0</th>\n",
       "      <th>1</th>\n",
       "    </tr>\n",
       "  </thead>\n",
       "  <tbody>\n",
       "    <tr>\n",
       "      <th>0</th>\n",
       "      <td>0.000000</td>\n",
       "      <td>10.000000</td>\n",
       "    </tr>\n",
       "    <tr>\n",
       "      <th>1</th>\n",
       "      <td>0.204082</td>\n",
       "      <td>10.204082</td>\n",
       "    </tr>\n",
       "    <tr>\n",
       "      <th>2</th>\n",
       "      <td>0.408163</td>\n",
       "      <td>10.408163</td>\n",
       "    </tr>\n",
       "    <tr>\n",
       "      <th>3</th>\n",
       "      <td>0.612245</td>\n",
       "      <td>10.612245</td>\n",
       "    </tr>\n",
       "    <tr>\n",
       "      <th>4</th>\n",
       "      <td>0.816327</td>\n",
       "      <td>10.816327</td>\n",
       "    </tr>\n",
       "    <tr>\n",
       "      <th>5</th>\n",
       "      <td>1.020408</td>\n",
       "      <td>11.020408</td>\n",
       "    </tr>\n",
       "    <tr>\n",
       "      <th>6</th>\n",
       "      <td>1.224490</td>\n",
       "      <td>11.224490</td>\n",
       "    </tr>\n",
       "    <tr>\n",
       "      <th>7</th>\n",
       "      <td>1.428571</td>\n",
       "      <td>11.428571</td>\n",
       "    </tr>\n",
       "    <tr>\n",
       "      <th>8</th>\n",
       "      <td>1.632653</td>\n",
       "      <td>11.632653</td>\n",
       "    </tr>\n",
       "    <tr>\n",
       "      <th>9</th>\n",
       "      <td>1.836735</td>\n",
       "      <td>11.836735</td>\n",
       "    </tr>\n",
       "  </tbody>\n",
       "</table>\n",
       "</div>"
      ],
      "text/plain": [
       "          0          1\n",
       "0  0.000000  10.000000\n",
       "1  0.204082  10.204082\n",
       "2  0.408163  10.408163\n",
       "3  0.612245  10.612245\n",
       "4  0.816327  10.816327\n",
       "5  1.020408  11.020408\n",
       "6  1.224490  11.224490\n",
       "7  1.428571  11.428571\n",
       "8  1.632653  11.632653\n",
       "9  1.836735  11.836735"
      ]
     },
     "metadata": {},
     "output_type": "display_data"
    }
   ],
   "source": [
    "import pandas as pd\n",
    "\n",
    "D=pd.DataFrame([B,C])\n",
    "display(D.T.head(10))"
   ]
  },
  {
   "cell_type": "code",
   "execution_count": 64,
   "metadata": {},
   "outputs": [
    {
     "data": {
      "text/plain": [
       "array([ 0.        ,  0.20408163,  0.40816327,  0.6122449 ,  0.81632653,\n",
       "        1.02040816,  1.2244898 ,  1.42857143,  1.63265306,  1.83673469,\n",
       "        2.04081633,  2.24489796,  2.44897959,  2.65306122,  2.85714286,\n",
       "        3.06122449,  3.26530612,  3.46938776,  3.67346939,  3.87755102,\n",
       "        4.08163265,  4.28571429,  4.48979592,  4.69387755,  4.89795918,\n",
       "        5.10204082,  5.30612245,  5.51020408,  5.71428571,  5.91836735,\n",
       "        6.12244898,  6.32653061,  6.53061224,  6.73469388,  6.93877551,\n",
       "        7.14285714,  7.34693878,  7.55102041,  7.75510204,  7.95918367,\n",
       "        8.16326531,  8.36734694,  8.57142857,  8.7755102 ,  8.97959184,\n",
       "        9.18367347,  9.3877551 ,  9.59183673,  9.79591837, 10.        ])"
      ]
     },
     "execution_count": 64,
     "metadata": {},
     "output_type": "execute_result"
    }
   ],
   "source": [
    "B.T"
   ]
  },
  {
   "cell_type": "code",
   "execution_count": 73,
   "metadata": {},
   "outputs": [
    {
     "data": {
      "text/plain": [
       "dtype('S1')"
      ]
     },
     "execution_count": 73,
     "metadata": {},
     "output_type": "execute_result"
    }
   ],
   "source": [
    "B.astype('c').dtype"
   ]
  },
  {
   "cell_type": "code",
   "execution_count": 78,
   "metadata": {},
   "outputs": [
    {
     "ename": "TypeError",
     "evalue": "only size-1 arrays can be converted to Python scalars",
     "output_type": "error",
     "traceback": [
      "\u001b[0;31m---------------------------------------------------------------------------\u001b[0m",
      "\u001b[0;31mTypeError\u001b[0m                                 Traceback (most recent call last)",
      "Cell \u001b[0;32mIn[78], line 1\u001b[0m\n\u001b[0;32m----> 1\u001b[0m \u001b[39mint\u001b[39;49m(B)\u001b[39m.\u001b[39mcumsum()\n",
      "\u001b[0;31mTypeError\u001b[0m: only size-1 arrays can be converted to Python scalars"
     ]
    }
   ],
   "source": [
    "int(B).cumsum()"
   ]
  },
  {
   "cell_type": "code",
   "execution_count": 107,
   "metadata": {},
   "outputs": [
    {
     "data": {
      "image/png": "[encoded data removed]",
      "text/plain": [
       "<Figure size 640x480 with 1 Axes>"
      ]
     },
     "metadata": {},
     "output_type": "display_data"
    }
   ],
   "source": [
    "import matplotlib.pyplot as plt\n",
    "\n",
    "plt.plot(B,C,C,B,'-.kx')\n",
    "plt.show()"
   ]
  },
  {
   "cell_type": "code",
   "execution_count": null,
   "metadata": {},
   "outputs": [],
   "source": []
  }
 ],
 "metadata": {
  "kernelspec": {
   "display_name": "pythonProject2",
   "language": "python",
   "name": "python3"
  },
  "language_info": {
   "codemirror_mode": {
    "name": "ipython",
    "version": 3
   },
   "file_extension": ".py",
   "mimetype": "text/x-python",
   "name": "python",
   "nbconvert_exporter": "python",
   "pygments_lexer": "ipython3",
   "version": "3.10.9"
  },
  "orig_nbformat": 4
 },
 "nbformat": 4,
 "nbformat_minor": 2
}
